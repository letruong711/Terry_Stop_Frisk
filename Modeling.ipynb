{
 "cells": [
  {
   "cell_type": "markdown",
   "metadata": {},
   "source": [
    "# Step 3: Test, Train, Split, OneHotEncode, Model Function, GridSearch."
   ]
  },
  {
   "cell_type": "markdown",
   "metadata": {},
   "source": [
    "## Preprocessing"
   ]
  },
  {
   "cell_type": "code",
   "execution_count": 45,
   "metadata": {},
   "outputs": [],
   "source": [
    "import pandas as pd\n",
    "import numpy as np\n",
    "from datetime import datetime\n",
    "import datetime as dt\n",
    "\n",
    "import matplotlib.pyplot as plt\n",
    "import seaborn as sns\n",
    "import matplotlib.dates as mdates\n",
    "from sklearn.linear_model import LinearRegression\n",
    "from sklearn.model_selection import train_test_split\n",
    "from matplotlib import dates as mpl_dates\n",
    "from sklearn.linear_model import LogisticRegression\n",
    "from sklearn.neighbors import KNeighborsClassifier\n",
    "from sklearn.svm import SVC\n",
    "from sklearn.svm import SVC\n",
    "from sklearn.naive_bayes import GaussianNB\n",
    "from sklearn.ensemble import RandomForestClassifier\n",
    "from sklearn.tree import DecisionTreeClassifier\n",
    "from sklearn.metrics import plot_confusion_matrix, classification_report\n",
    "from sklearn.model_selection import GridSearchCV, cross_val_score, ShuffleSplit\n",
    "from sklearn.model_selection import GridSearchCV\n",
    "from sklearn import decomposition\n",
    "from sklearn.pipeline import Pipeline\n",
    "from sklearn import tree"
   ]
  },
  {
   "cell_type": "code",
   "execution_count": 46,
   "metadata": {},
   "outputs": [],
   "source": [
    "df = pd.read_csv('data/cleaned_data')"
   ]
  },
  {
   "cell_type": "code",
   "execution_count": 47,
   "metadata": {},
   "outputs": [
    {
     "data": {
      "text/html": [
       "<div>\n",
       "<style scoped>\n",
       "    .dataframe tbody tr th:only-of-type {\n",
       "        vertical-align: middle;\n",
       "    }\n",
       "\n",
       "    .dataframe tbody tr th {\n",
       "        vertical-align: top;\n",
       "    }\n",
       "\n",
       "    .dataframe thead th {\n",
       "        text-align: right;\n",
       "    }\n",
       "</style>\n",
       "<table border=\"1\" class=\"dataframe\">\n",
       "  <thead>\n",
       "    <tr style=\"text-align: right;\">\n",
       "      <th></th>\n",
       "      <th>date</th>\n",
       "      <th>officer_id</th>\n",
       "      <th>officer_age</th>\n",
       "      <th>officer_race</th>\n",
       "      <th>officer_gender</th>\n",
       "      <th>officer_squad</th>\n",
       "      <th>subject_id</th>\n",
       "      <th>subject_age</th>\n",
       "      <th>subject_race</th>\n",
       "      <th>subject_gender</th>\n",
       "      <th>stop_resolution</th>\n",
       "      <th>weapon_type</th>\n",
       "      <th>initial_call_type</th>\n",
       "      <th>call_type</th>\n",
       "      <th>arrest</th>\n",
       "      <th>frisk</th>\n",
       "      <th>precinct</th>\n",
       "      <th>sector</th>\n",
       "      <th>beat</th>\n",
       "    </tr>\n",
       "  </thead>\n",
       "  <tbody>\n",
       "    <tr>\n",
       "      <th>0</th>\n",
       "      <td>2015-10-16</td>\n",
       "      <td>7500</td>\n",
       "      <td>31</td>\n",
       "      <td>Black or African American</td>\n",
       "      <td>M</td>\n",
       "      <td>SOUTH PCT 1ST W - ROBERT</td>\n",
       "      <td>-1</td>\n",
       "      <td>NaN</td>\n",
       "      <td>Asian</td>\n",
       "      <td>Male</td>\n",
       "      <td>Arrest</td>\n",
       "      <td>None</td>\n",
       "      <td>NaN</td>\n",
       "      <td>NaN</td>\n",
       "      <td>0</td>\n",
       "      <td>0</td>\n",
       "      <td>South</td>\n",
       "      <td>O</td>\n",
       "      <td>O2</td>\n",
       "    </tr>\n",
       "    <tr>\n",
       "      <th>1</th>\n",
       "      <td>2015-04-03</td>\n",
       "      <td>6973</td>\n",
       "      <td>38</td>\n",
       "      <td>White</td>\n",
       "      <td>M</td>\n",
       "      <td>NaN</td>\n",
       "      <td>-1</td>\n",
       "      <td>NaN</td>\n",
       "      <td>Black or African American</td>\n",
       "      <td>Male</td>\n",
       "      <td>Field Contact</td>\n",
       "      <td>None</td>\n",
       "      <td>NaN</td>\n",
       "      <td>NaN</td>\n",
       "      <td>0</td>\n",
       "      <td>0</td>\n",
       "      <td>NaN</td>\n",
       "      <td>NaN</td>\n",
       "      <td>NaN</td>\n",
       "    </tr>\n",
       "    <tr>\n",
       "      <th>2</th>\n",
       "      <td>2015-04-05</td>\n",
       "      <td>7402</td>\n",
       "      <td>42</td>\n",
       "      <td>White</td>\n",
       "      <td>M</td>\n",
       "      <td>NaN</td>\n",
       "      <td>-1</td>\n",
       "      <td>NaN</td>\n",
       "      <td>Black or African American</td>\n",
       "      <td>Male</td>\n",
       "      <td>Field Contact</td>\n",
       "      <td>None</td>\n",
       "      <td>NaN</td>\n",
       "      <td>NaN</td>\n",
       "      <td>0</td>\n",
       "      <td>0</td>\n",
       "      <td>NaN</td>\n",
       "      <td>NaN</td>\n",
       "      <td>NaN</td>\n",
       "    </tr>\n",
       "    <tr>\n",
       "      <th>3</th>\n",
       "      <td>2015-05-20</td>\n",
       "      <td>7591</td>\n",
       "      <td>30</td>\n",
       "      <td>Hispanic or Latino</td>\n",
       "      <td>M</td>\n",
       "      <td>WEST PCT 3RD W - MARY</td>\n",
       "      <td>-1</td>\n",
       "      <td>NaN</td>\n",
       "      <td>Other</td>\n",
       "      <td>Female</td>\n",
       "      <td>Field Contact</td>\n",
       "      <td>None</td>\n",
       "      <td>NaN</td>\n",
       "      <td>NaN</td>\n",
       "      <td>0</td>\n",
       "      <td>0</td>\n",
       "      <td>NaN</td>\n",
       "      <td>NaN</td>\n",
       "      <td>NaN</td>\n",
       "    </tr>\n",
       "    <tr>\n",
       "      <th>4</th>\n",
       "      <td>2015-05-20</td>\n",
       "      <td>7591</td>\n",
       "      <td>30</td>\n",
       "      <td>Hispanic or Latino</td>\n",
       "      <td>M</td>\n",
       "      <td>WEST PCT 3RD W - MARY</td>\n",
       "      <td>-1</td>\n",
       "      <td>NaN</td>\n",
       "      <td>White</td>\n",
       "      <td>Male</td>\n",
       "      <td>Field Contact</td>\n",
       "      <td>None</td>\n",
       "      <td>NaN</td>\n",
       "      <td>NaN</td>\n",
       "      <td>0</td>\n",
       "      <td>0</td>\n",
       "      <td>NaN</td>\n",
       "      <td>NaN</td>\n",
       "      <td>NaN</td>\n",
       "    </tr>\n",
       "    <tr>\n",
       "      <th>...</th>\n",
       "      <td>...</td>\n",
       "      <td>...</td>\n",
       "      <td>...</td>\n",
       "      <td>...</td>\n",
       "      <td>...</td>\n",
       "      <td>...</td>\n",
       "      <td>...</td>\n",
       "      <td>...</td>\n",
       "      <td>...</td>\n",
       "      <td>...</td>\n",
       "      <td>...</td>\n",
       "      <td>...</td>\n",
       "      <td>...</td>\n",
       "      <td>...</td>\n",
       "      <td>...</td>\n",
       "      <td>...</td>\n",
       "      <td>...</td>\n",
       "      <td>...</td>\n",
       "      <td>...</td>\n",
       "    </tr>\n",
       "    <tr>\n",
       "      <th>46153</th>\n",
       "      <td>2019-07-17</td>\n",
       "      <td>8633</td>\n",
       "      <td>31</td>\n",
       "      <td>Black or African American</td>\n",
       "      <td>M</td>\n",
       "      <td>TRAINING - FIELD TRAINING SQUAD</td>\n",
       "      <td>25974371966</td>\n",
       "      <td>56 and Above</td>\n",
       "      <td>Black or African American</td>\n",
       "      <td>Male</td>\n",
       "      <td>Arrest</td>\n",
       "      <td>NaN</td>\n",
       "      <td>SHOPLIFT - THEFT</td>\n",
       "      <td>911</td>\n",
       "      <td>1</td>\n",
       "      <td>0</td>\n",
       "      <td>East</td>\n",
       "      <td>E</td>\n",
       "      <td>E2</td>\n",
       "    </tr>\n",
       "    <tr>\n",
       "      <th>46154</th>\n",
       "      <td>2019-09-22</td>\n",
       "      <td>8616</td>\n",
       "      <td>33</td>\n",
       "      <td>White</td>\n",
       "      <td>M</td>\n",
       "      <td>WEST PCT 3RD W - KING</td>\n",
       "      <td>25974371966</td>\n",
       "      <td>56 and Above</td>\n",
       "      <td>Black or African American</td>\n",
       "      <td>Male</td>\n",
       "      <td>Offense Report</td>\n",
       "      <td>NaN</td>\n",
       "      <td>BURG - COMM BURGLARY (INCLUDES SCHOOLS)</td>\n",
       "      <td>ALARM CALL (NOT POLICE ALARM)</td>\n",
       "      <td>0</td>\n",
       "      <td>0</td>\n",
       "      <td>NaN</td>\n",
       "      <td>NaN</td>\n",
       "      <td>NaN</td>\n",
       "    </tr>\n",
       "    <tr>\n",
       "      <th>46155</th>\n",
       "      <td>2019-11-08</td>\n",
       "      <td>7769</td>\n",
       "      <td>50</td>\n",
       "      <td>White</td>\n",
       "      <td>M</td>\n",
       "      <td>WEST PCT 1ST W - KING/QUEEN</td>\n",
       "      <td>25974371966</td>\n",
       "      <td>56 and Above</td>\n",
       "      <td>Black or African American</td>\n",
       "      <td>Male</td>\n",
       "      <td>Offense Report</td>\n",
       "      <td>NaN</td>\n",
       "      <td>PURSE SNATCH - ROBBERY</td>\n",
       "      <td>ONVIEW</td>\n",
       "      <td>0</td>\n",
       "      <td>0</td>\n",
       "      <td>West</td>\n",
       "      <td>K</td>\n",
       "      <td>K3</td>\n",
       "    </tr>\n",
       "    <tr>\n",
       "      <th>46156</th>\n",
       "      <td>2020-12-26</td>\n",
       "      <td>6799</td>\n",
       "      <td>44</td>\n",
       "      <td>Hispanic or Latino</td>\n",
       "      <td>M</td>\n",
       "      <td>WEST PCT 2ND W - SPECIAL BEATS</td>\n",
       "      <td>25974371966</td>\n",
       "      <td>56 and Above</td>\n",
       "      <td>Black or African American</td>\n",
       "      <td>Male</td>\n",
       "      <td>Field Contact</td>\n",
       "      <td>NaN</td>\n",
       "      <td>SHOPLIFT - THEFT</td>\n",
       "      <td>911</td>\n",
       "      <td>0</td>\n",
       "      <td>0</td>\n",
       "      <td>West</td>\n",
       "      <td>K</td>\n",
       "      <td>K1</td>\n",
       "    </tr>\n",
       "    <tr>\n",
       "      <th>46157</th>\n",
       "      <td>2021-07-28</td>\n",
       "      <td>8348</td>\n",
       "      <td>33</td>\n",
       "      <td>White</td>\n",
       "      <td>M</td>\n",
       "      <td>CRG - SQUAD 81B</td>\n",
       "      <td>26523685710</td>\n",
       "      <td>56 and Above</td>\n",
       "      <td>White</td>\n",
       "      <td>Male</td>\n",
       "      <td>Field Contact</td>\n",
       "      <td>NaN</td>\n",
       "      <td>SHOTS - IP/JO - INCLUDES HEARD/NO ASSAULT</td>\n",
       "      <td>911</td>\n",
       "      <td>0</td>\n",
       "      <td>0</td>\n",
       "      <td>West</td>\n",
       "      <td>Q</td>\n",
       "      <td>Q3</td>\n",
       "    </tr>\n",
       "  </tbody>\n",
       "</table>\n",
       "<p>46158 rows × 19 columns</p>\n",
       "</div>"
      ],
      "text/plain": [
       "             date  officer_id  officer_age               officer_race  \\\n",
       "0      2015-10-16        7500           31  Black or African American   \n",
       "1      2015-04-03        6973           38                      White   \n",
       "2      2015-04-05        7402           42                      White   \n",
       "3      2015-05-20        7591           30         Hispanic or Latino   \n",
       "4      2015-05-20        7591           30         Hispanic or Latino   \n",
       "...           ...         ...          ...                        ...   \n",
       "46153  2019-07-17        8633           31  Black or African American   \n",
       "46154  2019-09-22        8616           33                      White   \n",
       "46155  2019-11-08        7769           50                      White   \n",
       "46156  2020-12-26        6799           44         Hispanic or Latino   \n",
       "46157  2021-07-28        8348           33                      White   \n",
       "\n",
       "      officer_gender                    officer_squad   subject_id  \\\n",
       "0                  M         SOUTH PCT 1ST W - ROBERT           -1   \n",
       "1                  M                              NaN           -1   \n",
       "2                  M                              NaN           -1   \n",
       "3                  M            WEST PCT 3RD W - MARY           -1   \n",
       "4                  M            WEST PCT 3RD W - MARY           -1   \n",
       "...              ...                              ...          ...   \n",
       "46153              M  TRAINING - FIELD TRAINING SQUAD  25974371966   \n",
       "46154              M            WEST PCT 3RD W - KING  25974371966   \n",
       "46155              M      WEST PCT 1ST W - KING/QUEEN  25974371966   \n",
       "46156              M   WEST PCT 2ND W - SPECIAL BEATS  25974371966   \n",
       "46157              M                  CRG - SQUAD 81B  26523685710   \n",
       "\n",
       "        subject_age               subject_race subject_gender stop_resolution  \\\n",
       "0               NaN                      Asian           Male          Arrest   \n",
       "1               NaN  Black or African American           Male   Field Contact   \n",
       "2               NaN  Black or African American           Male   Field Contact   \n",
       "3               NaN                      Other         Female   Field Contact   \n",
       "4               NaN                      White           Male   Field Contact   \n",
       "...             ...                        ...            ...             ...   \n",
       "46153  56 and Above  Black or African American           Male          Arrest   \n",
       "46154  56 and Above  Black or African American           Male  Offense Report   \n",
       "46155  56 and Above  Black or African American           Male  Offense Report   \n",
       "46156  56 and Above  Black or African American           Male   Field Contact   \n",
       "46157  56 and Above                      White           Male   Field Contact   \n",
       "\n",
       "      weapon_type                          initial_call_type  \\\n",
       "0            None                                        NaN   \n",
       "1            None                                        NaN   \n",
       "2            None                                        NaN   \n",
       "3            None                                        NaN   \n",
       "4            None                                        NaN   \n",
       "...           ...                                        ...   \n",
       "46153         NaN                           SHOPLIFT - THEFT   \n",
       "46154         NaN    BURG - COMM BURGLARY (INCLUDES SCHOOLS)   \n",
       "46155         NaN                     PURSE SNATCH - ROBBERY   \n",
       "46156         NaN                           SHOPLIFT - THEFT   \n",
       "46157         NaN  SHOTS - IP/JO - INCLUDES HEARD/NO ASSAULT   \n",
       "\n",
       "                           call_type  arrest  frisk precinct  sector    beat  \n",
       "0                                NaN       0      0    South  O       O2      \n",
       "1                                NaN       0      0      NaN     NaN     NaN  \n",
       "2                                NaN       0      0      NaN     NaN     NaN  \n",
       "3                                NaN       0      0      NaN     NaN     NaN  \n",
       "4                                NaN       0      0      NaN     NaN     NaN  \n",
       "...                              ...     ...    ...      ...     ...     ...  \n",
       "46153                            911       1      0     East       E      E2  \n",
       "46154  ALARM CALL (NOT POLICE ALARM)       0      0      NaN     NaN     NaN  \n",
       "46155                         ONVIEW       0      0     West       K      K3  \n",
       "46156                            911       0      0     West       K      K1  \n",
       "46157                            911       0      0     West       Q      Q3  \n",
       "\n",
       "[46158 rows x 19 columns]"
      ]
     },
     "execution_count": 47,
     "metadata": {},
     "output_type": "execute_result"
    }
   ],
   "source": [
    "df"
   ]
  },
  {
   "cell_type": "code",
   "execution_count": 48,
   "metadata": {},
   "outputs": [
    {
     "name": "stdout",
     "output_type": "stream",
     "text": [
      "<class 'pandas.core.frame.DataFrame'>\n",
      "RangeIndex: 46158 entries, 0 to 46157\n",
      "Data columns (total 19 columns):\n",
      " #   Column             Non-Null Count  Dtype \n",
      "---  ------             --------------  ----- \n",
      " 0   date               46158 non-null  object\n",
      " 1   officer_id         46158 non-null  int64 \n",
      " 2   officer_age        46158 non-null  int64 \n",
      " 3   officer_race       46158 non-null  object\n",
      " 4   officer_gender     46158 non-null  object\n",
      " 5   officer_squad      45613 non-null  object\n",
      " 6   subject_id         46158 non-null  int64 \n",
      " 7   subject_age        45114 non-null  object\n",
      " 8   subject_race       46158 non-null  object\n",
      " 9   subject_gender     46158 non-null  object\n",
      " 10  stop_resolution    46158 non-null  object\n",
      " 11  weapon_type        34275 non-null  object\n",
      " 12  initial_call_type  33482 non-null  object\n",
      " 13  call_type          33482 non-null  object\n",
      " 14  arrest             46158 non-null  int64 \n",
      " 15  frisk              46158 non-null  int64 \n",
      " 16  precinct           36700 non-null  object\n",
      " 17  sector             36514 non-null  object\n",
      " 18  beat               36564 non-null  object\n",
      "dtypes: int64(5), object(14)\n",
      "memory usage: 6.7+ MB\n"
     ]
    }
   ],
   "source": [
    "df.info()"
   ]
  },
  {
   "cell_type": "markdown",
   "metadata": {},
   "source": [
    "### Splitting Data Set into X and Y"
   ]
  },
  {
   "cell_type": "code",
   "execution_count": 49,
   "metadata": {},
   "outputs": [],
   "source": [
    "#isolate columns wanted to compare with frisk\n",
    "frisk_columns = ['officer_age', 'officer_race', 'officer_gender', 'subject_race', 'subject_gender']\n",
    "\n",
    "#Establish X and y\n",
    "y = df['frisk']\n",
    "X = df[frisk_columns] \n",
    "\n",
    "#Split into training and test sets\n",
    "X_train, X_test, y_train, y_test = train_test_split(X, y, test_size=0.2, random_state=0)\n",
    "\n",
    "#Remove 'object'-type features from X\n",
    "cont_features = [col for col in X.columns if X[col].dtype in [np.float64, np.int64]]\n",
    "\n",
    "# Remove \"object\"-type features from X_train and X_test\n",
    "X_train_cont = X_train.loc[:, cont_features]\n",
    "X_test_cont = X_test.loc[:, cont_features]"
   ]
  },
  {
   "cell_type": "code",
   "execution_count": 50,
   "metadata": {
    "scrolled": false
   },
   "outputs": [
    {
     "name": "stdout",
     "output_type": "stream",
     "text": [
      "(46158,)\n",
      "(46158, 5)\n"
     ]
    }
   ],
   "source": [
    "print(y.shape)\n",
    "print(X.shape)"
   ]
  },
  {
   "cell_type": "markdown",
   "metadata": {},
   "source": [
    "### Imputing, Scaling, Encoding "
   ]
  },
  {
   "cell_type": "code",
   "execution_count": 51,
   "metadata": {},
   "outputs": [],
   "source": [
    "from sklearn.metrics import mean_squared_error, mean_squared_log_error\n",
    "from sklearn.linear_model import LinearRegression\n",
    "from sklearn.impute import SimpleImputer\n",
    "\n",
    "# Impute missing values with median using SimpleImputer\n",
    "impute = SimpleImputer(strategy='median')\n",
    "X_train_imputed = impute.fit_transform(X_train_cont)\n",
    "X_test_imputed = impute.transform(X_test_cont)"
   ]
  },
  {
   "cell_type": "code",
   "execution_count": 52,
   "metadata": {},
   "outputs": [],
   "source": [
    "#normalize our data\n",
    "from sklearn import preprocessing\n",
    "from sklearn.preprocessing import StandardScaler\n",
    "\n",
    "# Scale the train and test data\n",
    "ss = StandardScaler()\n",
    "X_train_imputed_scaled = ss.fit_transform(X_train_imputed)\n",
    "X_test_imputed_scaled = ss.transform(X_test_imputed)"
   ]
  },
  {
   "cell_type": "code",
   "execution_count": 53,
   "metadata": {},
   "outputs": [],
   "source": [
    "# Create X_cat which contains only the categorical variables\n",
    "features_cat = [col for col in X.columns if X[col].dtype in [np.object]]\n",
    "X_train_cat = X_train.loc[:, features_cat]\n",
    "X_test_cat = X_test.loc[:, features_cat]\n",
    "\n",
    "# Fill missing values with the string 'missing'\n",
    "X_train_cat.fillna(value='missing', inplace=True)\n",
    "X_test_cat.fillna(value='missing', inplace=True)"
   ]
  },
  {
   "cell_type": "code",
   "execution_count": 54,
   "metadata": {},
   "outputs": [],
   "source": [
    "from sklearn.preprocessing import OneHotEncoder\n",
    "\n",
    "# OneHotEncode categorical variables\n",
    "ohe = OneHotEncoder(handle_unknown='ignore')\n",
    "\n",
    "# Transform training and test sets\n",
    "X_train_ohe = ohe.fit_transform(X_train_cat)\n",
    "X_test_ohe = ohe.transform(X_test_cat)\n",
    "\n",
    "# Convert these columns into a DataFrame \n",
    "columns = ohe.get_feature_names(input_features=X_train_cat.columns)\n",
    "cat_train_df = pd.DataFrame(X_train_ohe.todense(), columns=columns)\n",
    "cat_test_df = pd.DataFrame(X_test_ohe.todense(), columns=columns)"
   ]
  },
  {
   "cell_type": "code",
   "execution_count": 55,
   "metadata": {},
   "outputs": [],
   "source": [
    "#combining all the X_train categorial and continuous data\n",
    "X_train_all = pd.concat([pd.DataFrame(X_train_imputed_scaled), cat_train_df], axis=1)\n",
    "X_test_all = pd.concat([pd.DataFrame(X_test_imputed_scaled), cat_test_df], axis=1)"
   ]
  },
  {
   "cell_type": "markdown",
   "metadata": {},
   "source": [
    "## Running our X_train, y_train through Machine Learning Function"
   ]
  },
  {
   "cell_type": "code",
   "execution_count": 56,
   "metadata": {},
   "outputs": [],
   "source": [
    "#Create a function within many Machine Learning Models for train data\n",
    "\n",
    "def models(X_train_all, y_train):\n",
    "    \n",
    "    #Using Logistic Regression Algorithm to the Training Set\n",
    "    log = LogisticRegression(random_state = 0, max_iter = 50000)\n",
    "    log.fit(X_train_all, y_train)\n",
    "    \n",
    "    \n",
    "    #Using KNeighborsClassifier Method of neighbors class to use Nearest Neighbor algorithm\n",
    "    knn = KNeighborsClassifier(n_neighbors = 5, metric = 'minkowski', p = 2)\n",
    "    knn.fit(X_train_all, y_train)\n",
    "    \n",
    "\n",
    "    #Using SVC method of svm class to use Support Vector Machine Algorithm\n",
    "    svc_lin = SVC(kernel = 'linear', random_state = 0)\n",
    "    svc_lin.fit(X_train_all, y_train)\n",
    "    \n",
    "    #Using SVC method of svm class to use Kernel SVM Algorithm\n",
    "    svc_rbf = SVC(kernel = 'rbf', random_state = 0)\n",
    "    svc_rbf.fit(X_train_all, y_train)\n",
    "    \n",
    "    \n",
    "    #Using GaussianNB method of naïve_bayes class to use Naïve Bayes Algorithm\n",
    "    gauss = GaussianNB()\n",
    "    gauss.fit(X_train_all, y_train)\n",
    "\n",
    "    #Using DecisionTreeClassifier of tree class to use Decision Tree Algorithm\n",
    "    tree = DecisionTreeClassifier(criterion = 'entropy', random_state = 0)\n",
    "    tree.fit(X_train_all, y_train)\n",
    "    \n",
    "    #Using RandomForestClassifier method of ensemble class to use Random Forest Classification algorithm\n",
    "    forest = RandomForestClassifier(n_estimators = 10, criterion = 'entropy', random_state = 0)\n",
    "    forest.fit(X_train_all, y_train)\n",
    "    \n",
    "    print('[0]Logistic Regression Training Accuracy:', log.score(X_train_all, y_train))\n",
    "    print('[1]K Nearest Neighbor Training Accuracy:', knn.score(X_train_all, y_train))\n",
    "    print('[2]Support Vector Machine (Linear Classifier) Training Accuracy:', svc_lin.score(X_train_all, y_train))\n",
    "    print('[3]Support Vector Machine (RBF Classifier) Training Accuracy:', svc_rbf.score(X_train_all, y_train))\n",
    "    print('[4]Gaussian Naive Bayes Training Accuracy:', gauss.score(X_train_all, y_train))\n",
    "    print('[5]Decision Tree Classifier Training Accuracy:', tree.score(X_train_all, y_train))\n",
    "    print('[6]Random Forest Classifier Training Accuracy:', forest.score(X_train_all, y_train))\n",
    "    \n",
    "    return"
   ]
  },
  {
   "cell_type": "code",
   "execution_count": 57,
   "metadata": {
    "scrolled": true
   },
   "outputs": [
    {
     "name": "stdout",
     "output_type": "stream",
     "text": [
      "[0]Logistic Regression Training Accuracy: 0.7711910307100688\n",
      "[1]K Nearest Neighbor Training Accuracy: 0.733548177435953\n",
      "[2]Support Vector Machine (Linear Classifier) Training Accuracy: 0.7711910307100688\n",
      "[3]Support Vector Machine (RBF Classifier) Training Accuracy: 0.7711910307100688\n",
      "[4]Gaussian Naive Bayes Training Accuracy: 0.6615934571846396\n",
      "[5]Decision Tree Classifier Training Accuracy: 0.7826463738287386\n",
      "[6]Random Forest Classifier Training Accuracy: 0.781563126252505\n"
     ]
    }
   ],
   "source": [
    "models(X_train_all, y_train)"
   ]
  },
  {
   "cell_type": "markdown",
   "metadata": {},
   "source": [
    "## Running our X_test, y_test through Machine Learning Function"
   ]
  },
  {
   "cell_type": "code",
   "execution_count": 58,
   "metadata": {},
   "outputs": [],
   "source": [
    "#test data\n",
    "def other_models(X_test_all, y_test):\n",
    "    \n",
    "    #Using Logistic Regression Algorithm to the Training Set\n",
    "    log = LogisticRegression(random_state = 0, max_iter = 50000)\n",
    "    log.fit(X_test_all, y_test)\n",
    "    \n",
    "    #Using KNeighborsClassifier Method of neighbors class to use Nearest Neighbor algorithm\n",
    "    knn = KNeighborsClassifier(n_neighbors = 5, metric = 'minkowski', p = 2)\n",
    "    knn.fit(X_test_all, y_test)\n",
    "\n",
    "    #Using SVC method of svm class to use Support Vector Machine Algorithm\n",
    "    svc_lin = SVC(kernel = 'linear', random_state = 0)\n",
    "    svc_lin.fit(X_test_all, y_test)\n",
    "    \n",
    "    #Using SVC method of svm class to use Kernel SVM Algorithm\n",
    "    svc_rbf = SVC(kernel = 'rbf', random_state = 0)\n",
    "    svc_rbf.fit(X_test_all, y_test)\n",
    "    \n",
    "    #Using GaussianNB method of naïve_bayes class to use Naïve Bayes Algorithm\n",
    "    gauss = GaussianNB()\n",
    "    gauss.fit(X_test_all, y_test)\n",
    "\n",
    "    #Using DecisionTreeClassifier of tree class to use Decision Tree Algorithm\n",
    "    tree_test = DecisionTreeClassifier(criterion = 'entropy', random_state = 0)\n",
    "    tree_test.fit(X_test_all, y_test)\n",
    "    \n",
    "    #Using RandomForestClassifier method of ensemble class to use Random Forest Classification algorithm\n",
    "    forest = RandomForestClassifier(n_estimators = 10, criterion = 'entropy', random_state = 0)\n",
    "    forest.fit(X_test_all, y_test)\n",
    "    \n",
    "    print('[0]Logistic Regression Training Accuracy - X_test, y_test:', log.score(X_test_all, y_test))\n",
    "    print('[1]K Nearest Neighbor Training Accuracy - X_test, y_test:', knn.score(X_test_all, y_test))\n",
    "    print('[2]Support Vector Machine (Linear Classifier) Training Accuracy - X_test, y_test:', svc_lin.score(X_test_all, y_test))\n",
    "    print('[3]Support Vector Machine (RBF Classifier) Training Accuracy - X_test, y_test:', svc_rbf.score(X_test_all, y_test))\n",
    "    print('[4]Gaussian Naive Bayes Training Accuracy - X_test, y_test:', gauss.score(X_test_all, y_test))\n",
    "    print('[5]Decision Tree Classifier Training Accuracy - X_test, y_test:', tree_test.score(X_test_all, y_test))\n",
    "    print('[6]Random Forest Classifier Training Accuracy - X_test, y_test:', forest.score(X_test_all, y_test))\n",
    "    \n",
    "    return"
   ]
  },
  {
   "cell_type": "code",
   "execution_count": 59,
   "metadata": {},
   "outputs": [
    {
     "name": "stdout",
     "output_type": "stream",
     "text": [
      "[0]Logistic Regression Training Accuracy - X_test, y_test: 0.7717720970537262\n",
      "[1]K Nearest Neighbor Training Accuracy - X_test, y_test: 0.7543327556325823\n",
      "[2]Support Vector Machine (Linear Classifier) Training Accuracy - X_test, y_test: 0.7717720970537262\n",
      "[3]Support Vector Machine (RBF Classifier) Training Accuracy - X_test, y_test: 0.7717720970537262\n",
      "[4]Gaussian Naive Bayes Training Accuracy - X_test, y_test: 0.7266031195840554\n",
      "[5]Decision Tree Classifier Training Accuracy - X_test, y_test: 0.8029679376083189\n",
      "[6]Random Forest Classifier Training Accuracy - X_test, y_test: 0.7991767764298093\n"
     ]
    }
   ],
   "source": [
    "other_models(X_test_all, y_test)"
   ]
  },
  {
   "cell_type": "markdown",
   "metadata": {},
   "source": [
    "Based on the modeling of train and test data, our best models are Decision Tree and Random Forest Classifier."
   ]
  },
  {
   "cell_type": "markdown",
   "metadata": {},
   "source": [
    "### Confusion Matrix and Classification Report for Decision Tree"
   ]
  },
  {
   "cell_type": "code",
   "execution_count": 60,
   "metadata": {
    "scrolled": false
   },
   "outputs": [
    {
     "data": {
      "image/png": "[encoded data removed]",
      "text/plain": [
       "<Figure size 1296x432 with 4 Axes>"
      ]
     },
     "metadata": {
      "needs_background": "light"
     },
     "output_type": "display_data"
    }
   ],
   "source": [
    "#start decision tree confusion matrix\n",
    "\n",
    "#instantiation\n",
    "tree_matrix = DecisionTreeClassifier()\n",
    "\n",
    "#fitting\n",
    "tree_matrix.fit(X_train_all, y_train)\n",
    "\n",
    "#predictions\n",
    "y_hat_train_ = tree_matrix.predict(X_train_all)\n",
    "y_hat_test = tree_matrix.predict(X_test_all)\n",
    "\n",
    "#plot decision tree confusion matrix\n",
    "fig, (ax0, ax1) = plt.subplots(1, 2, figsize=(18, 6))\n",
    "\n",
    "plot_confusion_matrix(tree_matrix, X_train_all, y_train, ax=ax0)\n",
    "plot_confusion_matrix(tree_matrix, X_test_all, y_test, ax=ax1)\n",
    "\n",
    "ax0.title.set_text('Train Confusion Matrix')\n",
    "ax1.title.set_text('Test Confusion Matrix')"
   ]
  },
  {
   "cell_type": "code",
   "execution_count": 61,
   "metadata": {},
   "outputs": [
    {
     "ename": "NameError",
     "evalue": "name 'y_hat_train' is not defined",
     "output_type": "error",
     "traceback": [
      "\u001b[1;31m---------------------------------------------------------------------------\u001b[0m",
      "\u001b[1;31mNameError\u001b[0m                                 Traceback (most recent call last)",
      "\u001b[1;32m<ipython-input-61-16738dba278f>\u001b[0m in \u001b[0;36m<module>\u001b[1;34m\u001b[0m\n\u001b[1;32m----> 1\u001b[1;33m \u001b[0mprint\u001b[0m\u001b[1;33m(\u001b[0m\u001b[0mclassification_report\u001b[0m\u001b[1;33m(\u001b[0m\u001b[0my_train\u001b[0m\u001b[1;33m,\u001b[0m \u001b[0my_hat_train\u001b[0m\u001b[1;33m)\u001b[0m\u001b[1;33m)\u001b[0m\u001b[1;33m\u001b[0m\u001b[1;33m\u001b[0m\u001b[0m\n\u001b[0m\u001b[0;32m      2\u001b[0m \u001b[0mprint\u001b[0m\u001b[1;33m(\u001b[0m\u001b[0mclassification_report\u001b[0m\u001b[1;33m(\u001b[0m\u001b[0my_test\u001b[0m\u001b[1;33m,\u001b[0m \u001b[0my_hat_test\u001b[0m\u001b[1;33m)\u001b[0m\u001b[1;33m)\u001b[0m\u001b[1;33m\u001b[0m\u001b[1;33m\u001b[0m\u001b[0m\n",
      "\u001b[1;31mNameError\u001b[0m: name 'y_hat_train' is not defined"
     ]
    }
   ],
   "source": [
    "print(classification_report(y_train, y_hat_train))\n",
    "print(classification_report(y_test, y_hat_test))"
   ]
  },
  {
   "cell_type": "code",
   "execution_count": 41,
   "metadata": {},
   "outputs": [
    {
     "data": {
      "text/html": [
       "<div>\n",
       "<style scoped>\n",
       "    .dataframe tbody tr th:only-of-type {\n",
       "        vertical-align: middle;\n",
       "    }\n",
       "\n",
       "    .dataframe tbody tr th {\n",
       "        vertical-align: top;\n",
       "    }\n",
       "\n",
       "    .dataframe thead th {\n",
       "        text-align: right;\n",
       "    }\n",
       "</style>\n",
       "<table border=\"1\" class=\"dataframe\">\n",
       "  <thead>\n",
       "    <tr style=\"text-align: right;\">\n",
       "      <th></th>\n",
       "      <th>impt</th>\n",
       "      <th>name</th>\n",
       "    </tr>\n",
       "  </thead>\n",
       "  <tbody>\n",
       "    <tr>\n",
       "      <th>0</th>\n",
       "      <td>0.012715</td>\n",
       "      <td>officer_race</td>\n",
       "    </tr>\n",
       "    <tr>\n",
       "      <th>1</th>\n",
       "      <td>0.023137</td>\n",
       "      <td>subject_gender</td>\n",
       "    </tr>\n",
       "    <tr>\n",
       "      <th>2</th>\n",
       "      <td>0.031155</td>\n",
       "      <td>subject_race</td>\n",
       "    </tr>\n",
       "    <tr>\n",
       "      <th>3</th>\n",
       "      <td>0.031273</td>\n",
       "      <td>officer_gender</td>\n",
       "    </tr>\n",
       "    <tr>\n",
       "      <th>4</th>\n",
       "      <td>0.412482</td>\n",
       "      <td>officer_age</td>\n",
       "    </tr>\n",
       "  </tbody>\n",
       "</table>\n",
       "</div>"
      ],
      "text/plain": [
       "       impt            name\n",
       "0  0.012715    officer_race\n",
       "1  0.023137  subject_gender\n",
       "2  0.031155    subject_race\n",
       "3  0.031273  officer_gender\n",
       "4  0.412482     officer_age"
      ]
     },
     "execution_count": 41,
     "metadata": {},
     "output_type": "execute_result"
    }
   ],
   "source": [
    "#figure out what features are important by level\n",
    "tree_matrix.feature_importances_\n",
    "fi = sorted(list(zip(tree_matrix.feature_importances_, X_train.columns)))\n",
    "fi = pd.DataFrame(fi, columns=['impt', 'name'], )\n",
    "fi"
   ]
  },
  {
   "cell_type": "markdown",
   "metadata": {},
   "source": [
    "Officer Age and Subject Race are the most important features that determine a frisk"
   ]
  },
  {
   "cell_type": "markdown",
   "metadata": {},
   "source": [
    "### Confusion Matrix and Classification Report for Random Forest"
   ]
  },
  {
   "cell_type": "code",
   "execution_count": 36,
   "metadata": {},
   "outputs": [
    {
     "data": {
      "image/png": "[encoded data removed]",
      "text/plain": [
       "<Figure size 1296x432 with 4 Axes>"
      ]
     },
     "metadata": {
      "needs_background": "light"
     },
     "output_type": "display_data"
    }
   ],
   "source": [
    "#start decision tree confusion matrix\n",
    "\n",
    "#instantiation\n",
    "random_forrest = RandomForestClassifier()\n",
    "\n",
    "#fitting\n",
    "random_forrest.fit(X_train_all, y_train)\n",
    "\n",
    "#predictions\n",
    "y_forrest_hat_train = random_forrest.predict(X_train_all)\n",
    "y_forrest_hat_test = random_forrest.predict(X_test_all)\n",
    "\n",
    "#plot decision tree confusion matrix\n",
    "fig, (ax0, ax1) = plt.subplots(1, 2, figsize=(18, 6))\n",
    "\n",
    "plot_confusion_matrix(random_forrest, X_train_all, y_train, ax=ax0)\n",
    "plot_confusion_matrix(random_forrest, X_test_all, y_test, ax=ax1)\n",
    "\n",
    "ax0.title.set_text('Random Forrest Train Confusion Matrix')\n",
    "ax1.title.set_text('Random Forrest Test Confusion Matrix')"
   ]
  },
  {
   "cell_type": "code",
   "execution_count": 37,
   "metadata": {},
   "outputs": [
    {
     "name": "stdout",
     "output_type": "stream",
     "text": [
      "              precision    recall  f1-score   support\n",
      "\n",
      "           0       0.78      0.99      0.88     28477\n",
      "           1       0.73      0.08      0.14      8449\n",
      "\n",
      "    accuracy                           0.78     36926\n",
      "   macro avg       0.76      0.54      0.51     36926\n",
      "weighted avg       0.77      0.78      0.71     36926\n",
      "\n",
      "              precision    recall  f1-score   support\n",
      "\n",
      "           0       0.77      0.98      0.87      7125\n",
      "           1       0.37      0.04      0.07      2107\n",
      "\n",
      "    accuracy                           0.77      9232\n",
      "   macro avg       0.57      0.51      0.47      9232\n",
      "weighted avg       0.68      0.77      0.68      9232\n",
      "\n"
     ]
    }
   ],
   "source": [
    "#run classification model for Random Forrest\n",
    "print(classification_report(y_train, y_forrest_hat_train))\n",
    "print(classification_report(y_test, y_forrest_hat_test))"
   ]
  },
  {
   "cell_type": "markdown",
   "metadata": {},
   "source": [
    "### GridSearch for Decision Tree"
   ]
  },
  {
   "cell_type": "code",
   "execution_count": null,
   "metadata": {},
   "outputs": [],
   "source": [
    "#gridsearch on decision tree\n",
    "\n",
    "#copy X and y from above\n",
    "y_cv = y\n",
    "X_cv = X_train_all\n",
    "\n",
    "#scale\n",
    "std_slc = StandardScaler()\n",
    "\n",
    "#using PCA object to make dataset more condense? Found on: https://www.projectpro.io/recipes/optimize-hyper-parameters-of-decisiontree-model-using-grid-search-in-python\n",
    "pca = decomposition.PCA()\n",
    "\n",
    "#set decision tree again\n",
    "dec_tree = tree.DecisionTreeClassifier()\n",
    "\n",
    "#Create a pipeline of three steps\n",
    "## Standardize data, transform with PCA, then train decision tree classifier on data\n",
    "pipe = Pipeline(steps=[('c', std_slc),\n",
    "                        ('pca', pca),\n",
    "                        ('dec_tree', dec_tree)])\n",
    "\n",
    "n_components = list(range(1,X.shape[1]+1,1))\n",
    "\n",
    "criterion = ['gini', 'entropy']\n",
    "max_depth = [2,4,6,8,10,12]\n",
    "\n",
    "#create parameter space\n",
    "parameters = dict(pca__n_components=n_components,\n",
    "                      dec_tree__criterion=criterion,\n",
    "                      dec_tree__max_depth=max_depth)\n",
    "    \n",
    "#establishing classifier\n",
    "clf_GS = GridSearchCV(pipe, parameters)\n",
    "clf_GS.fit(X_train_post, y_train_post)\n",
    "\n",
    "#print statements\n",
    "\n",
    "print('Best Criterion:', clf_GS.best_estimator_.get_params()['dec_tree__criterion'])\n",
    "print('Best max_depth:', clf_GS.best_estimator_.get_params()['dec_tree__max_depth'])\n",
    "print('Best Number Of Components:', clf_GS.best_estimator_.get_params()['pca__n_components'])\n",
    "print(); print(clf_GS.best_estimator_.get_params()['dec_tree'])\n"
   ]
  },
  {
   "cell_type": "markdown",
   "metadata": {},
   "source": [
    "#### Running the function with GridSearch Recommendations"
   ]
  },
  {
   "cell_type": "code",
   "execution_count": null,
   "metadata": {
    "scrolled": false
   },
   "outputs": [],
   "source": [
    "#test data\n",
    "def edited_test_models(X_test_all, y_test):\n",
    "\n",
    "    #Using DecisionTreeClassifier of tree class to use Decision Tree Algorithm\n",
    "    tree_grid = DecisionTreeClassifier(criterion = 'gini', random_state = 0, max_depth=2)\n",
    "    tree_grid.fit(X_test_all, y_test)\n",
    "    \n",
    "    print('Decision Tree Classifier Training Accuracy - Test:', tree_grid.score(X_test_all, y_test))\n",
    "    \n",
    "    return"
   ]
  },
  {
   "cell_type": "code",
   "execution_count": null,
   "metadata": {},
   "outputs": [],
   "source": [
    "edited_test_models(X_test_all, y_test)"
   ]
  },
  {
   "cell_type": "code",
   "execution_count": null,
   "metadata": {},
   "outputs": [],
   "source": [
    "def edited_train_models(X_train_all, y_train):\n",
    "\n",
    "    #Using DecisionTreeClassifier of tree class to use Decision Tree Algorithm\n",
    "    tree_train_grid = DecisionTreeClassifier(criterion = 'gini', random_state = 0, max_depth=2)\n",
    "    tree_train_grid.fit(X_train_all, y_train)\n",
    "    \n",
    "    print('Decision Tree Classifier Training Accuracy - Train:', tree_train_grid.score(X_test_all, y_test))\n",
    "    \n",
    "    return"
   ]
  },
  {
   "cell_type": "code",
   "execution_count": null,
   "metadata": {},
   "outputs": [],
   "source": [
    "edited_train_models(X_train_all, y_train)"
   ]
  },
  {
   "cell_type": "markdown",
   "metadata": {},
   "source": [
    "## SMOTE"
   ]
  },
  {
   "cell_type": "code",
   "execution_count": 19,
   "metadata": {},
   "outputs": [],
   "source": [
    "import imblearn\n",
    "from imblearn import under_sampling, over_sampling\n",
    "from imblearn.over_sampling import SMOTE\n",
    "\n",
    "from collections import Counter\n",
    "from sklearn.datasets import make_classification\n",
    "from matplotlib import pyplot\n",
    "from numpy import where"
   ]
  },
  {
   "cell_type": "code",
   "execution_count": 20,
   "metadata": {},
   "outputs": [
    {
     "data": {
      "text/plain": [
       "0    28477\n",
       "1     8449\n",
       "Name: frisk, dtype: int64"
      ]
     },
     "execution_count": 20,
     "metadata": {},
     "output_type": "execute_result"
    }
   ],
   "source": [
    "y_train.value_counts()"
   ]
  },
  {
   "cell_type": "code",
   "execution_count": 21,
   "metadata": {},
   "outputs": [
    {
     "name": "stdout",
     "output_type": "stream",
     "text": [
      "(56954, 22) (56954,)\n"
     ]
    }
   ],
   "source": [
    "oversample = SMOTE()\n",
    "\n",
    "X_train_smote, y_train_smote = oversample.fit_resample(X_train_all, y_train)\n",
    "print(X_train_smote.shape, y_train_smote.shape)"
   ]
  },
  {
   "cell_type": "code",
   "execution_count": 22,
   "metadata": {},
   "outputs": [
    {
     "data": {
      "text/plain": [
       "1    28477\n",
       "0    28477\n",
       "Name: frisk, dtype: int64"
      ]
     },
     "execution_count": 22,
     "metadata": {},
     "output_type": "execute_result"
    }
   ],
   "source": [
    "y_train_smote.value_counts()"
   ]
  },
  {
   "cell_type": "code",
   "execution_count": 23,
   "metadata": {},
   "outputs": [
    {
     "data": {
      "text/plain": [
       "DecisionTreeClassifier()"
      ]
     },
     "execution_count": 23,
     "metadata": {},
     "output_type": "execute_result"
    }
   ],
   "source": [
    "model = DecisionTreeClassifier()\n",
    "model.fit(X_train_smote,y_train_smote)"
   ]
  },
  {
   "cell_type": "code",
   "execution_count": 31,
   "metadata": {},
   "outputs": [],
   "source": [
    "# note predictions are on the non-smoted data!!!\n",
    "\n",
    "train_preds = model.predict(X_train_all)\n",
    "test_preds = model.predict(X_test_all)"
   ]
  },
  {
   "cell_type": "code",
   "execution_count": 27,
   "metadata": {},
   "outputs": [
    {
     "data": {
      "image/png": "[encoded data removed]",
      "text/plain": [
       "<Figure size 1080x432 with 4 Axes>"
      ]
     },
     "metadata": {
      "needs_background": "light"
     },
     "output_type": "display_data"
    }
   ],
   "source": [
    "fig, ax = plt.subplots(nrows=1, ncols=2, figsize=(15, 6))\n",
    "\n",
    "plot_confusion_matrix(model, X_train_all, y_train, ax=ax[0])\n",
    "plot_confusion_matrix(model, X_test_all, y_test, ax=ax[1])\n",
    "ax[0].grid(False)\n",
    "ax[1].grid(False)\n",
    "ax[0].title.set_text('Train Confusion Matrix')\n",
    "ax[1].title.set_text('Test Confusion Matrix')"
   ]
  },
  {
   "cell_type": "code",
   "execution_count": 33,
   "metadata": {},
   "outputs": [
    {
     "name": "stdout",
     "output_type": "stream",
     "text": [
      "              precision    recall  f1-score   support\n",
      "\n",
      "           0       0.68      0.61      0.64     28477\n",
      "           1       0.65      0.71      0.68     28477\n",
      "\n",
      "    accuracy                           0.66     56954\n",
      "   macro avg       0.66      0.66      0.66     56954\n",
      "weighted avg       0.66      0.66      0.66     56954\n",
      "\n"
     ]
    }
   ],
   "source": [
    "train_smote = model.predict(X_train_smote)\n",
    "print(classification_report(y_train_smote, train_smote))"
   ]
  },
  {
   "cell_type": "code",
   "execution_count": null,
   "metadata": {},
   "outputs": [],
   "source": []
  }
 ],
 "metadata": {
  "kernelspec": {
   "display_name": "Python 3",
   "language": "python",
   "name": "python3"
  },
  "language_info": {
   "codemirror_mode": {
    "name": "ipython",
    "version": 3
   },
   "file_extension": ".py",
   "mimetype": "text/x-python",
   "name": "python",
   "nbconvert_exporter": "python",
   "pygments_lexer": "ipython3",
   "version": "3.8.5"
  }
 },
 "nbformat": 4,
 "nbformat_minor": 4
}
