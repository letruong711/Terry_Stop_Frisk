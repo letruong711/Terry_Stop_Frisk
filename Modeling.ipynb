{
 "cells": [
  {
   "cell_type": "markdown",
   "metadata": {},
   "source": [
    "# Step 3: Test, Train, Split, OneHotEncode, Model Function, GridSearch."
   ]
  },
  {
   "cell_type": "markdown",
   "metadata": {},
   "source": [
    "## Preprocessing"
   ]
  },
  {
   "cell_type": "code",
   "execution_count": 34,
   "metadata": {},
   "outputs": [],
   "source": [
    "import pandas as pd\n",
    "import numpy as np\n",
    "from datetime import datetime\n",
    "import datetime as dt\n",
    "\n",
    "import matplotlib.pyplot as plt\n",
    "import seaborn as sns\n",
    "import matplotlib.dates as mdates\n",
    "from sklearn.linear_model import LinearRegression\n",
    "from sklearn.model_selection import train_test_split\n",
    "from matplotlib import dates as mpl_dates\n",
    "from sklearn.linear_model import LogisticRegression\n",
    "from sklearn.neighbors import KNeighborsClassifier\n",
    "from sklearn.svm import SVC\n",
    "from sklearn.naive_bayes import GaussianNB\n",
    "from sklearn.ensemble import RandomForestClassifier\n",
    "from sklearn.tree import DecisionTreeClassifier\n",
    "from sklearn.metrics import plot_confusion_matrix, classification_report\n",
    "from sklearn.model_selection import GridSearchCV, cross_val_score, ShuffleSplit\n",
    "from sklearn.model_selection import GridSearchCV\n",
    "from sklearn import decomposition\n",
    "from sklearn.pipeline import Pipeline\n",
    "from sklearn import tree\n",
    "from sklearn.metrics import accuracy_score"
   ]
  },
  {
   "cell_type": "code",
   "execution_count": 2,
   "metadata": {},
   "outputs": [],
   "source": [
    "df = pd.read_csv('data/cleaned_data')"
   ]
  },
  {
   "cell_type": "code",
   "execution_count": 3,
   "metadata": {},
   "outputs": [
    {
     "data": {
      "text/html": [
       "<div>\n",
       "<style scoped>\n",
       "    .dataframe tbody tr th:only-of-type {\n",
       "        vertical-align: middle;\n",
       "    }\n",
       "\n",
       "    .dataframe tbody tr th {\n",
       "        vertical-align: top;\n",
       "    }\n",
       "\n",
       "    .dataframe thead th {\n",
       "        text-align: right;\n",
       "    }\n",
       "</style>\n",
       "<table border=\"1\" class=\"dataframe\">\n",
       "  <thead>\n",
       "    <tr style=\"text-align: right;\">\n",
       "      <th></th>\n",
       "      <th>subject_age</th>\n",
       "      <th>stop_resolution</th>\n",
       "      <th>weapon_type</th>\n",
       "      <th>officer_age</th>\n",
       "      <th>officer_gender</th>\n",
       "      <th>officer_race</th>\n",
       "      <th>subject_race</th>\n",
       "      <th>subject_gender</th>\n",
       "      <th>date</th>\n",
       "      <th>initial_call_type</th>\n",
       "      <th>call_type</th>\n",
       "      <th>arrest</th>\n",
       "      <th>frisk</th>\n",
       "    </tr>\n",
       "  </thead>\n",
       "  <tbody>\n",
       "    <tr>\n",
       "      <th>0</th>\n",
       "      <td>Under 17</td>\n",
       "      <td>Arrest</td>\n",
       "      <td>None</td>\n",
       "      <td>23</td>\n",
       "      <td>M</td>\n",
       "      <td>White</td>\n",
       "      <td>American Indian or Alaska Native</td>\n",
       "      <td>Male</td>\n",
       "      <td>2015-09-13</td>\n",
       "      <td>NaN</td>\n",
       "      <td>NaN</td>\n",
       "      <td>N</td>\n",
       "      <td>Y</td>\n",
       "    </tr>\n",
       "    <tr>\n",
       "      <th>1</th>\n",
       "      <td>Under 17</td>\n",
       "      <td>Field Contact</td>\n",
       "      <td>None</td>\n",
       "      <td>27</td>\n",
       "      <td>F</td>\n",
       "      <td>Not Specified</td>\n",
       "      <td>Unknown</td>\n",
       "      <td>Male</td>\n",
       "      <td>2015-04-19</td>\n",
       "      <td>NaN</td>\n",
       "      <td>NaN</td>\n",
       "      <td>N</td>\n",
       "      <td>Y</td>\n",
       "    </tr>\n",
       "    <tr>\n",
       "      <th>2</th>\n",
       "      <td>Under 17</td>\n",
       "      <td>Field Contact</td>\n",
       "      <td>None</td>\n",
       "      <td>27</td>\n",
       "      <td>M</td>\n",
       "      <td>White</td>\n",
       "      <td>White</td>\n",
       "      <td>Male</td>\n",
       "      <td>2015-04-20</td>\n",
       "      <td>NaN</td>\n",
       "      <td>NaN</td>\n",
       "      <td>N</td>\n",
       "      <td>N</td>\n",
       "    </tr>\n",
       "    <tr>\n",
       "      <th>3</th>\n",
       "      <td>Under 17</td>\n",
       "      <td>Field Contact</td>\n",
       "      <td>None</td>\n",
       "      <td>23</td>\n",
       "      <td>F</td>\n",
       "      <td>White</td>\n",
       "      <td>Black or African American</td>\n",
       "      <td>Male</td>\n",
       "      <td>2015-05-19</td>\n",
       "      <td>NaN</td>\n",
       "      <td>NaN</td>\n",
       "      <td>N</td>\n",
       "      <td>Y</td>\n",
       "    </tr>\n",
       "    <tr>\n",
       "      <th>4</th>\n",
       "      <td>Under 17</td>\n",
       "      <td>Field Contact</td>\n",
       "      <td>None</td>\n",
       "      <td>33</td>\n",
       "      <td>M</td>\n",
       "      <td>Nat Hawaiian/Oth Pac Islander</td>\n",
       "      <td>Black or African American</td>\n",
       "      <td>Male</td>\n",
       "      <td>2015-05-19</td>\n",
       "      <td>NaN</td>\n",
       "      <td>NaN</td>\n",
       "      <td>N</td>\n",
       "      <td>N</td>\n",
       "    </tr>\n",
       "    <tr>\n",
       "      <th>...</th>\n",
       "      <td>...</td>\n",
       "      <td>...</td>\n",
       "      <td>...</td>\n",
       "      <td>...</td>\n",
       "      <td>...</td>\n",
       "      <td>...</td>\n",
       "      <td>...</td>\n",
       "      <td>...</td>\n",
       "      <td>...</td>\n",
       "      <td>...</td>\n",
       "      <td>...</td>\n",
       "      <td>...</td>\n",
       "      <td>...</td>\n",
       "    </tr>\n",
       "    <tr>\n",
       "      <th>43914</th>\n",
       "      <td>56 and Above</td>\n",
       "      <td>Field Contact</td>\n",
       "      <td>NaN</td>\n",
       "      <td>31</td>\n",
       "      <td>M</td>\n",
       "      <td>White</td>\n",
       "      <td>White</td>\n",
       "      <td>Male</td>\n",
       "      <td>2021-07-14</td>\n",
       "      <td>NaN</td>\n",
       "      <td>NaN</td>\n",
       "      <td>N</td>\n",
       "      <td>N</td>\n",
       "    </tr>\n",
       "    <tr>\n",
       "      <th>43915</th>\n",
       "      <td>56 and Above</td>\n",
       "      <td>Arrest</td>\n",
       "      <td>NaN</td>\n",
       "      <td>31</td>\n",
       "      <td>M</td>\n",
       "      <td>Black or African American</td>\n",
       "      <td>Black or African American</td>\n",
       "      <td>Male</td>\n",
       "      <td>2019-07-17</td>\n",
       "      <td>SHOPLIFT - THEFT</td>\n",
       "      <td>911</td>\n",
       "      <td>Y</td>\n",
       "      <td>N</td>\n",
       "    </tr>\n",
       "    <tr>\n",
       "      <th>43916</th>\n",
       "      <td>56 and Above</td>\n",
       "      <td>Offense Report</td>\n",
       "      <td>NaN</td>\n",
       "      <td>50</td>\n",
       "      <td>M</td>\n",
       "      <td>White</td>\n",
       "      <td>Black or African American</td>\n",
       "      <td>Male</td>\n",
       "      <td>2019-11-08</td>\n",
       "      <td>PURSE SNATCH - ROBBERY</td>\n",
       "      <td>ONVIEW</td>\n",
       "      <td>N</td>\n",
       "      <td>N</td>\n",
       "    </tr>\n",
       "    <tr>\n",
       "      <th>43917</th>\n",
       "      <td>56 and Above</td>\n",
       "      <td>Field Contact</td>\n",
       "      <td>NaN</td>\n",
       "      <td>44</td>\n",
       "      <td>M</td>\n",
       "      <td>Hispanic or Latino</td>\n",
       "      <td>Black or African American</td>\n",
       "      <td>Male</td>\n",
       "      <td>2020-12-26</td>\n",
       "      <td>SHOPLIFT - THEFT</td>\n",
       "      <td>911</td>\n",
       "      <td>N</td>\n",
       "      <td>N</td>\n",
       "    </tr>\n",
       "    <tr>\n",
       "      <th>43918</th>\n",
       "      <td>56 and Above</td>\n",
       "      <td>Field Contact</td>\n",
       "      <td>NaN</td>\n",
       "      <td>33</td>\n",
       "      <td>M</td>\n",
       "      <td>White</td>\n",
       "      <td>White</td>\n",
       "      <td>Male</td>\n",
       "      <td>2021-07-28</td>\n",
       "      <td>SHOTS - IP/JO - INCLUDES HEARD/NO ASSAULT</td>\n",
       "      <td>911</td>\n",
       "      <td>N</td>\n",
       "      <td>N</td>\n",
       "    </tr>\n",
       "  </tbody>\n",
       "</table>\n",
       "<p>43919 rows × 13 columns</p>\n",
       "</div>"
      ],
      "text/plain": [
       "        subject_age stop_resolution weapon_type  officer_age officer_gender  \\\n",
       "0          Under 17          Arrest        None           23              M   \n",
       "1          Under 17   Field Contact        None           27              F   \n",
       "2          Under 17   Field Contact        None           27              M   \n",
       "3          Under 17   Field Contact        None           23              F   \n",
       "4          Under 17   Field Contact        None           33              M   \n",
       "...             ...             ...         ...          ...            ...   \n",
       "43914  56 and Above   Field Contact         NaN           31              M   \n",
       "43915  56 and Above          Arrest         NaN           31              M   \n",
       "43916  56 and Above  Offense Report         NaN           50              M   \n",
       "43917  56 and Above   Field Contact         NaN           44              M   \n",
       "43918  56 and Above   Field Contact         NaN           33              M   \n",
       "\n",
       "                        officer_race                      subject_race  \\\n",
       "0                              White  American Indian or Alaska Native   \n",
       "1                      Not Specified                           Unknown   \n",
       "2                              White                             White   \n",
       "3                              White         Black or African American   \n",
       "4      Nat Hawaiian/Oth Pac Islander         Black or African American   \n",
       "...                              ...                               ...   \n",
       "43914                          White                             White   \n",
       "43915      Black or African American         Black or African American   \n",
       "43916                          White         Black or African American   \n",
       "43917             Hispanic or Latino         Black or African American   \n",
       "43918                          White                             White   \n",
       "\n",
       "      subject_gender        date                          initial_call_type  \\\n",
       "0               Male  2015-09-13                                        NaN   \n",
       "1               Male  2015-04-19                                        NaN   \n",
       "2               Male  2015-04-20                                        NaN   \n",
       "3               Male  2015-05-19                                        NaN   \n",
       "4               Male  2015-05-19                                        NaN   \n",
       "...              ...         ...                                        ...   \n",
       "43914           Male  2021-07-14                                        NaN   \n",
       "43915           Male  2019-07-17                           SHOPLIFT - THEFT   \n",
       "43916           Male  2019-11-08                     PURSE SNATCH - ROBBERY   \n",
       "43917           Male  2020-12-26                           SHOPLIFT - THEFT   \n",
       "43918           Male  2021-07-28  SHOTS - IP/JO - INCLUDES HEARD/NO ASSAULT   \n",
       "\n",
       "      call_type arrest frisk  \n",
       "0           NaN      N     Y  \n",
       "1           NaN      N     Y  \n",
       "2           NaN      N     N  \n",
       "3           NaN      N     Y  \n",
       "4           NaN      N     N  \n",
       "...         ...    ...   ...  \n",
       "43914       NaN      N     N  \n",
       "43915       911      Y     N  \n",
       "43916    ONVIEW      N     N  \n",
       "43917       911      N     N  \n",
       "43918       911      N     N  \n",
       "\n",
       "[43919 rows x 13 columns]"
      ]
     },
     "execution_count": 3,
     "metadata": {},
     "output_type": "execute_result"
    }
   ],
   "source": [
    "df"
   ]
  },
  {
   "cell_type": "code",
   "execution_count": 4,
   "metadata": {},
   "outputs": [
    {
     "name": "stdout",
     "output_type": "stream",
     "text": [
      "<class 'pandas.core.frame.DataFrame'>\n",
      "RangeIndex: 43919 entries, 0 to 43918\n",
      "Data columns (total 13 columns):\n",
      " #   Column             Non-Null Count  Dtype \n",
      "---  ------             --------------  ----- \n",
      " 0   subject_age        43919 non-null  object\n",
      " 1   stop_resolution    43919 non-null  object\n",
      " 2   weapon_type        32748 non-null  object\n",
      " 3   officer_age        43919 non-null  int64 \n",
      " 4   officer_gender     43919 non-null  object\n",
      " 5   officer_race       43919 non-null  object\n",
      " 6   subject_race       43919 non-null  object\n",
      " 7   subject_gender     43919 non-null  object\n",
      " 8   date               43919 non-null  object\n",
      " 9   initial_call_type  31596 non-null  object\n",
      " 10  call_type          31596 non-null  object\n",
      " 11  arrest             43919 non-null  object\n",
      " 12  frisk              43919 non-null  object\n",
      "dtypes: int64(1), object(12)\n",
      "memory usage: 4.4+ MB\n"
     ]
    }
   ],
   "source": [
    "df.info()"
   ]
  },
  {
   "cell_type": "markdown",
   "metadata": {},
   "source": [
    "### Splitting Data Set into X and Y"
   ]
  },
  {
   "cell_type": "code",
   "execution_count": 5,
   "metadata": {},
   "outputs": [],
   "source": [
    "#isolate columns wanted to compare with frisk\n",
    "frisk_columns = df.drop(columns=['frisk', 'date', 'subject_age'], axis=1)\n",
    "\n",
    "#Establish X and y\n",
    "y = df['frisk']\n",
    "X = frisk_columns \n",
    "\n",
    "#Split into training and test sets\n",
    "X_train, X_test, y_train, y_test = train_test_split(X, y, test_size=0.2, random_state=0)\n",
    "\n",
    "#Remove 'object'-type features from X\n",
    "cont_features = [col for col in X.columns if X[col].dtype in [np.float64, np.int64]]\n",
    "\n",
    "# Remove \"object\"-type features from X_train and X_test\n",
    "X_train_cont = X_train.loc[:, cont_features]\n",
    "X_test_cont = X_test.loc[:, cont_features]"
   ]
  },
  {
   "cell_type": "code",
   "execution_count": 6,
   "metadata": {
    "scrolled": false
   },
   "outputs": [
    {
     "name": "stdout",
     "output_type": "stream",
     "text": [
      "(43919,)\n",
      "(43919, 10)\n"
     ]
    }
   ],
   "source": [
    "print(y.shape)\n",
    "print(X.shape)"
   ]
  },
  {
   "cell_type": "markdown",
   "metadata": {},
   "source": [
    "### Imputing, Scaling, Encoding "
   ]
  },
  {
   "cell_type": "code",
   "execution_count": 7,
   "metadata": {},
   "outputs": [],
   "source": [
    "from sklearn.metrics import mean_squared_error, mean_squared_log_error\n",
    "from sklearn.linear_model import LinearRegression\n",
    "from sklearn.impute import SimpleImputer\n",
    "\n",
    "# Impute missing values with median using SimpleImputer\n",
    "impute = SimpleImputer(strategy='median')\n",
    "X_train_imputed = impute.fit_transform(X_train_cont)\n",
    "X_test_imputed = impute.transform(X_test_cont)"
   ]
  },
  {
   "cell_type": "code",
   "execution_count": 8,
   "metadata": {},
   "outputs": [],
   "source": [
    "#normalize our data\n",
    "from sklearn import preprocessing\n",
    "from sklearn.preprocessing import StandardScaler\n",
    "\n",
    "# Scale the train and test data\n",
    "ss = StandardScaler()\n",
    "X_train_imputed_scaled = ss.fit_transform(X_train_imputed)\n",
    "X_test_imputed_scaled = ss.transform(X_test_imputed)"
   ]
  },
  {
   "cell_type": "code",
   "execution_count": 9,
   "metadata": {},
   "outputs": [],
   "source": [
    "# Create X_cat which contains only the categorical variables\n",
    "features_cat = [col for col in X.columns if X[col].dtype in [np.object]]\n",
    "X_train_cat = X_train.loc[:, features_cat]\n",
    "X_test_cat = X_test.loc[:, features_cat]\n",
    "\n",
    "# Fill missing values with the string 'missing'\n",
    "X_train_cat.fillna(value='missing', inplace=True)\n",
    "X_test_cat.fillna(value='missing', inplace=True)"
   ]
  },
  {
   "cell_type": "code",
   "execution_count": 10,
   "metadata": {},
   "outputs": [],
   "source": [
    "from sklearn.preprocessing import OneHotEncoder\n",
    "\n",
    "# OneHotEncode categorical variables\n",
    "ohe = OneHotEncoder(handle_unknown='ignore')\n",
    "\n",
    "# Transform training and test sets\n",
    "X_train_ohe = ohe.fit_transform(X_train_cat)\n",
    "X_test_ohe = ohe.transform(X_test_cat)\n",
    "\n",
    "# Convert these columns into a DataFrame \n",
    "columns = ohe.get_feature_names(input_features=X_train_cat.columns)\n",
    "cat_train_df = pd.DataFrame(X_train_ohe.todense(), columns=columns)\n",
    "cat_test_df = pd.DataFrame(X_test_ohe.todense(), columns=columns)"
   ]
  },
  {
   "cell_type": "code",
   "execution_count": 11,
   "metadata": {},
   "outputs": [],
   "source": [
    "#combining all the X_train categorial and continuous data\n",
    "X_train_all = pd.concat([pd.DataFrame(X_train_imputed_scaled), cat_train_df], axis=1)\n",
    "X_test_all = pd.concat([pd.DataFrame(X_test_imputed_scaled), cat_test_df], axis=1)"
   ]
  },
  {
   "cell_type": "markdown",
   "metadata": {},
   "source": [
    "## Running our Train, Test split through Machine Learning Function"
   ]
  },
  {
   "cell_type": "code",
   "execution_count": 12,
   "metadata": {},
   "outputs": [],
   "source": [
    "#Create a function within many Machine Learning Models for train data\n",
    "\n",
    "def models(X_train_all, X_test_all, y_train, y_test):\n",
    "    \n",
    "    #Using Logistic Regression Algorithm to the Training Set\n",
    "    log = LogisticRegression(random_state = 0, max_iter = 50000)\n",
    "    log.fit(X_train_all, y_train)\n",
    "    \n",
    "    \n",
    "    #Using KNeighborsClassifier Method of neighbors class to use Nearest Neighbor algorithm\n",
    "    knn = KNeighborsClassifier(n_neighbors = 5, metric = 'minkowski', p = 2)\n",
    "    knn.fit(X_train_all, y_train)\n",
    "    \n",
    "\n",
    "    #Using SVC method of svm class to use Support Vector Machine Algorithm\n",
    "    svc_lin = SVC(kernel = 'linear', random_state = 0)\n",
    "    svc_lin.fit(X_train_all, y_train)\n",
    "    \n",
    "    #Using SVC method of svm class to use Kernel SVM Algorithm\n",
    "    svc_rbf = SVC(kernel = 'rbf', random_state = 0)\n",
    "    svc_rbf.fit(X_train_all, y_train)\n",
    "    \n",
    "    \n",
    "    #Using GaussianNB method of naïve_bayes class to use Naïve Bayes Algorithm\n",
    "    gauss = GaussianNB()\n",
    "    gauss.fit(X_train_all, y_train)\n",
    "\n",
    "    #Using DecisionTreeClassifier of tree class to use Decision Tree Algorithm\n",
    "    tree = DecisionTreeClassifier(criterion = 'entropy', random_state = 0)\n",
    "    tree.fit(X_train_all, y_train)\n",
    "    \n",
    "    #Using RandomForestClassifier method of ensemble class to use Random Forest Classification algorithm\n",
    "    forest = RandomForestClassifier(n_estimators = 10, criterion = 'entropy', random_state = 0)\n",
    "    forest.fit(X_train_all, y_train)\n",
    "    \n",
    "    print('[0]Logistic Regression Training Accuracy:', log.score(X_train_all, y_train))\n",
    "    print('[1]K Nearest Neighbor Training Accuracy:', knn.score(X_train_all, y_train))\n",
    "    print('[2]Support Vector Machine (Linear Classifier) Training Accuracy:', svc_lin.score(X_train_all, y_train))\n",
    "    print('[3]Support Vector Machine (RBF Classifier) Training Accuracy:', svc_rbf.score(X_train_all, y_train))\n",
    "    print('[4]Gaussian Naive Bayes Training Accuracy:', gauss.score(X_train_all, y_train))\n",
    "    print('[5]Decision Tree Classifier Training Accuracy:', tree.score(X_train_all, y_train))\n",
    "    print('[6]Random Forest Classifier Training Accuracy:', forest.score(X_train_all, y_train))\n",
    "    \n",
    "    print('[0]Logistic Regression Training Accuracy - X_test, y_test:', log.score(X_test_all, y_test))\n",
    "    print('[1]K Nearest Neighbor Training Accuracy - X_test, y_test:', knn.score(X_test_all, y_test))\n",
    "    print('[2]Support Vector Machine (Linear Classifier) Training Accuracy - X_test, y_test:', svc_lin.score(X_test_all, y_test))\n",
    "    print('[3]Support Vector Machine (RBF Classifier) Training Accuracy - X_test, y_test:', svc_rbf.score(X_test_all, y_test))\n",
    "    print('[4]Gaussian Naive Bayes Training Accuracy - X_test, y_test:', gauss.score(X_test_all, y_test))\n",
    "    print('[5]Decision Tree Classifier Training Accuracy - X_test, y_test:', tree.score(X_test_all, y_test))\n",
    "    print('[6]Random Forest Classifier Training Accuracy - X_test, y_test:', forest.score(X_test_all, y_test))\n",
    "    \n",
    "    return"
   ]
  },
  {
   "cell_type": "code",
   "execution_count": 13,
   "metadata": {
    "scrolled": false
   },
   "outputs": [
    {
     "name": "stdout",
     "output_type": "stream",
     "text": [
      "[0]Logistic Regression Training Accuracy: 0.8278070300270386\n",
      "[1]K Nearest Neighbor Training Accuracy: 0.8449694037284758\n",
      "[2]Support Vector Machine (Linear Classifier) Training Accuracy: 0.8267254874057208\n",
      "[3]Support Vector Machine (RBF Classifier) Training Accuracy: 0.8265262558702149\n",
      "[4]Gaussian Naive Bayes Training Accuracy: 0.29184573786822254\n",
      "[5]Decision Tree Classifier Training Accuracy: 0.9419666998719226\n",
      "[6]Random Forest Classifier Training Accuracy: 0.9286181869930269\n",
      "[0]Logistic Regression Training Accuracy - X_test, y_test: 0.823884335154827\n",
      "[1]K Nearest Neighbor Training Accuracy - X_test, y_test: 0.7929189435336976\n",
      "[2]Support Vector Machine (Linear Classifier) Training Accuracy - X_test, y_test: 0.8227459016393442\n",
      "[3]Support Vector Machine (RBF Classifier) Training Accuracy - X_test, y_test: 0.8247950819672131\n",
      "[4]Gaussian Naive Bayes Training Accuracy - X_test, y_test: 0.2907559198542805\n",
      "[5]Decision Tree Classifier Training Accuracy - X_test, y_test: 0.7815346083788707\n",
      "[6]Random Forest Classifier Training Accuracy - X_test, y_test: 0.8047586520947176\n"
     ]
    }
   ],
   "source": [
    "models(X_train_all, X_test_all, y_train, y_test)"
   ]
  },
  {
   "cell_type": "markdown",
   "metadata": {},
   "source": [
    "## Running our X_test, y_test through Machine Learning Function"
   ]
  },
  {
   "cell_type": "markdown",
   "metadata": {},
   "source": [
    "Based on the modeling of train and test data, our best models are Decision Tree and Random Forest Classifier."
   ]
  },
  {
   "cell_type": "markdown",
   "metadata": {},
   "source": [
    "### Confusion Matrix and Classification Report for Random Forest"
   ]
  },
  {
   "cell_type": "code",
   "execution_count": 15,
   "metadata": {},
   "outputs": [
    {
     "data": {
      "image/png": "[encoded data removed]",
      "text/plain": [
       "<Figure size 1296x432 with 4 Axes>"
      ]
     },
     "metadata": {
      "needs_background": "light"
     },
     "output_type": "display_data"
    }
   ],
   "source": [
    "#start decision tree confusion matrix\n",
    "\n",
    "#instantiation\n",
    "random_forest = RandomForestClassifier()\n",
    "\n",
    "#fitting\n",
    "random_forest.fit(X_train_all, y_train)\n",
    "\n",
    "#predictions\n",
    "y_forest_hat_train = random_forest.predict(X_train_all)\n",
    "y_forest_hat_test = random_forest.predict(X_test_all)\n",
    "\n",
    "#plot decision tree confusion matrix\n",
    "fig, (ax0, ax1) = plt.subplots(1, 2, figsize=(18, 6))\n",
    "\n",
    "plot_confusion_matrix(random_forest, X_train_all, y_train, ax=ax0)\n",
    "plot_confusion_matrix(random_forest, X_test_all, y_test, ax=ax1)\n",
    "\n",
    "ax0.title.set_text('Random Forest Train Confusion Matrix')\n",
    "ax1.title.set_text('Random Forest Test Confusion Matrix')"
   ]
  },
  {
   "cell_type": "code",
   "execution_count": 16,
   "metadata": {},
   "outputs": [
    {
     "name": "stdout",
     "output_type": "stream",
     "text": [
      "              precision    recall  f1-score   support\n",
      "\n",
      "           N       0.94      0.99      0.96     27113\n",
      "           Y       0.95      0.79      0.86      8022\n",
      "\n",
      "    accuracy                           0.94     35135\n",
      "   macro avg       0.94      0.89      0.91     35135\n",
      "weighted avg       0.94      0.94      0.94     35135\n",
      "\n",
      "              precision    recall  f1-score   support\n",
      "\n",
      "           N       0.84      0.92      0.88      6769\n",
      "           Y       0.60      0.42      0.49      2015\n",
      "\n",
      "    accuracy                           0.80      8784\n",
      "   macro avg       0.72      0.67      0.69      8784\n",
      "weighted avg       0.79      0.80      0.79      8784\n",
      "\n"
     ]
    }
   ],
   "source": [
    "#run classification model for Random Forrest\n",
    "print(classification_report(y_train, y_forest_hat_train))\n",
    "print(classification_report(y_test, y_forest_hat_test))"
   ]
  },
  {
   "cell_type": "code",
   "execution_count": 20,
   "metadata": {},
   "outputs": [
    {
     "data": {
      "text/html": [
       "<div>\n",
       "<style scoped>\n",
       "    .dataframe tbody tr th:only-of-type {\n",
       "        vertical-align: middle;\n",
       "    }\n",
       "\n",
       "    .dataframe tbody tr th {\n",
       "        vertical-align: top;\n",
       "    }\n",
       "\n",
       "    .dataframe thead th {\n",
       "        text-align: right;\n",
       "    }\n",
       "</style>\n",
       "<table border=\"1\" class=\"dataframe\">\n",
       "  <thead>\n",
       "    <tr style=\"text-align: right;\">\n",
       "      <th></th>\n",
       "      <th>impt</th>\n",
       "      <th>name</th>\n",
       "    </tr>\n",
       "  </thead>\n",
       "  <tbody>\n",
       "    <tr>\n",
       "      <th>0</th>\n",
       "      <td>0.000019</td>\n",
       "      <td>officer_race</td>\n",
       "    </tr>\n",
       "    <tr>\n",
       "      <th>1</th>\n",
       "      <td>0.000033</td>\n",
       "      <td>subject_race</td>\n",
       "    </tr>\n",
       "    <tr>\n",
       "      <th>2</th>\n",
       "      <td>0.000284</td>\n",
       "      <td>initial_call_type</td>\n",
       "    </tr>\n",
       "    <tr>\n",
       "      <th>3</th>\n",
       "      <td>0.000367</td>\n",
       "      <td>arrest</td>\n",
       "    </tr>\n",
       "    <tr>\n",
       "      <th>4</th>\n",
       "      <td>0.001131</td>\n",
       "      <td>call_type</td>\n",
       "    </tr>\n",
       "    <tr>\n",
       "      <th>5</th>\n",
       "      <td>0.004319</td>\n",
       "      <td>subject_gender</td>\n",
       "    </tr>\n",
       "    <tr>\n",
       "      <th>6</th>\n",
       "      <td>0.009338</td>\n",
       "      <td>officer_gender</td>\n",
       "    </tr>\n",
       "    <tr>\n",
       "      <th>7</th>\n",
       "      <td>0.012746</td>\n",
       "      <td>weapon_type</td>\n",
       "    </tr>\n",
       "    <tr>\n",
       "      <th>8</th>\n",
       "      <td>0.013993</td>\n",
       "      <td>officer_age</td>\n",
       "    </tr>\n",
       "    <tr>\n",
       "      <th>9</th>\n",
       "      <td>0.320744</td>\n",
       "      <td>stop_resolution</td>\n",
       "    </tr>\n",
       "  </tbody>\n",
       "</table>\n",
       "</div>"
      ],
      "text/plain": [
       "       impt               name\n",
       "0  0.000019       officer_race\n",
       "1  0.000033       subject_race\n",
       "2  0.000284  initial_call_type\n",
       "3  0.000367             arrest\n",
       "4  0.001131          call_type\n",
       "5  0.004319     subject_gender\n",
       "6  0.009338     officer_gender\n",
       "7  0.012746        weapon_type\n",
       "8  0.013993        officer_age\n",
       "9  0.320744    stop_resolution"
      ]
     },
     "execution_count": 20,
     "metadata": {},
     "output_type": "execute_result"
    }
   ],
   "source": [
    "#figure out what features are important by level\n",
    "random_forest.feature_importances_\n",
    "fj = sorted(list(zip(random_forest.feature_importances_, X_train.columns)))\n",
    "fj = pd.DataFrame(fj, columns=['impt', 'name'], )\n",
    "fj"
   ]
  },
  {
   "cell_type": "code",
   "execution_count": 70,
   "metadata": {},
   "outputs": [
    {
     "data": {
      "image/png": "[encoded data removed]",
      "text/plain": [
       "<Figure size 720x720 with 1 Axes>"
      ]
     },
     "metadata": {
      "needs_background": "light"
     },
     "output_type": "display_data"
    }
   ],
   "source": [
    "fig, ax=plt.subplots(figsize=(10,10))\n",
    "sns.barplot(x=\"impt\", y=\"name\", data=fj,\n",
    "            label=\"Feature Importance\", color=\"g\");"
   ]
  },
  {
   "cell_type": "markdown",
   "metadata": {},
   "source": [
    "### Confusion Matrix and Classification Report for Decision Tree"
   ]
  },
  {
   "cell_type": "code",
   "execution_count": 63,
   "metadata": {
    "scrolled": false
   },
   "outputs": [
    {
     "data": {
      "image/png": "[encoded data removed]",
      "text/plain": [
       "<Figure size 1296x432 with 4 Axes>"
      ]
     },
     "metadata": {
      "needs_background": "light"
     },
     "output_type": "display_data"
    }
   ],
   "source": [
    "#start decision tree confusion matrix\n",
    "\n",
    "#instantiation\n",
    "tree_matrix = DecisionTreeClassifier()\n",
    "\n",
    "#fitting\n",
    "tree_matrix.fit(X_train_all, y_train)\n",
    "\n",
    "#predictions\n",
    "y_hat_train = tree_matrix.predict(X_train_all)\n",
    "y_hat_test = tree_matrix.predict(X_test_all)\n",
    "\n",
    "#plot decision tree confusion matrix\n",
    "fig, (ax0, ax1) = plt.subplots(1, 2, figsize=(18, 6))\n",
    "\n",
    "plot_confusion_matrix(tree_matrix, X_train_all, y_train, ax=ax0)\n",
    "plot_confusion_matrix(tree_matrix, X_test_all, y_test, ax=ax1)\n",
    "\n",
    "ax0.title.set_text('Train Confusion Matrix')\n",
    "ax1.title.set_text('Test Confusion Matrix')"
   ]
  },
  {
   "cell_type": "code",
   "execution_count": 64,
   "metadata": {},
   "outputs": [
    {
     "name": "stdout",
     "output_type": "stream",
     "text": [
      "              precision    recall  f1-score   support\n",
      "\n",
      "           N       0.93      0.99      0.96     27113\n",
      "           Y       0.98      0.77      0.86      8022\n",
      "\n",
      "    accuracy                           0.94     35135\n",
      "   macro avg       0.96      0.88      0.91     35135\n",
      "weighted avg       0.94      0.94      0.94     35135\n",
      "\n",
      "              precision    recall  f1-score   support\n",
      "\n",
      "           N       0.84      0.89      0.86      6769\n",
      "           Y       0.53      0.43      0.47      2015\n",
      "\n",
      "    accuracy                           0.78      8784\n",
      "   macro avg       0.69      0.66      0.67      8784\n",
      "weighted avg       0.77      0.78      0.77      8784\n",
      "\n"
     ]
    }
   ],
   "source": [
    "print(classification_report(y_train, y_hat_train))\n",
    "print(classification_report(y_test, y_hat_test))"
   ]
  },
  {
   "cell_type": "code",
   "execution_count": 65,
   "metadata": {},
   "outputs": [
    {
     "data": {
      "text/html": [
       "<div>\n",
       "<style scoped>\n",
       "    .dataframe tbody tr th:only-of-type {\n",
       "        vertical-align: middle;\n",
       "    }\n",
       "\n",
       "    .dataframe tbody tr th {\n",
       "        vertical-align: top;\n",
       "    }\n",
       "\n",
       "    .dataframe thead th {\n",
       "        text-align: right;\n",
       "    }\n",
       "</style>\n",
       "<table border=\"1\" class=\"dataframe\">\n",
       "  <thead>\n",
       "    <tr style=\"text-align: right;\">\n",
       "      <th></th>\n",
       "      <th>impt</th>\n",
       "      <th>name</th>\n",
       "    </tr>\n",
       "  </thead>\n",
       "  <tbody>\n",
       "    <tr>\n",
       "      <th>0</th>\n",
       "      <td>0.000000</td>\n",
       "      <td>officer_race</td>\n",
       "    </tr>\n",
       "    <tr>\n",
       "      <th>1</th>\n",
       "      <td>0.000000</td>\n",
       "      <td>subject_race</td>\n",
       "    </tr>\n",
       "    <tr>\n",
       "      <th>2</th>\n",
       "      <td>0.000529</td>\n",
       "      <td>initial_call_type</td>\n",
       "    </tr>\n",
       "    <tr>\n",
       "      <th>3</th>\n",
       "      <td>0.000720</td>\n",
       "      <td>arrest</td>\n",
       "    </tr>\n",
       "    <tr>\n",
       "      <th>4</th>\n",
       "      <td>0.001499</td>\n",
       "      <td>call_type</td>\n",
       "    </tr>\n",
       "    <tr>\n",
       "      <th>5</th>\n",
       "      <td>0.006121</td>\n",
       "      <td>officer_age</td>\n",
       "    </tr>\n",
       "    <tr>\n",
       "      <th>6</th>\n",
       "      <td>0.007663</td>\n",
       "      <td>subject_gender</td>\n",
       "    </tr>\n",
       "    <tr>\n",
       "      <th>7</th>\n",
       "      <td>0.008168</td>\n",
       "      <td>officer_gender</td>\n",
       "    </tr>\n",
       "    <tr>\n",
       "      <th>8</th>\n",
       "      <td>0.021121</td>\n",
       "      <td>weapon_type</td>\n",
       "    </tr>\n",
       "    <tr>\n",
       "      <th>9</th>\n",
       "      <td>0.249961</td>\n",
       "      <td>stop_resolution</td>\n",
       "    </tr>\n",
       "  </tbody>\n",
       "</table>\n",
       "</div>"
      ],
      "text/plain": [
       "       impt               name\n",
       "0  0.000000       officer_race\n",
       "1  0.000000       subject_race\n",
       "2  0.000529  initial_call_type\n",
       "3  0.000720             arrest\n",
       "4  0.001499          call_type\n",
       "5  0.006121        officer_age\n",
       "6  0.007663     subject_gender\n",
       "7  0.008168     officer_gender\n",
       "8  0.021121        weapon_type\n",
       "9  0.249961    stop_resolution"
      ]
     },
     "execution_count": 65,
     "metadata": {},
     "output_type": "execute_result"
    }
   ],
   "source": [
    "#figure out what features are important by level\n",
    "tree_matrix.feature_importances_\n",
    "fi = sorted(list(zip(tree_matrix.feature_importances_, X_train.columns)))\n",
    "fi = pd.DataFrame(fi, columns=['impt', 'name'], )\n",
    "fi"
   ]
  },
  {
   "cell_type": "code",
   "execution_count": 66,
   "metadata": {
    "scrolled": true
   },
   "outputs": [
    {
     "data": {
      "image/png": "[encoded data removed]",
      "text/plain": [
       "<Figure size 432x288 with 1 Axes>"
      ]
     },
     "metadata": {
      "needs_background": "light"
     },
     "output_type": "display_data"
    }
   ],
   "source": [
    "sns.barplot(x=\"impt\", y=\"name\", data=fi,\n",
    "            label=\"Feature Importance\", color=\"b\");"
   ]
  },
  {
   "cell_type": "markdown",
   "metadata": {},
   "source": [
    "Officer Age and Initial Call Type were the most important Features"
   ]
  },
  {
   "cell_type": "code",
   "execution_count": 72,
   "metadata": {},
   "outputs": [
    {
     "data": {
      "image/png": "[encoded data removed]",
      "text/plain": [
       "<Figure size 403.5x360 with 1 Axes>"
      ]
     },
     "metadata": {
      "needs_background": "light"
     },
     "output_type": "display_data"
    }
   ],
   "source": [
    "sns.displot(data=df, x='stop_resolution', hue='frisk', fill=True);"
   ]
  },
  {
   "cell_type": "markdown",
   "metadata": {},
   "source": [
    "### GridSearch for Random Forrest"
   ]
  },
  {
   "cell_type": "code",
   "execution_count": 28,
   "metadata": {},
   "outputs": [
    {
     "data": {
      "text/plain": [
       "{'criterion': 'entropy',\n",
       " 'max_depth': 8,\n",
       " 'max_features': 'auto',\n",
       " 'n_estimators': 500}"
      ]
     },
     "execution_count": 28,
     "metadata": {},
     "output_type": "execute_result"
    }
   ],
   "source": [
    "rfc=RandomForestClassifier(random_state=0)\n",
    "\n",
    "param_grid = { \n",
    "    'n_estimators': [200, 500],\n",
    "    'max_features': ['auto', 'sqrt', 'log2'],\n",
    "    'max_depth' : [4,5,6,7,8],\n",
    "    'criterion' :['gini', 'entropy']\n",
    "}\n",
    "\n",
    "gs_forest = GridSearchCV(rfc, param_grid, cv=3)\n",
    "gs_forest.fit(X_train_all, y_train)\n",
    "\n",
    "gs_forest.best_params_"
   ]
  },
  {
   "cell_type": "markdown",
   "metadata": {},
   "source": [
    "### Running the function with GridSearch Recommendations"
   ]
  },
  {
   "cell_type": "code",
   "execution_count": 23,
   "metadata": {},
   "outputs": [],
   "source": [
    "#test data\n",
    "def forest_models(X_train_all, X_test_all, y_train, y_test):\n",
    "    \n",
    "    #Using RandomForestClassifier method of ensemble class to use Random Forest Classification algorithm\n",
    "    forest = RandomForestClassifier(n_estimators = 500, criterion = 'entropy', random_state = 0)\n",
    "    forest.fit(X_train_all, y_train)\n",
    "    \n",
    "    print('[6]Random Forest Classifier Training Accuracy:', forest.score(X_train_all, y_train))\n",
    "\n",
    "    print('[6]Random Forest Classifier Training Accuracy - X_test, y_test:', forest.score(X_test_all, y_test))\n",
    "    return"
   ]
  },
  {
   "cell_type": "code",
   "execution_count": 24,
   "metadata": {
    "scrolled": true
   },
   "outputs": [
    {
     "name": "stdout",
     "output_type": "stream",
     "text": [
      "[6]Random Forest Classifier Training Accuracy: 0.9286181869930269\n",
      "[6]Random Forest Classifier Training Accuracy - X_test, y_test: 0.8047586520947176\n"
     ]
    }
   ],
   "source": [
    "forest_models(X_train_all, X_test_all, y_train, y_test)"
   ]
  },
  {
   "cell_type": "code",
   "execution_count": 29,
   "metadata": {},
   "outputs": [],
   "source": [
    "rfc1=RandomForestClassifier(random_state=0, max_features='auto', n_estimators= 500, max_depth=8, criterion='entropy')"
   ]
  },
  {
   "cell_type": "code",
   "execution_count": 30,
   "metadata": {},
   "outputs": [
    {
     "data": {
      "text/plain": [
       "RandomForestClassifier(criterion='entropy', max_depth=8, n_estimators=500,\n",
       "                       random_state=0)"
      ]
     },
     "execution_count": 30,
     "metadata": {},
     "output_type": "execute_result"
    }
   ],
   "source": [
    "rfc1.fit(X_train_all, y_train)"
   ]
  },
  {
   "cell_type": "code",
   "execution_count": 32,
   "metadata": {},
   "outputs": [],
   "source": [
    "pred=rfc1.predict(X_test_all)"
   ]
  },
  {
   "cell_type": "code",
   "execution_count": 35,
   "metadata": {},
   "outputs": [
    {
     "name": "stdout",
     "output_type": "stream",
     "text": [
      "Accuracy for Random Forest on CV data:  0.8086293260473588\n"
     ]
    }
   ],
   "source": [
    "print(\"Accuracy for Random Forest on CV data: \",accuracy_score(y_test,pred))"
   ]
  },
  {
   "cell_type": "code",
   "execution_count": 36,
   "metadata": {
    "scrolled": false
   },
   "outputs": [
    {
     "data": {
      "image/png": "[encoded data removed]",
      "text/plain": [
       "<Figure size 1296x432 with 4 Axes>"
      ]
     },
     "metadata": {
      "needs_background": "light"
     },
     "output_type": "display_data"
    }
   ],
   "source": [
    "#start decision tree confusion matrix post Gridsearch\n",
    "\n",
    "#instantiation\n",
    "random_forest_2 = RandomForestClassifier(random_state=0, max_features='auto', n_estimators= 500, max_depth=8, criterion='entropy')\n",
    "\n",
    "#fitting\n",
    "random_forest_2.fit(X_train_all, y_train)\n",
    "\n",
    "#predictions\n",
    "y_forest_hat_train_2 = random_forest.predict(X_train_all)\n",
    "y_forest_hat_test_2 = random_forest.predict(X_test_all)\n",
    "\n",
    "#plot decision tree confusion matrix\n",
    "fig, (ax0, ax1) = plt.subplots(1, 2, figsize=(18, 6))\n",
    "\n",
    "plot_confusion_matrix(random_forest_2, X_train_all, y_train, ax=ax0)\n",
    "plot_confusion_matrix(random_forest_2, X_test_all, y_test, ax=ax1)\n",
    "\n",
    "ax0.title.set_text('Random Forest Train Confusion Matrix')\n",
    "ax1.title.set_text('Predicting Frisk Confusion Matrix')"
   ]
  },
  {
   "cell_type": "code",
   "execution_count": 58,
   "metadata": {},
   "outputs": [
    {
     "data": {
      "image/png": "[encoded data removed]",
      "text/plain": [
       "<Figure size 1296x576 with 2 Axes>"
      ]
     },
     "metadata": {
      "needs_background": "light"
     },
     "output_type": "display_data"
    }
   ],
   "source": [
    "# Visualize your confusion matrix\n",
    "fig, ax = plt.subplots(figsize=(18, 8))\n",
    "plot_confusion_matrix(random_forest_2, X_test_all, y_test,\n",
    "                     cmap=plt.cm.Greens, ax=ax)\n",
    "# Add labels to the plot\n",
    "class_names = [\"Frisked\", \"Not Frisked\"]\n",
    "tick_marks = np.arange(len(class_names))\n",
    "tick_marks2 = tick_marks + 0.5\n",
    "plt.xticks(tick_marks, class_names, rotation=25)\n",
    "plt.yticks(tick_marks2, class_names, rotation=0)\n",
    "plt.xlabel(\"Predicted label\")\n",
    "plt.ylabel(\"True label\")\n",
    "plt.title(\"Confusion Matrix for Random Forest Model\")\n",
    "plt.show()"
   ]
  },
  {
   "cell_type": "code",
   "execution_count": 37,
   "metadata": {},
   "outputs": [
    {
     "name": "stdout",
     "output_type": "stream",
     "text": [
      "              precision    recall  f1-score   support\n",
      "\n",
      "           N       0.94      0.99      0.96     27113\n",
      "           Y       0.95      0.79      0.86      8022\n",
      "\n",
      "    accuracy                           0.94     35135\n",
      "   macro avg       0.94      0.89      0.91     35135\n",
      "weighted avg       0.94      0.94      0.94     35135\n",
      "\n",
      "              precision    recall  f1-score   support\n",
      "\n",
      "           N       0.84      0.92      0.88      6769\n",
      "           Y       0.60      0.42      0.49      2015\n",
      "\n",
      "    accuracy                           0.80      8784\n",
      "   macro avg       0.72      0.67      0.69      8784\n",
      "weighted avg       0.79      0.80      0.79      8784\n",
      "\n"
     ]
    }
   ],
   "source": [
    "#run classification model for Random Forrest\n",
    "print(classification_report(y_train, y_forest_hat_train_2))\n",
    "print(classification_report(y_test, y_forest_hat_test_2))"
   ]
  },
  {
   "cell_type": "markdown",
   "metadata": {},
   "source": [
    "## SMOTE"
   ]
  },
  {
   "cell_type": "code",
   "execution_count": 10,
   "metadata": {},
   "outputs": [],
   "source": [
    "import imblearn\n",
    "from imblearn import under_sampling, over_sampling\n",
    "from imblearn.over_sampling import SMOTE\n",
    "\n",
    "from collections import Counter\n",
    "from sklearn.datasets import make_classification\n",
    "from matplotlib import pyplot\n",
    "from numpy import where"
   ]
  },
  {
   "cell_type": "code",
   "execution_count": 11,
   "metadata": {},
   "outputs": [
    {
     "ename": "NameError",
     "evalue": "name 'y_train' is not defined",
     "output_type": "error",
     "traceback": [
      "\u001b[1;31m---------------------------------------------------------------------------\u001b[0m",
      "\u001b[1;31mNameError\u001b[0m                                 Traceback (most recent call last)",
      "\u001b[1;32m<ipython-input-11-e20da9714e8d>\u001b[0m in \u001b[0;36m<module>\u001b[1;34m\u001b[0m\n\u001b[1;32m----> 1\u001b[1;33m \u001b[0my_train\u001b[0m\u001b[1;33m.\u001b[0m\u001b[0mvalue_counts\u001b[0m\u001b[1;33m(\u001b[0m\u001b[1;33m)\u001b[0m\u001b[1;33m\u001b[0m\u001b[1;33m\u001b[0m\u001b[0m\n\u001b[0m",
      "\u001b[1;31mNameError\u001b[0m: name 'y_train' is not defined"
     ]
    }
   ],
   "source": [
    "y_train.value_counts()"
   ]
  },
  {
   "cell_type": "code",
   "execution_count": 113,
   "metadata": {},
   "outputs": [
    {
     "name": "stdout",
     "output_type": "stream",
     "text": [
      "(54226, 208) (54226,)\n"
     ]
    }
   ],
   "source": [
    "oversample = SMOTE()\n",
    "\n",
    "X_train_smote, y_train_smote = oversample.fit_resample(X_train_all, y_train)\n",
    "print(X_train_smote.shape, y_train_smote.shape)"
   ]
  },
  {
   "cell_type": "code",
   "execution_count": 114,
   "metadata": {},
   "outputs": [
    {
     "data": {
      "text/plain": [
       "Y    27113\n",
       "N    27113\n",
       "Name: frisk, dtype: int64"
      ]
     },
     "execution_count": 114,
     "metadata": {},
     "output_type": "execute_result"
    }
   ],
   "source": [
    "y_train_smote.value_counts()"
   ]
  },
  {
   "cell_type": "code",
   "execution_count": 115,
   "metadata": {},
   "outputs": [
    {
     "data": {
      "text/plain": [
       "DecisionTreeClassifier()"
      ]
     },
     "execution_count": 115,
     "metadata": {},
     "output_type": "execute_result"
    }
   ],
   "source": [
    "model = DecisionTreeClassifier()\n",
    "model.fit(X_train_smote,y_train_smote)"
   ]
  },
  {
   "cell_type": "code",
   "execution_count": 117,
   "metadata": {},
   "outputs": [],
   "source": [
    "# note predictions are on the non-smoted data!!!\n",
    "\n",
    "train_preds = model.predict(X_train_all)\n",
    "test_preds = model.predict(X_test_all)"
   ]
  },
  {
   "cell_type": "code",
   "execution_count": 118,
   "metadata": {},
   "outputs": [
    {
     "data": {
      "image/png": "[encoded data removed]",
      "text/plain": [
       "<Figure size 1080x432 with 4 Axes>"
      ]
     },
     "metadata": {
      "needs_background": "light"
     },
     "output_type": "display_data"
    }
   ],
   "source": [
    "fig, ax = plt.subplots(nrows=1, ncols=2, figsize=(15, 6))\n",
    "\n",
    "plot_confusion_matrix(model, X_train_all, y_train, ax=ax[0])\n",
    "plot_confusion_matrix(model, X_test_all, y_test, ax=ax[1])\n",
    "ax[0].grid(False)\n",
    "ax[1].grid(False)\n",
    "ax[0].title.set_text('Train Confusion Matrix')\n",
    "ax[1].title.set_text('Test Confusion Matrix')"
   ]
  },
  {
   "cell_type": "code",
   "execution_count": 9,
   "metadata": {},
   "outputs": [
    {
     "ename": "NameError",
     "evalue": "name 'model' is not defined",
     "output_type": "error",
     "traceback": [
      "\u001b[1;31m---------------------------------------------------------------------------\u001b[0m",
      "\u001b[1;31mNameError\u001b[0m                                 Traceback (most recent call last)",
      "\u001b[1;32m<ipython-input-9-2e7d9080eee0>\u001b[0m in \u001b[0;36m<module>\u001b[1;34m\u001b[0m\n\u001b[1;32m----> 1\u001b[1;33m \u001b[0mtrain_smote\u001b[0m \u001b[1;33m=\u001b[0m \u001b[0mmodel\u001b[0m\u001b[1;33m.\u001b[0m\u001b[0mpredict\u001b[0m\u001b[1;33m(\u001b[0m\u001b[0mX_train_smote\u001b[0m\u001b[1;33m)\u001b[0m\u001b[1;33m\u001b[0m\u001b[1;33m\u001b[0m\u001b[0m\n\u001b[0m\u001b[0;32m      2\u001b[0m \u001b[0mprint\u001b[0m\u001b[1;33m(\u001b[0m\u001b[0mclassification_report\u001b[0m\u001b[1;33m(\u001b[0m\u001b[0my_train_all\u001b[0m\u001b[1;33m,\u001b[0m \u001b[0mtrain_preds\u001b[0m\u001b[1;33m)\u001b[0m\u001b[1;33m)\u001b[0m\u001b[1;33m\u001b[0m\u001b[1;33m\u001b[0m\u001b[0m\n",
      "\u001b[1;31mNameError\u001b[0m: name 'model' is not defined"
     ]
    }
   ],
   "source": [
    "train_smote = model.predict(X_train_smote)\n",
    "print(classification_report(y_train_all, train_preds))"
   ]
  },
  {
   "cell_type": "code",
   "execution_count": null,
   "metadata": {},
   "outputs": [],
   "source": []
  }
 ],
 "metadata": {
  "kernelspec": {
   "display_name": "Python 3",
   "language": "python",
   "name": "python3"
  },
  "language_info": {
   "codemirror_mode": {
    "name": "ipython",
    "version": 3
   },
   "file_extension": ".py",
   "mimetype": "text/x-python",
   "name": "python",
   "nbconvert_exporter": "python",
   "pygments_lexer": "ipython3",
   "version": "3.8.5"
  }
 },
 "nbformat": 4,
 "nbformat_minor": 4
}
