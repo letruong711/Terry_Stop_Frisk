{
 "cells": [
  {
   "cell_type": "markdown",
   "metadata": {},
   "source": [
    "## Importing and adjusting the dataset ##"
   ]
  },
  {
   "cell_type": "code",
   "execution_count": 68,
   "metadata": {},
   "outputs": [],
   "source": [
    "import pandas as pd\n",
    "import numpy as np"
   ]
  },
  {
   "cell_type": "code",
   "execution_count": 69,
   "metadata": {},
   "outputs": [],
   "source": [
    "df = pd.read_csv(r\"C:\\Users\\letru\\Documents\\Flatiron\\Phase-3-Project\\dsc-phase-3-project/Terry_stops.csv\")"
   ]
  },
  {
   "cell_type": "code",
   "execution_count": 70,
   "metadata": {},
   "outputs": [
    {
     "data": {
      "text/html": [
       "<div>\n",
       "<style scoped>\n",
       "    .dataframe tbody tr th:only-of-type {\n",
       "        vertical-align: middle;\n",
       "    }\n",
       "\n",
       "    .dataframe tbody tr th {\n",
       "        vertical-align: top;\n",
       "    }\n",
       "\n",
       "    .dataframe thead th {\n",
       "        text-align: right;\n",
       "    }\n",
       "</style>\n",
       "<table border=\"1\" class=\"dataframe\">\n",
       "  <thead>\n",
       "    <tr style=\"text-align: right;\">\n",
       "      <th></th>\n",
       "      <th>Subject Age Group</th>\n",
       "      <th>Subject ID</th>\n",
       "      <th>GO / SC Num</th>\n",
       "      <th>Terry Stop ID</th>\n",
       "      <th>Stop Resolution</th>\n",
       "      <th>Weapon Type</th>\n",
       "      <th>Officer ID</th>\n",
       "      <th>Officer YOB</th>\n",
       "      <th>Officer Gender</th>\n",
       "      <th>Officer Race</th>\n",
       "      <th>...</th>\n",
       "      <th>Reported Time</th>\n",
       "      <th>Initial Call Type</th>\n",
       "      <th>Final Call Type</th>\n",
       "      <th>Call Type</th>\n",
       "      <th>Officer Squad</th>\n",
       "      <th>Arrest Flag</th>\n",
       "      <th>Frisk Flag</th>\n",
       "      <th>Precinct</th>\n",
       "      <th>Sector</th>\n",
       "      <th>Beat</th>\n",
       "    </tr>\n",
       "  </thead>\n",
       "  <tbody>\n",
       "    <tr>\n",
       "      <th>0</th>\n",
       "      <td>-</td>\n",
       "      <td>-1</td>\n",
       "      <td>2.015000e+13</td>\n",
       "      <td>101039</td>\n",
       "      <td>Field Contact</td>\n",
       "      <td>None</td>\n",
       "      <td>6613</td>\n",
       "      <td>1971</td>\n",
       "      <td>M</td>\n",
       "      <td>Not Specified</td>\n",
       "      <td>...</td>\n",
       "      <td>13:46:00</td>\n",
       "      <td>-</td>\n",
       "      <td>-</td>\n",
       "      <td>-</td>\n",
       "      <td>WEST PCT 2ND W - QUEEN</td>\n",
       "      <td>N</td>\n",
       "      <td>-</td>\n",
       "      <td>-</td>\n",
       "      <td>-</td>\n",
       "      <td>-</td>\n",
       "    </tr>\n",
       "    <tr>\n",
       "      <th>1</th>\n",
       "      <td>-</td>\n",
       "      <td>-1</td>\n",
       "      <td>2.015000e+13</td>\n",
       "      <td>101562</td>\n",
       "      <td>Field Contact</td>\n",
       "      <td>None</td>\n",
       "      <td>7582</td>\n",
       "      <td>1966</td>\n",
       "      <td>M</td>\n",
       "      <td>Hispanic or Latino</td>\n",
       "      <td>...</td>\n",
       "      <td>4:08:00</td>\n",
       "      <td>-</td>\n",
       "      <td>-</td>\n",
       "      <td>-</td>\n",
       "      <td>SOUTH PCT 1ST W - R/S RELIEF</td>\n",
       "      <td>N</td>\n",
       "      <td>Y</td>\n",
       "      <td>-</td>\n",
       "      <td>-</td>\n",
       "      <td>-</td>\n",
       "    </tr>\n",
       "    <tr>\n",
       "      <th>2</th>\n",
       "      <td>-</td>\n",
       "      <td>-1</td>\n",
       "      <td>2.015000e+13</td>\n",
       "      <td>54348</td>\n",
       "      <td>Field Contact</td>\n",
       "      <td>None</td>\n",
       "      <td>6081</td>\n",
       "      <td>1962</td>\n",
       "      <td>M</td>\n",
       "      <td>White</td>\n",
       "      <td>...</td>\n",
       "      <td>2:47:00</td>\n",
       "      <td>-</td>\n",
       "      <td>-</td>\n",
       "      <td>-</td>\n",
       "      <td>NORTH PCT 3RD W - BOY</td>\n",
       "      <td>N</td>\n",
       "      <td>-</td>\n",
       "      <td>North</td>\n",
       "      <td>B</td>\n",
       "      <td>B3</td>\n",
       "    </tr>\n",
       "    <tr>\n",
       "      <th>3</th>\n",
       "      <td>-</td>\n",
       "      <td>-1</td>\n",
       "      <td>2.014000e+13</td>\n",
       "      <td>92317</td>\n",
       "      <td>Arrest</td>\n",
       "      <td>None</td>\n",
       "      <td>7500</td>\n",
       "      <td>1984</td>\n",
       "      <td>M</td>\n",
       "      <td>Black or African American</td>\n",
       "      <td>...</td>\n",
       "      <td>11:32:00</td>\n",
       "      <td>-</td>\n",
       "      <td>-</td>\n",
       "      <td>-</td>\n",
       "      <td>SOUTH PCT 1ST W - ROBERT</td>\n",
       "      <td>N</td>\n",
       "      <td>N</td>\n",
       "      <td>South</td>\n",
       "      <td>O</td>\n",
       "      <td>O2</td>\n",
       "    </tr>\n",
       "    <tr>\n",
       "      <th>4</th>\n",
       "      <td>-</td>\n",
       "      <td>-1</td>\n",
       "      <td>2.015000e+13</td>\n",
       "      <td>28806</td>\n",
       "      <td>Field Contact</td>\n",
       "      <td>None</td>\n",
       "      <td>5670</td>\n",
       "      <td>1965</td>\n",
       "      <td>M</td>\n",
       "      <td>White</td>\n",
       "      <td>...</td>\n",
       "      <td>7:59:00</td>\n",
       "      <td>-</td>\n",
       "      <td>-</td>\n",
       "      <td>-</td>\n",
       "      <td>NaN</td>\n",
       "      <td>N</td>\n",
       "      <td>N</td>\n",
       "      <td>-</td>\n",
       "      <td>-</td>\n",
       "      <td>-</td>\n",
       "    </tr>\n",
       "    <tr>\n",
       "      <th>...</th>\n",
       "      <td>...</td>\n",
       "      <td>...</td>\n",
       "      <td>...</td>\n",
       "      <td>...</td>\n",
       "      <td>...</td>\n",
       "      <td>...</td>\n",
       "      <td>...</td>\n",
       "      <td>...</td>\n",
       "      <td>...</td>\n",
       "      <td>...</td>\n",
       "      <td>...</td>\n",
       "      <td>...</td>\n",
       "      <td>...</td>\n",
       "      <td>...</td>\n",
       "      <td>...</td>\n",
       "      <td>...</td>\n",
       "      <td>...</td>\n",
       "      <td>...</td>\n",
       "      <td>...</td>\n",
       "      <td>...</td>\n",
       "      <td>...</td>\n",
       "    </tr>\n",
       "    <tr>\n",
       "      <th>47991</th>\n",
       "      <td>56 and Above</td>\n",
       "      <td>24919600373</td>\n",
       "      <td>2.021000e+13</td>\n",
       "      <td>24917463006</td>\n",
       "      <td>Field Contact</td>\n",
       "      <td>-</td>\n",
       "      <td>8386</td>\n",
       "      <td>1986</td>\n",
       "      <td>M</td>\n",
       "      <td>White</td>\n",
       "      <td>...</td>\n",
       "      <td>12:39:30</td>\n",
       "      <td>HAZ - POTENTIAL THRT TO PHYS SAFETY (NO HAZMAT)</td>\n",
       "      <td>#NAME?</td>\n",
       "      <td>911</td>\n",
       "      <td>SOUTHWEST PCT 2ND W - WILLIAM</td>\n",
       "      <td>N</td>\n",
       "      <td>N</td>\n",
       "      <td>SouthWest</td>\n",
       "      <td>W</td>\n",
       "      <td>W2</td>\n",
       "    </tr>\n",
       "    <tr>\n",
       "      <th>47992</th>\n",
       "      <td>56 and Above</td>\n",
       "      <td>25405115029</td>\n",
       "      <td>2.021000e+13</td>\n",
       "      <td>25405364726</td>\n",
       "      <td>Field Contact</td>\n",
       "      <td>-</td>\n",
       "      <td>8633</td>\n",
       "      <td>1988</td>\n",
       "      <td>M</td>\n",
       "      <td>Black or African American</td>\n",
       "      <td>...</td>\n",
       "      <td>15:37:06</td>\n",
       "      <td>DIST - IP/JO - DV DIST - NO ASLT</td>\n",
       "      <td>#NAME?</td>\n",
       "      <td>911</td>\n",
       "      <td>WEST PCT 2ND W - K/Q RELIEF</td>\n",
       "      <td>N</td>\n",
       "      <td>N</td>\n",
       "      <td>West</td>\n",
       "      <td>K</td>\n",
       "      <td>K3</td>\n",
       "    </tr>\n",
       "    <tr>\n",
       "      <th>47993</th>\n",
       "      <td>56 and Above</td>\n",
       "      <td>25405630254</td>\n",
       "      <td>2.021000e+13</td>\n",
       "      <td>25405654732</td>\n",
       "      <td>Field Contact</td>\n",
       "      <td>-</td>\n",
       "      <td>7456</td>\n",
       "      <td>1979</td>\n",
       "      <td>M</td>\n",
       "      <td>White</td>\n",
       "      <td>...</td>\n",
       "      <td>17:41:32</td>\n",
       "      <td>ASLT - IP/JO - WITH OR W/O WPNS (NO SHOOTINGS)</td>\n",
       "      <td>#NAME?</td>\n",
       "      <td>911</td>\n",
       "      <td>NORTH PCT 2ND W - JOHN RELIEF</td>\n",
       "      <td>N</td>\n",
       "      <td>N</td>\n",
       "      <td>North</td>\n",
       "      <td>U</td>\n",
       "      <td>U1</td>\n",
       "    </tr>\n",
       "    <tr>\n",
       "      <th>47994</th>\n",
       "      <td>56 and Above</td>\n",
       "      <td>25513841558</td>\n",
       "      <td>2.021000e+13</td>\n",
       "      <td>25513816266</td>\n",
       "      <td>Field Contact</td>\n",
       "      <td>-</td>\n",
       "      <td>8609</td>\n",
       "      <td>1997</td>\n",
       "      <td>M</td>\n",
       "      <td>Two or More Races</td>\n",
       "      <td>...</td>\n",
       "      <td>5:55:58</td>\n",
       "      <td>HAZ - IMMINENT THRT TO PHYS SAFETY (NO HAZ MAT)</td>\n",
       "      <td>#NAME?</td>\n",
       "      <td>TELEPHONE OTHER, NOT 911</td>\n",
       "      <td>EAST PCT 1ST W - GEORGE (CHARLIE)</td>\n",
       "      <td>N</td>\n",
       "      <td>N</td>\n",
       "      <td>West</td>\n",
       "      <td>K</td>\n",
       "      <td>K2</td>\n",
       "    </tr>\n",
       "    <tr>\n",
       "      <th>47995</th>\n",
       "      <td>56 and Above</td>\n",
       "      <td>25543575280</td>\n",
       "      <td>2.021000e+13</td>\n",
       "      <td>25543626477</td>\n",
       "      <td>Field Contact</td>\n",
       "      <td>-</td>\n",
       "      <td>7763</td>\n",
       "      <td>1990</td>\n",
       "      <td>M</td>\n",
       "      <td>White</td>\n",
       "      <td>...</td>\n",
       "      <td>2:34:57</td>\n",
       "      <td>ASLT - IP/JO - PERSON SHOT OR SHOT AT</td>\n",
       "      <td>#NAME?</td>\n",
       "      <td>TELEPHONE OTHER, NOT 911</td>\n",
       "      <td>EAST PCT 3RD W - E/G RELIEF</td>\n",
       "      <td>N</td>\n",
       "      <td>N</td>\n",
       "      <td>West</td>\n",
       "      <td>K</td>\n",
       "      <td>K2</td>\n",
       "    </tr>\n",
       "  </tbody>\n",
       "</table>\n",
       "<p>47996 rows × 23 columns</p>\n",
       "</div>"
      ],
      "text/plain": [
       "      Subject Age Group   Subject ID   GO / SC Num  Terry Stop ID  \\\n",
       "0                     -           -1  2.015000e+13         101039   \n",
       "1                     -           -1  2.015000e+13         101562   \n",
       "2                     -           -1  2.015000e+13          54348   \n",
       "3                     -           -1  2.014000e+13          92317   \n",
       "4                     -           -1  2.015000e+13          28806   \n",
       "...                 ...          ...           ...            ...   \n",
       "47991      56 and Above  24919600373  2.021000e+13    24917463006   \n",
       "47992      56 and Above  25405115029  2.021000e+13    25405364726   \n",
       "47993      56 and Above  25405630254  2.021000e+13    25405654732   \n",
       "47994      56 and Above  25513841558  2.021000e+13    25513816266   \n",
       "47995      56 and Above  25543575280  2.021000e+13    25543626477   \n",
       "\n",
       "      Stop Resolution Weapon Type Officer ID  Officer YOB Officer Gender  \\\n",
       "0       Field Contact        None       6613         1971              M   \n",
       "1       Field Contact        None       7582         1966              M   \n",
       "2       Field Contact        None       6081         1962              M   \n",
       "3              Arrest        None       7500         1984              M   \n",
       "4       Field Contact        None       5670         1965              M   \n",
       "...               ...         ...        ...          ...            ...   \n",
       "47991   Field Contact           -       8386         1986              M   \n",
       "47992   Field Contact           -       8633         1988              M   \n",
       "47993   Field Contact           -       7456         1979              M   \n",
       "47994   Field Contact           -       8609         1997              M   \n",
       "47995   Field Contact           -       7763         1990              M   \n",
       "\n",
       "                    Officer Race  ... Reported Time  \\\n",
       "0                  Not Specified  ...      13:46:00   \n",
       "1             Hispanic or Latino  ...       4:08:00   \n",
       "2                          White  ...       2:47:00   \n",
       "3      Black or African American  ...      11:32:00   \n",
       "4                          White  ...       7:59:00   \n",
       "...                          ...  ...           ...   \n",
       "47991                      White  ...      12:39:30   \n",
       "47992  Black or African American  ...      15:37:06   \n",
       "47993                      White  ...      17:41:32   \n",
       "47994          Two or More Races  ...       5:55:58   \n",
       "47995                      White  ...       2:34:57   \n",
       "\n",
       "                                     Initial Call Type Final Call Type  \\\n",
       "0                                                    -               -   \n",
       "1                                                    -               -   \n",
       "2                                                    -               -   \n",
       "3                                                    -               -   \n",
       "4                                                    -               -   \n",
       "...                                                ...             ...   \n",
       "47991  HAZ - POTENTIAL THRT TO PHYS SAFETY (NO HAZMAT)          #NAME?   \n",
       "47992                 DIST - IP/JO - DV DIST - NO ASLT          #NAME?   \n",
       "47993   ASLT - IP/JO - WITH OR W/O WPNS (NO SHOOTINGS)          #NAME?   \n",
       "47994  HAZ - IMMINENT THRT TO PHYS SAFETY (NO HAZ MAT)          #NAME?   \n",
       "47995            ASLT - IP/JO - PERSON SHOT OR SHOT AT          #NAME?   \n",
       "\n",
       "                      Call Type                      Officer Squad  \\\n",
       "0                             -             WEST PCT 2ND W - QUEEN   \n",
       "1                             -       SOUTH PCT 1ST W - R/S RELIEF   \n",
       "2                             -              NORTH PCT 3RD W - BOY   \n",
       "3                             -           SOUTH PCT 1ST W - ROBERT   \n",
       "4                             -                                NaN   \n",
       "...                         ...                                ...   \n",
       "47991                       911      SOUTHWEST PCT 2ND W - WILLIAM   \n",
       "47992                       911        WEST PCT 2ND W - K/Q RELIEF   \n",
       "47993                       911      NORTH PCT 2ND W - JOHN RELIEF   \n",
       "47994  TELEPHONE OTHER, NOT 911  EAST PCT 1ST W - GEORGE (CHARLIE)   \n",
       "47995  TELEPHONE OTHER, NOT 911        EAST PCT 3RD W - E/G RELIEF   \n",
       "\n",
       "      Arrest Flag Frisk Flag   Precinct  Sector    Beat  \n",
       "0               N          -          -       -       -  \n",
       "1               N          Y          -       -       -  \n",
       "2               N          -      North  B       B3      \n",
       "3               N          N      South  O       O2      \n",
       "4               N          N          -       -       -  \n",
       "...           ...        ...        ...     ...     ...  \n",
       "47991           N          N  SouthWest       W      W2  \n",
       "47992           N          N       West       K      K3  \n",
       "47993           N          N      North       U      U1  \n",
       "47994           N          N       West       K      K2  \n",
       "47995           N          N       West       K      K2  \n",
       "\n",
       "[47996 rows x 23 columns]"
      ]
     },
     "execution_count": 70,
     "metadata": {},
     "output_type": "execute_result"
    }
   ],
   "source": [
    "df"
   ]
  },
  {
   "cell_type": "markdown",
   "metadata": {},
   "source": [
    "This data was is based in Seattle from 2015 - present."
   ]
  },
  {
   "cell_type": "code",
   "execution_count": 71,
   "metadata": {},
   "outputs": [],
   "source": [
    "df = df[['Subject Age Group', 'Subject ID', 'Stop Resolution',\n",
    "         'Weapon Type', 'Officer ID', 'Officer YOB', \n",
    "         'Officer Gender', 'Officer Race', 'Subject Perceived Race', \n",
    "         'Subject Perceived Gender', 'Reported Date', 'Initial Call Type','Call Type',\n",
    "         'Officer Squad', 'Arrest Flag', 'Frisk Flag',\n",
    "         'Precinct', 'Sector', 'Beat' ]]"
   ]
  },
  {
   "cell_type": "code",
   "execution_count": 72,
   "metadata": {},
   "outputs": [],
   "source": [
    "df.columns = ['subject_age', 'subject_id', 'stop_resolution',\n",
    "         'weapon_type', 'officer_id', 'officer_age', \n",
    "         'officer_gender', 'officer_race', 'subject_race',\n",
    "         'subject_gender', 'date', 'initial_call_type', 'call_type',\n",
    "         'officer_squad', 'arrest', 'frisk',\n",
    "         'precinct', 'sector', 'beat' ]"
   ]
  },
  {
   "cell_type": "code",
   "execution_count": 74,
   "metadata": {},
   "outputs": [],
   "source": [
    "df = df.astype({'subject_age': 'category', 'officer_gender':'category', \n",
    "                'officer_race': 'category', 'subject_race':'category', \n",
    "                'subject_gender':'category', 'date':'datetime64','arrest':'category', \n",
    "                'frisk':'category','precinct':'category', 'sector':'category',\n",
    "                'beat': 'category'})"
   ]
  },
  {
   "cell_type": "code",
   "execution_count": 75,
   "metadata": {},
   "outputs": [],
   "source": [
    "df.replace('-', np.nan, inplace = True)"
   ]
  },
  {
   "cell_type": "code",
   "execution_count": 76,
   "metadata": {},
   "outputs": [
    {
     "name": "stdout",
     "output_type": "stream",
     "text": [
      "<class 'pandas.core.frame.DataFrame'>\n",
      "RangeIndex: 47996 entries, 0 to 47995\n",
      "Data columns (total 19 columns):\n",
      " #   Column             Non-Null Count  Dtype         \n",
      "---  ------             --------------  -----         \n",
      " 0   subject_age        46433 non-null  category      \n",
      " 1   subject_id         47996 non-null  int64         \n",
      " 2   stop_resolution    47996 non-null  object        \n",
      " 3   weapon_type        35428 non-null  object        \n",
      " 4   officer_id         47972 non-null  object        \n",
      " 5   officer_age        47996 non-null  int64         \n",
      " 6   officer_gender     47996 non-null  category      \n",
      " 7   officer_race       47996 non-null  category      \n",
      " 8   subject_race       46146 non-null  category      \n",
      " 9   subject_gender     47761 non-null  category      \n",
      " 10  date               47996 non-null  datetime64[ns]\n",
      " 11  initial_call_type  34792 non-null  object        \n",
      " 12  call_type          34792 non-null  object        \n",
      " 13  officer_squad      47391 non-null  object        \n",
      " 14  arrest             47996 non-null  category      \n",
      " 15  frisk              47518 non-null  category      \n",
      " 16  precinct           38092 non-null  category      \n",
      " 17  sector             37882 non-null  category      \n",
      " 18  beat               37947 non-null  category      \n",
      "dtypes: category(10), datetime64[ns](1), int64(2), object(6)\n",
      "memory usage: 3.8+ MB\n"
     ]
    }
   ],
   "source": [
    "df.info()"
   ]
  },
  {
   "cell_type": "markdown",
   "metadata": {},
   "source": [
    "## Exploring the data"
   ]
  },
  {
   "cell_type": "code",
   "execution_count": 77,
   "metadata": {},
   "outputs": [
    {
     "data": {
      "text/plain": [
       "White                                        23452\n",
       "Black or African American                    14304\n",
       "Unknown                                       2735\n",
       "NaN                                           1850\n",
       "Hispanic                                      1684\n",
       "Asian                                         1570\n",
       "American Indian or Alaska Native              1375\n",
       "Multi-Racial                                   809\n",
       "Other                                          152\n",
       "Native Hawaiian or Other Pacific Islander       65\n",
       "Name: subject_race, dtype: int64"
      ]
     },
     "execution_count": 77,
     "metadata": {},
     "output_type": "execute_result"
    }
   ],
   "source": [
    "#Looking at race of the subject.\n",
    "df.subject_race.value_counts(ascending = False, dropna = False)"
   ]
  },
  {
   "cell_type": "markdown",
   "metadata": {},
   "source": [
    "- Total: 46,146 races counted.\n",
    "    * White subjects accounted for 51% of terry stops.\n",
    "    * Black subjects accounted for 31% of terry stops.\n",
    "    * Unknowns and NAN accounted for 10%.\n",
    "        - It is worth mentioning here that there are ~4500 subjects of unidentified race."
   ]
  },
  {
   "cell_type": "code",
   "execution_count": 80,
   "metadata": {},
   "outputs": [
    {
     "data": {
      "text/plain": [
       "White                            36171\n",
       "Hispanic or Latino                2798\n",
       "Two or More Races                 2726\n",
       "Asian                             2079\n",
       "Black or African American         1918\n",
       "Not Specified                     1493\n",
       "Nat Hawaiian/Oth Pac Islander      458\n",
       "American Indian/Alaska Native      318\n",
       "Unknown                             35\n",
       "Name: officer_race, dtype: int64"
      ]
     },
     "execution_count": 80,
     "metadata": {},
     "output_type": "execute_result"
    }
   ],
   "source": [
    "#Looking at race of officers.\n",
    "df.officer_race.value_counts(ascending = False, dropna = False)"
   ]
  },
  {
   "cell_type": "code",
   "execution_count": 88,
   "metadata": {},
   "outputs": [
    {
     "data": {
      "text/plain": [
       "26 - 35         15984\n",
       "36 - 45         10240\n",
       "18 - 25          9576\n",
       "46 - 55          6212\n",
       "56 and Above     2439\n",
       "17-Jan           1982\n",
       "NaN              1563\n",
       "Name: subject_age, dtype: int64"
      ]
     },
     "execution_count": 88,
     "metadata": {},
     "output_type": "execute_result"
    }
   ],
   "source": [
    "#age of subject\n",
    "df.subject_age.value_counts(dropna = False)"
   ]
  },
  {
   "cell_type": "code",
   "execution_count": 95,
   "metadata": {},
   "outputs": [
    {
     "data": {
      "text/plain": [
       "31    3162\n",
       "30    2957\n",
       "33    2869\n",
       "32    2831\n",
       "29    2711\n",
       "Name: officer_age, dtype: int64"
      ]
     },
     "execution_count": 95,
     "metadata": {},
     "output_type": "execute_result"
    }
   ],
   "source": [
    "#age of officer\n",
    "df.officer_age.value_counts(dropna = False, ascending = False).head()"
   ]
  },
  {
   "cell_type": "code",
   "execution_count": 84,
   "metadata": {},
   "outputs": [],
   "source": [
    "df.officer_age.fillna(int(df.officer_age.mean()), inplace = True)"
   ]
  },
  {
   "cell_type": "code",
   "execution_count": 85,
   "metadata": {},
   "outputs": [],
   "source": [
    "df['officer_age'] = (df.date.dt.year - df.officer_age)"
   ]
  },
  {
   "cell_type": "code",
   "execution_count": 90,
   "metadata": {},
   "outputs": [],
   "source": [
    "df = df.drop(df[df.officer_age >70].index)"
   ]
  },
  {
   "cell_type": "code",
   "execution_count": 91,
   "metadata": {},
   "outputs": [
    {
     "data": {
      "text/plain": [
       "count    47961.000000\n",
       "mean        34.566648\n",
       "std          8.420693\n",
       "min         21.000000\n",
       "25%         28.000000\n",
       "50%         33.000000\n",
       "75%         39.000000\n",
       "max         70.000000\n",
       "Name: officer_age, dtype: float64"
      ]
     },
     "execution_count": 91,
     "metadata": {},
     "output_type": "execute_result"
    }
   ],
   "source": [
    "df.officer_age.describe()"
   ]
  },
  {
   "cell_type": "code",
   "execution_count": null,
   "metadata": {},
   "outputs": [],
   "source": []
  }
 ],
 "metadata": {
  "kernelspec": {
   "display_name": "Python 3",
   "language": "python",
   "name": "python3"
  },
  "language_info": {
   "codemirror_mode": {
    "name": "ipython",
    "version": 3
   },
   "file_extension": ".py",
   "mimetype": "text/x-python",
   "name": "python",
   "nbconvert_exporter": "python",
   "pygments_lexer": "ipython3",
   "version": "3.8.5"
  }
 },
 "nbformat": 4,
 "nbformat_minor": 4
}
