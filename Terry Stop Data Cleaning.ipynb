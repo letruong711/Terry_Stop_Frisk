{
 "cells": [
  {
   "cell_type": "markdown",
   "metadata": {},
   "source": [
    "## Step 1: Import the dataset, explore and ready the data for analysis ##"
   ]
  },
  {
   "cell_type": "code",
   "execution_count": 2,
   "metadata": {},
   "outputs": [],
   "source": [
    "import pandas as pd\n",
    "import numpy as np\n",
    "from datetime import datetime\n",
    "import datetime as dt\n",
    "\n",
    "import matplotlib.pyplot as plt\n",
    "import seaborn as sns\n",
    "import matplotlib.dates as mdates\n",
    "from sklearn.linear_model import LinearRegression\n",
    "from sklearn.model_selection import train_test_split\n",
    "from matplotlib import dates as mpl_dates"
   ]
  },
  {
   "cell_type": "markdown",
   "metadata": {},
   "source": [
    "#### Import Data Frame"
   ]
  },
  {
   "cell_type": "code",
   "execution_count": 136,
   "metadata": {
    "scrolled": true
   },
   "outputs": [
    {
     "ename": "FileNotFoundError",
     "evalue": "[Errno 2] No such file or directory: 'C:\\\\Users\\\\Le\\\\Documents\\\\Flatiron\\\\Phase-3-Project\\\\dsc-phase-3-project\\\\Terry_Stop_Original.csv'",
     "output_type": "error",
     "traceback": [
      "\u001b[1;31m---------------------------------------------------------------------------\u001b[0m",
      "\u001b[1;31mFileNotFoundError\u001b[0m                         Traceback (most recent call last)",
      "\u001b[1;32m<ipython-input-136-f7e03adff968>\u001b[0m in \u001b[0;36m<module>\u001b[1;34m\u001b[0m\n\u001b[0;32m      1\u001b[0m \u001b[1;31m#use df as basis to start all exploration --> laptop\u001b[0m\u001b[1;33m\u001b[0m\u001b[1;33m\u001b[0m\u001b[1;33m\u001b[0m\u001b[0m\n\u001b[1;32m----> 2\u001b[1;33m \u001b[0mdata\u001b[0m \u001b[1;33m=\u001b[0m \u001b[0mpd\u001b[0m\u001b[1;33m.\u001b[0m\u001b[0mread_csv\u001b[0m\u001b[1;33m(\u001b[0m\u001b[1;34mr\"C:\\Users\\Le\\Documents\\Flatiron\\Phase-3-Project\\dsc-phase-3-project\\Terry_Stop_Original.csv\"\u001b[0m\u001b[1;33m)\u001b[0m\u001b[1;33m\u001b[0m\u001b[1;33m\u001b[0m\u001b[0m\n\u001b[0m\u001b[0;32m      3\u001b[0m \u001b[0mdata\u001b[0m\u001b[1;33m\u001b[0m\u001b[1;33m\u001b[0m\u001b[0m\n",
      "\u001b[1;32m~\\anaconda3\\lib\\site-packages\\pandas\\io\\parsers.py\u001b[0m in \u001b[0;36mread_csv\u001b[1;34m(filepath_or_buffer, sep, delimiter, header, names, index_col, usecols, squeeze, prefix, mangle_dupe_cols, dtype, engine, converters, true_values, false_values, skipinitialspace, skiprows, skipfooter, nrows, na_values, keep_default_na, na_filter, verbose, skip_blank_lines, parse_dates, infer_datetime_format, keep_date_col, date_parser, dayfirst, cache_dates, iterator, chunksize, compression, thousands, decimal, lineterminator, quotechar, quoting, doublequote, escapechar, comment, encoding, dialect, error_bad_lines, warn_bad_lines, delim_whitespace, low_memory, memory_map, float_precision)\u001b[0m\n\u001b[0;32m    684\u001b[0m     )\n\u001b[0;32m    685\u001b[0m \u001b[1;33m\u001b[0m\u001b[0m\n\u001b[1;32m--> 686\u001b[1;33m     \u001b[1;32mreturn\u001b[0m \u001b[0m_read\u001b[0m\u001b[1;33m(\u001b[0m\u001b[0mfilepath_or_buffer\u001b[0m\u001b[1;33m,\u001b[0m \u001b[0mkwds\u001b[0m\u001b[1;33m)\u001b[0m\u001b[1;33m\u001b[0m\u001b[1;33m\u001b[0m\u001b[0m\n\u001b[0m\u001b[0;32m    687\u001b[0m \u001b[1;33m\u001b[0m\u001b[0m\n\u001b[0;32m    688\u001b[0m \u001b[1;33m\u001b[0m\u001b[0m\n",
      "\u001b[1;32m~\\anaconda3\\lib\\site-packages\\pandas\\io\\parsers.py\u001b[0m in \u001b[0;36m_read\u001b[1;34m(filepath_or_buffer, kwds)\u001b[0m\n\u001b[0;32m    450\u001b[0m \u001b[1;33m\u001b[0m\u001b[0m\n\u001b[0;32m    451\u001b[0m     \u001b[1;31m# Create the parser.\u001b[0m\u001b[1;33m\u001b[0m\u001b[1;33m\u001b[0m\u001b[1;33m\u001b[0m\u001b[0m\n\u001b[1;32m--> 452\u001b[1;33m     \u001b[0mparser\u001b[0m \u001b[1;33m=\u001b[0m \u001b[0mTextFileReader\u001b[0m\u001b[1;33m(\u001b[0m\u001b[0mfp_or_buf\u001b[0m\u001b[1;33m,\u001b[0m \u001b[1;33m**\u001b[0m\u001b[0mkwds\u001b[0m\u001b[1;33m)\u001b[0m\u001b[1;33m\u001b[0m\u001b[1;33m\u001b[0m\u001b[0m\n\u001b[0m\u001b[0;32m    453\u001b[0m \u001b[1;33m\u001b[0m\u001b[0m\n\u001b[0;32m    454\u001b[0m     \u001b[1;32mif\u001b[0m \u001b[0mchunksize\u001b[0m \u001b[1;32mor\u001b[0m \u001b[0miterator\u001b[0m\u001b[1;33m:\u001b[0m\u001b[1;33m\u001b[0m\u001b[1;33m\u001b[0m\u001b[0m\n",
      "\u001b[1;32m~\\anaconda3\\lib\\site-packages\\pandas\\io\\parsers.py\u001b[0m in \u001b[0;36m__init__\u001b[1;34m(self, f, engine, **kwds)\u001b[0m\n\u001b[0;32m    944\u001b[0m             \u001b[0mself\u001b[0m\u001b[1;33m.\u001b[0m\u001b[0moptions\u001b[0m\u001b[1;33m[\u001b[0m\u001b[1;34m\"has_index_names\"\u001b[0m\u001b[1;33m]\u001b[0m \u001b[1;33m=\u001b[0m \u001b[0mkwds\u001b[0m\u001b[1;33m[\u001b[0m\u001b[1;34m\"has_index_names\"\u001b[0m\u001b[1;33m]\u001b[0m\u001b[1;33m\u001b[0m\u001b[1;33m\u001b[0m\u001b[0m\n\u001b[0;32m    945\u001b[0m \u001b[1;33m\u001b[0m\u001b[0m\n\u001b[1;32m--> 946\u001b[1;33m         \u001b[0mself\u001b[0m\u001b[1;33m.\u001b[0m\u001b[0m_make_engine\u001b[0m\u001b[1;33m(\u001b[0m\u001b[0mself\u001b[0m\u001b[1;33m.\u001b[0m\u001b[0mengine\u001b[0m\u001b[1;33m)\u001b[0m\u001b[1;33m\u001b[0m\u001b[1;33m\u001b[0m\u001b[0m\n\u001b[0m\u001b[0;32m    947\u001b[0m \u001b[1;33m\u001b[0m\u001b[0m\n\u001b[0;32m    948\u001b[0m     \u001b[1;32mdef\u001b[0m \u001b[0mclose\u001b[0m\u001b[1;33m(\u001b[0m\u001b[0mself\u001b[0m\u001b[1;33m)\u001b[0m\u001b[1;33m:\u001b[0m\u001b[1;33m\u001b[0m\u001b[1;33m\u001b[0m\u001b[0m\n",
      "\u001b[1;32m~\\anaconda3\\lib\\site-packages\\pandas\\io\\parsers.py\u001b[0m in \u001b[0;36m_make_engine\u001b[1;34m(self, engine)\u001b[0m\n\u001b[0;32m   1176\u001b[0m     \u001b[1;32mdef\u001b[0m \u001b[0m_make_engine\u001b[0m\u001b[1;33m(\u001b[0m\u001b[0mself\u001b[0m\u001b[1;33m,\u001b[0m \u001b[0mengine\u001b[0m\u001b[1;33m=\u001b[0m\u001b[1;34m\"c\"\u001b[0m\u001b[1;33m)\u001b[0m\u001b[1;33m:\u001b[0m\u001b[1;33m\u001b[0m\u001b[1;33m\u001b[0m\u001b[0m\n\u001b[0;32m   1177\u001b[0m         \u001b[1;32mif\u001b[0m \u001b[0mengine\u001b[0m \u001b[1;33m==\u001b[0m \u001b[1;34m\"c\"\u001b[0m\u001b[1;33m:\u001b[0m\u001b[1;33m\u001b[0m\u001b[1;33m\u001b[0m\u001b[0m\n\u001b[1;32m-> 1178\u001b[1;33m             \u001b[0mself\u001b[0m\u001b[1;33m.\u001b[0m\u001b[0m_engine\u001b[0m \u001b[1;33m=\u001b[0m \u001b[0mCParserWrapper\u001b[0m\u001b[1;33m(\u001b[0m\u001b[0mself\u001b[0m\u001b[1;33m.\u001b[0m\u001b[0mf\u001b[0m\u001b[1;33m,\u001b[0m \u001b[1;33m**\u001b[0m\u001b[0mself\u001b[0m\u001b[1;33m.\u001b[0m\u001b[0moptions\u001b[0m\u001b[1;33m)\u001b[0m\u001b[1;33m\u001b[0m\u001b[1;33m\u001b[0m\u001b[0m\n\u001b[0m\u001b[0;32m   1179\u001b[0m         \u001b[1;32melse\u001b[0m\u001b[1;33m:\u001b[0m\u001b[1;33m\u001b[0m\u001b[1;33m\u001b[0m\u001b[0m\n\u001b[0;32m   1180\u001b[0m             \u001b[1;32mif\u001b[0m \u001b[0mengine\u001b[0m \u001b[1;33m==\u001b[0m \u001b[1;34m\"python\"\u001b[0m\u001b[1;33m:\u001b[0m\u001b[1;33m\u001b[0m\u001b[1;33m\u001b[0m\u001b[0m\n",
      "\u001b[1;32m~\\anaconda3\\lib\\site-packages\\pandas\\io\\parsers.py\u001b[0m in \u001b[0;36m__init__\u001b[1;34m(self, src, **kwds)\u001b[0m\n\u001b[0;32m   2006\u001b[0m         \u001b[0mkwds\u001b[0m\u001b[1;33m[\u001b[0m\u001b[1;34m\"usecols\"\u001b[0m\u001b[1;33m]\u001b[0m \u001b[1;33m=\u001b[0m \u001b[0mself\u001b[0m\u001b[1;33m.\u001b[0m\u001b[0musecols\u001b[0m\u001b[1;33m\u001b[0m\u001b[1;33m\u001b[0m\u001b[0m\n\u001b[0;32m   2007\u001b[0m \u001b[1;33m\u001b[0m\u001b[0m\n\u001b[1;32m-> 2008\u001b[1;33m         \u001b[0mself\u001b[0m\u001b[1;33m.\u001b[0m\u001b[0m_reader\u001b[0m \u001b[1;33m=\u001b[0m \u001b[0mparsers\u001b[0m\u001b[1;33m.\u001b[0m\u001b[0mTextReader\u001b[0m\u001b[1;33m(\u001b[0m\u001b[0msrc\u001b[0m\u001b[1;33m,\u001b[0m \u001b[1;33m**\u001b[0m\u001b[0mkwds\u001b[0m\u001b[1;33m)\u001b[0m\u001b[1;33m\u001b[0m\u001b[1;33m\u001b[0m\u001b[0m\n\u001b[0m\u001b[0;32m   2009\u001b[0m         \u001b[0mself\u001b[0m\u001b[1;33m.\u001b[0m\u001b[0munnamed_cols\u001b[0m \u001b[1;33m=\u001b[0m \u001b[0mself\u001b[0m\u001b[1;33m.\u001b[0m\u001b[0m_reader\u001b[0m\u001b[1;33m.\u001b[0m\u001b[0munnamed_cols\u001b[0m\u001b[1;33m\u001b[0m\u001b[1;33m\u001b[0m\u001b[0m\n\u001b[0;32m   2010\u001b[0m \u001b[1;33m\u001b[0m\u001b[0m\n",
      "\u001b[1;32mpandas\\_libs\\parsers.pyx\u001b[0m in \u001b[0;36mpandas._libs.parsers.TextReader.__cinit__\u001b[1;34m()\u001b[0m\n",
      "\u001b[1;32mpandas\\_libs\\parsers.pyx\u001b[0m in \u001b[0;36mpandas._libs.parsers.TextReader._setup_parser_source\u001b[1;34m()\u001b[0m\n",
      "\u001b[1;31mFileNotFoundError\u001b[0m: [Errno 2] No such file or directory: 'C:\\\\Users\\\\Le\\\\Documents\\\\Flatiron\\\\Phase-3-Project\\\\dsc-phase-3-project\\\\Terry_Stop_Original.csv'"
     ]
    }
   ],
   "source": [
    "#use df as basis to start all exploration --> laptop\n",
    "data = pd.read_csv(r\"C:\\Users\\Le\\Documents\\Flatiron\\Phase-3-Project\\dsc-phase-3-project\\Terry_Stop_Original.csv\")\n",
    "data"
   ]
  },
  {
   "cell_type": "code",
   "execution_count": 3,
   "metadata": {
    "scrolled": false
   },
   "outputs": [
    {
     "data": {
      "text/html": [
       "<div>\n",
       "<style scoped>\n",
       "    .dataframe tbody tr th:only-of-type {\n",
       "        vertical-align: middle;\n",
       "    }\n",
       "\n",
       "    .dataframe tbody tr th {\n",
       "        vertical-align: top;\n",
       "    }\n",
       "\n",
       "    .dataframe thead th {\n",
       "        text-align: right;\n",
       "    }\n",
       "</style>\n",
       "<table border=\"1\" class=\"dataframe\">\n",
       "  <thead>\n",
       "    <tr style=\"text-align: right;\">\n",
       "      <th></th>\n",
       "      <th>Subject Age Group</th>\n",
       "      <th>Subject ID</th>\n",
       "      <th>GO / SC Num</th>\n",
       "      <th>Terry Stop ID</th>\n",
       "      <th>Stop Resolution</th>\n",
       "      <th>Weapon Type</th>\n",
       "      <th>Officer ID</th>\n",
       "      <th>Officer YOB</th>\n",
       "      <th>Officer Gender</th>\n",
       "      <th>Officer Race</th>\n",
       "      <th>...</th>\n",
       "      <th>Reported Time</th>\n",
       "      <th>Initial Call Type</th>\n",
       "      <th>Final Call Type</th>\n",
       "      <th>Call Type</th>\n",
       "      <th>Officer Squad</th>\n",
       "      <th>Arrest Flag</th>\n",
       "      <th>Frisk Flag</th>\n",
       "      <th>Precinct</th>\n",
       "      <th>Sector</th>\n",
       "      <th>Beat</th>\n",
       "    </tr>\n",
       "  </thead>\n",
       "  <tbody>\n",
       "    <tr>\n",
       "      <th>0</th>\n",
       "      <td>-</td>\n",
       "      <td>-1</td>\n",
       "      <td>2.014000e+13</td>\n",
       "      <td>92317</td>\n",
       "      <td>Arrest</td>\n",
       "      <td>None</td>\n",
       "      <td>7500</td>\n",
       "      <td>1984</td>\n",
       "      <td>M</td>\n",
       "      <td>Black or African American</td>\n",
       "      <td>...</td>\n",
       "      <td>11:32:00</td>\n",
       "      <td>-</td>\n",
       "      <td>-</td>\n",
       "      <td>-</td>\n",
       "      <td>SOUTH PCT 1ST W - ROBERT</td>\n",
       "      <td>N</td>\n",
       "      <td>N</td>\n",
       "      <td>South</td>\n",
       "      <td>O</td>\n",
       "      <td>O2</td>\n",
       "    </tr>\n",
       "    <tr>\n",
       "      <th>1</th>\n",
       "      <td>-</td>\n",
       "      <td>-1</td>\n",
       "      <td>2.015000e+13</td>\n",
       "      <td>28806</td>\n",
       "      <td>Field Contact</td>\n",
       "      <td>None</td>\n",
       "      <td>5670</td>\n",
       "      <td>1965</td>\n",
       "      <td>M</td>\n",
       "      <td>White</td>\n",
       "      <td>...</td>\n",
       "      <td>7:59:00</td>\n",
       "      <td>-</td>\n",
       "      <td>-</td>\n",
       "      <td>-</td>\n",
       "      <td>NaN</td>\n",
       "      <td>N</td>\n",
       "      <td>N</td>\n",
       "      <td>-</td>\n",
       "      <td>-</td>\n",
       "      <td>-</td>\n",
       "    </tr>\n",
       "    <tr>\n",
       "      <th>2</th>\n",
       "      <td>-</td>\n",
       "      <td>-1</td>\n",
       "      <td>2.015000e+13</td>\n",
       "      <td>29599</td>\n",
       "      <td>Field Contact</td>\n",
       "      <td>None</td>\n",
       "      <td>4844</td>\n",
       "      <td>1961</td>\n",
       "      <td>M</td>\n",
       "      <td>White</td>\n",
       "      <td>...</td>\n",
       "      <td>19:12:00</td>\n",
       "      <td>-</td>\n",
       "      <td>-</td>\n",
       "      <td>-</td>\n",
       "      <td>NaN</td>\n",
       "      <td>N</td>\n",
       "      <td>-</td>\n",
       "      <td>-</td>\n",
       "      <td>-</td>\n",
       "      <td>-</td>\n",
       "    </tr>\n",
       "    <tr>\n",
       "      <th>3</th>\n",
       "      <td>-</td>\n",
       "      <td>-1</td>\n",
       "      <td>2.015000e+13</td>\n",
       "      <td>32260</td>\n",
       "      <td>Field Contact</td>\n",
       "      <td>None</td>\n",
       "      <td>7539</td>\n",
       "      <td>1963</td>\n",
       "      <td>M</td>\n",
       "      <td>White</td>\n",
       "      <td>...</td>\n",
       "      <td>4:55:00</td>\n",
       "      <td>-</td>\n",
       "      <td>-</td>\n",
       "      <td>-</td>\n",
       "      <td>NaN</td>\n",
       "      <td>N</td>\n",
       "      <td>N</td>\n",
       "      <td>-</td>\n",
       "      <td>-</td>\n",
       "      <td>-</td>\n",
       "    </tr>\n",
       "    <tr>\n",
       "      <th>4</th>\n",
       "      <td>-</td>\n",
       "      <td>-1</td>\n",
       "      <td>2.015000e+13</td>\n",
       "      <td>33155</td>\n",
       "      <td>Field Contact</td>\n",
       "      <td>None</td>\n",
       "      <td>6973</td>\n",
       "      <td>1977</td>\n",
       "      <td>M</td>\n",
       "      <td>White</td>\n",
       "      <td>...</td>\n",
       "      <td>0:41:00</td>\n",
       "      <td>-</td>\n",
       "      <td>-</td>\n",
       "      <td>-</td>\n",
       "      <td>NaN</td>\n",
       "      <td>N</td>\n",
       "      <td>N</td>\n",
       "      <td>-</td>\n",
       "      <td>-</td>\n",
       "      <td>-</td>\n",
       "    </tr>\n",
       "    <tr>\n",
       "      <th>...</th>\n",
       "      <td>...</td>\n",
       "      <td>...</td>\n",
       "      <td>...</td>\n",
       "      <td>...</td>\n",
       "      <td>...</td>\n",
       "      <td>...</td>\n",
       "      <td>...</td>\n",
       "      <td>...</td>\n",
       "      <td>...</td>\n",
       "      <td>...</td>\n",
       "      <td>...</td>\n",
       "      <td>...</td>\n",
       "      <td>...</td>\n",
       "      <td>...</td>\n",
       "      <td>...</td>\n",
       "      <td>...</td>\n",
       "      <td>...</td>\n",
       "      <td>...</td>\n",
       "      <td>...</td>\n",
       "      <td>...</td>\n",
       "      <td>...</td>\n",
       "    </tr>\n",
       "    <tr>\n",
       "      <th>48744</th>\n",
       "      <td>56 and Above</td>\n",
       "      <td>25974371966</td>\n",
       "      <td>2.019000e+13</td>\n",
       "      <td>10395961962</td>\n",
       "      <td>Offense Report</td>\n",
       "      <td>-</td>\n",
       "      <td>8616</td>\n",
       "      <td>1986</td>\n",
       "      <td>M</td>\n",
       "      <td>White</td>\n",
       "      <td>...</td>\n",
       "      <td>3:46:04</td>\n",
       "      <td>BURG - COMM BURGLARY (INCLUDES SCHOOLS)</td>\n",
       "      <td>#NAME?</td>\n",
       "      <td>ALARM CALL (NOT POLICE ALARM)</td>\n",
       "      <td>WEST PCT 3RD W - KING</td>\n",
       "      <td>N</td>\n",
       "      <td>N</td>\n",
       "      <td>-</td>\n",
       "      <td>-</td>\n",
       "      <td>-</td>\n",
       "    </tr>\n",
       "    <tr>\n",
       "      <th>48745</th>\n",
       "      <td>56 and Above</td>\n",
       "      <td>25974371966</td>\n",
       "      <td>2.019000e+13</td>\n",
       "      <td>11693922467</td>\n",
       "      <td>Offense Report</td>\n",
       "      <td>-</td>\n",
       "      <td>7769</td>\n",
       "      <td>1969</td>\n",
       "      <td>M</td>\n",
       "      <td>White</td>\n",
       "      <td>...</td>\n",
       "      <td>5:26:09</td>\n",
       "      <td>PURSE SNATCH - ROBBERY</td>\n",
       "      <td>#NAME?</td>\n",
       "      <td>ONVIEW</td>\n",
       "      <td>WEST PCT 1ST W - KING/QUEEN</td>\n",
       "      <td>N</td>\n",
       "      <td>N</td>\n",
       "      <td>West</td>\n",
       "      <td>K</td>\n",
       "      <td>K3</td>\n",
       "    </tr>\n",
       "    <tr>\n",
       "      <th>48746</th>\n",
       "      <td>56 and Above</td>\n",
       "      <td>25974371966</td>\n",
       "      <td>2.020000e+13</td>\n",
       "      <td>12898432903</td>\n",
       "      <td>Field Contact</td>\n",
       "      <td>-</td>\n",
       "      <td>8647</td>\n",
       "      <td>1993</td>\n",
       "      <td>F</td>\n",
       "      <td>White</td>\n",
       "      <td>...</td>\n",
       "      <td>2:19:32</td>\n",
       "      <td>SUSPICIOUS STOP - OFFICER INITIATED ONVIEW</td>\n",
       "      <td>#NAME?</td>\n",
       "      <td>ONVIEW</td>\n",
       "      <td>WEST PCT 3RD W - D/M RELIEF</td>\n",
       "      <td>N</td>\n",
       "      <td>N</td>\n",
       "      <td>West</td>\n",
       "      <td>K</td>\n",
       "      <td>K3</td>\n",
       "    </tr>\n",
       "    <tr>\n",
       "      <th>48747</th>\n",
       "      <td>56 and Above</td>\n",
       "      <td>25974371966</td>\n",
       "      <td>2.020000e+13</td>\n",
       "      <td>19241002526</td>\n",
       "      <td>Field Contact</td>\n",
       "      <td>-</td>\n",
       "      <td>6799</td>\n",
       "      <td>1976</td>\n",
       "      <td>M</td>\n",
       "      <td>Hispanic or Latino</td>\n",
       "      <td>...</td>\n",
       "      <td>12:34:11</td>\n",
       "      <td>SHOPLIFT - THEFT</td>\n",
       "      <td>#NAME?</td>\n",
       "      <td>911</td>\n",
       "      <td>WEST PCT 2ND W - SPECIAL BEATS</td>\n",
       "      <td>N</td>\n",
       "      <td>N</td>\n",
       "      <td>West</td>\n",
       "      <td>K</td>\n",
       "      <td>K1</td>\n",
       "    </tr>\n",
       "    <tr>\n",
       "      <th>48748</th>\n",
       "      <td>56 and Above</td>\n",
       "      <td>26523685710</td>\n",
       "      <td>2.021000e+13</td>\n",
       "      <td>26525039065</td>\n",
       "      <td>Field Contact</td>\n",
       "      <td>-</td>\n",
       "      <td>8348</td>\n",
       "      <td>1988</td>\n",
       "      <td>M</td>\n",
       "      <td>White</td>\n",
       "      <td>...</td>\n",
       "      <td>22:56:55</td>\n",
       "      <td>SHOTS - IP/JO - INCLUDES HEARD/NO ASSAULT</td>\n",
       "      <td>#NAME?</td>\n",
       "      <td>911</td>\n",
       "      <td>CRG - SQUAD 81B</td>\n",
       "      <td>N</td>\n",
       "      <td>N</td>\n",
       "      <td>West</td>\n",
       "      <td>Q</td>\n",
       "      <td>Q3</td>\n",
       "    </tr>\n",
       "  </tbody>\n",
       "</table>\n",
       "<p>48749 rows × 23 columns</p>\n",
       "</div>"
      ],
      "text/plain": [
       "      Subject Age Group   Subject ID   GO / SC Num  Terry Stop ID  \\\n",
       "0                     -           -1  2.014000e+13          92317   \n",
       "1                     -           -1  2.015000e+13          28806   \n",
       "2                     -           -1  2.015000e+13          29599   \n",
       "3                     -           -1  2.015000e+13          32260   \n",
       "4                     -           -1  2.015000e+13          33155   \n",
       "...                 ...          ...           ...            ...   \n",
       "48744      56 and Above  25974371966  2.019000e+13    10395961962   \n",
       "48745      56 and Above  25974371966  2.019000e+13    11693922467   \n",
       "48746      56 and Above  25974371966  2.020000e+13    12898432903   \n",
       "48747      56 and Above  25974371966  2.020000e+13    19241002526   \n",
       "48748      56 and Above  26523685710  2.021000e+13    26525039065   \n",
       "\n",
       "      Stop Resolution Weapon Type Officer ID  Officer YOB Officer Gender  \\\n",
       "0              Arrest        None       7500         1984              M   \n",
       "1       Field Contact        None       5670         1965              M   \n",
       "2       Field Contact        None       4844         1961              M   \n",
       "3       Field Contact        None       7539         1963              M   \n",
       "4       Field Contact        None       6973         1977              M   \n",
       "...               ...         ...        ...          ...            ...   \n",
       "48744  Offense Report           -       8616         1986              M   \n",
       "48745  Offense Report           -       7769         1969              M   \n",
       "48746   Field Contact           -       8647         1993              F   \n",
       "48747   Field Contact           -       6799         1976              M   \n",
       "48748   Field Contact           -       8348         1988              M   \n",
       "\n",
       "                    Officer Race  ... Reported Time  \\\n",
       "0      Black or African American  ...      11:32:00   \n",
       "1                          White  ...       7:59:00   \n",
       "2                          White  ...      19:12:00   \n",
       "3                          White  ...       4:55:00   \n",
       "4                          White  ...       0:41:00   \n",
       "...                          ...  ...           ...   \n",
       "48744                      White  ...       3:46:04   \n",
       "48745                      White  ...       5:26:09   \n",
       "48746                      White  ...       2:19:32   \n",
       "48747         Hispanic or Latino  ...      12:34:11   \n",
       "48748                      White  ...      22:56:55   \n",
       "\n",
       "                                Initial Call Type Final Call Type  \\\n",
       "0                                               -               -   \n",
       "1                                               -               -   \n",
       "2                                               -               -   \n",
       "3                                               -               -   \n",
       "4                                               -               -   \n",
       "...                                           ...             ...   \n",
       "48744     BURG - COMM BURGLARY (INCLUDES SCHOOLS)          #NAME?   \n",
       "48745                      PURSE SNATCH - ROBBERY          #NAME?   \n",
       "48746  SUSPICIOUS STOP - OFFICER INITIATED ONVIEW          #NAME?   \n",
       "48747                            SHOPLIFT - THEFT          #NAME?   \n",
       "48748   SHOTS - IP/JO - INCLUDES HEARD/NO ASSAULT          #NAME?   \n",
       "\n",
       "                           Call Type                   Officer Squad  \\\n",
       "0                                  -        SOUTH PCT 1ST W - ROBERT   \n",
       "1                                  -                             NaN   \n",
       "2                                  -                             NaN   \n",
       "3                                  -                             NaN   \n",
       "4                                  -                             NaN   \n",
       "...                              ...                             ...   \n",
       "48744  ALARM CALL (NOT POLICE ALARM)           WEST PCT 3RD W - KING   \n",
       "48745                         ONVIEW     WEST PCT 1ST W - KING/QUEEN   \n",
       "48746                         ONVIEW     WEST PCT 3RD W - D/M RELIEF   \n",
       "48747                            911  WEST PCT 2ND W - SPECIAL BEATS   \n",
       "48748                            911                 CRG - SQUAD 81B   \n",
       "\n",
       "      Arrest Flag Frisk Flag Precinct  Sector    Beat  \n",
       "0               N          N    South  O       O2      \n",
       "1               N          N        -       -       -  \n",
       "2               N          -        -       -       -  \n",
       "3               N          N        -       -       -  \n",
       "4               N          N        -       -       -  \n",
       "...           ...        ...      ...     ...     ...  \n",
       "48744           N          N        -       -       -  \n",
       "48745           N          N     West       K      K3  \n",
       "48746           N          N     West       K      K3  \n",
       "48747           N          N     West       K      K1  \n",
       "48748           N          N     West       Q      Q3  \n",
       "\n",
       "[48749 rows x 23 columns]"
      ]
     },
     "execution_count": 3,
     "metadata": {},
     "output_type": "execute_result"
    }
   ],
   "source": [
    "#use df as basis to start all exploration = desktop\n",
    "df = pd.read_csv(r\"C:\\Users\\letru\\Documents\\Flatiron\\Phase-3-Project\\dsc-phase-3-project\\Terry_Stop_Original.csv\")\n",
    "df"
   ]
  },
  {
   "cell_type": "markdown",
   "metadata": {},
   "source": [
    "#### Exploring dataframe columns and figuring out what I need."
   ]
  },
  {
   "cell_type": "code",
   "execution_count": 4,
   "metadata": {},
   "outputs": [
    {
     "data": {
      "text/plain": [
       "(48749, 23)"
      ]
     },
     "execution_count": 4,
     "metadata": {},
     "output_type": "execute_result"
    }
   ],
   "source": [
    "df.shape"
   ]
  },
  {
   "cell_type": "code",
   "execution_count": 5,
   "metadata": {},
   "outputs": [
    {
     "data": {
      "text/plain": [
       "Index(['Subject Age Group', 'Subject ID', 'GO / SC Num', 'Terry Stop ID',\n",
       "       'Stop Resolution', 'Weapon Type', 'Officer ID', 'Officer YOB',\n",
       "       'Officer Gender', 'Officer Race', 'Subject Perceived Race',\n",
       "       'Subject Perceived Gender', 'Reported Date', 'Reported Time',\n",
       "       'Initial Call Type', 'Final Call Type', 'Call Type', 'Officer Squad',\n",
       "       'Arrest Flag', 'Frisk Flag', 'Precinct', 'Sector', 'Beat'],\n",
       "      dtype='object')"
      ]
     },
     "execution_count": 5,
     "metadata": {},
     "output_type": "execute_result"
    }
   ],
   "source": [
    "df.columns"
   ]
  },
  {
   "cell_type": "code",
   "execution_count": 6,
   "metadata": {},
   "outputs": [],
   "source": [
    "#selecting columns that I'm going to be using\n",
    "df = df[['Subject Age Group', 'Stop Resolution',\n",
    "         'Weapon Type', 'Officer YOB', \n",
    "         'Officer Gender', 'Officer Race', 'Subject Perceived Race', \n",
    "         'Subject Perceived Gender', 'Reported Date', 'Initial Call Type','Call Type', 'Arrest Flag', 'Frisk Flag', ]]"
   ]
  },
  {
   "cell_type": "code",
   "execution_count": 7,
   "metadata": {},
   "outputs": [],
   "source": [
    "#removing spaces and capital letters to easier pull up columns later.\n",
    "df.columns = ['subject_age', 'stop_resolution',\n",
    "         'weapon_type', 'officer_age', \n",
    "         'officer_gender', 'officer_race', 'subject_race', \n",
    "         'subject_gender', 'date', 'initial_call_type', 'call_type', 'arrest', 'frisk']"
   ]
  },
  {
   "cell_type": "markdown",
   "metadata": {},
   "source": [
    "## See information about each column."
   ]
  },
  {
   "cell_type": "code",
   "execution_count": 8,
   "metadata": {
    "scrolled": false
   },
   "outputs": [
    {
     "name": "stdout",
     "output_type": "stream",
     "text": [
      "<class 'pandas.core.frame.DataFrame'>\n",
      "RangeIndex: 48749 entries, 0 to 48748\n",
      "Data columns (total 13 columns):\n",
      " #   Column             Non-Null Count  Dtype \n",
      "---  ------             --------------  ----- \n",
      " 0   subject_age        48749 non-null  object\n",
      " 1   stop_resolution    48749 non-null  object\n",
      " 2   weapon_type        48749 non-null  object\n",
      " 3   officer_age        48749 non-null  int64 \n",
      " 4   officer_gender     48749 non-null  object\n",
      " 5   officer_race       48749 non-null  object\n",
      " 6   subject_race       48749 non-null  object\n",
      " 7   subject_gender     48749 non-null  object\n",
      " 8   date               48749 non-null  object\n",
      " 9   initial_call_type  48749 non-null  object\n",
      " 10  call_type          48749 non-null  object\n",
      " 11  arrest             48749 non-null  object\n",
      " 12  frisk              48749 non-null  object\n",
      "dtypes: int64(1), object(12)\n",
      "memory usage: 4.8+ MB\n"
     ]
    }
   ],
   "source": [
    "df.info()"
   ]
  },
  {
   "cell_type": "code",
   "execution_count": 9,
   "metadata": {},
   "outputs": [],
   "source": [
    "# change the data type for the category & datetime columns\n",
    "df = df.astype({'subject_age': 'category', 'officer_gender':'category', \n",
    "                'officer_race': 'category', 'subject_race':'category', \n",
    "                'subject_gender':'category', 'date':'datetime64','arrest':'category', \n",
    "                'frisk':'category'})"
   ]
  },
  {
   "cell_type": "code",
   "execution_count": 10,
   "metadata": {},
   "outputs": [],
   "source": [
    "#replace '-' with NaN values\n",
    "df.replace('-', np.nan, inplace = True)"
   ]
  },
  {
   "cell_type": "markdown",
   "metadata": {},
   "source": [
    "## Looking at each column individually."
   ]
  },
  {
   "cell_type": "markdown",
   "metadata": {},
   "source": [
    "#### Subject Age"
   ]
  },
  {
   "cell_type": "code",
   "execution_count": 11,
   "metadata": {},
   "outputs": [
    {
     "data": {
      "text/plain": [
       "26 - 35         16238\n",
       "36 - 45         10407\n",
       "18 - 25          9717\n",
       "46 - 55          6303\n",
       "56 and Above     2482\n",
       "17-Jan           1994\n",
       "NaN              1608\n",
       "Name: subject_age, dtype: int64"
      ]
     },
     "execution_count": 11,
     "metadata": {},
     "output_type": "execute_result"
    }
   ],
   "source": [
    "df.subject_age.value_counts(dropna = False)"
   ]
  },
  {
   "cell_type": "code",
   "execution_count": 12,
   "metadata": {},
   "outputs": [],
   "source": [
    "#replace 17-Jan with 1 - 17\n",
    "df.replace('17-Jan', 'Under 17', inplace = True)"
   ]
  },
  {
   "cell_type": "code",
   "execution_count": 13,
   "metadata": {
    "scrolled": true
   },
   "outputs": [
    {
     "data": {
      "text/plain": [
       "26 - 35         16238\n",
       "36 - 45         10407\n",
       "18 - 25          9717\n",
       "46 - 55          6303\n",
       "56 and Above     2482\n",
       "Under 17         1994\n",
       "NaN              1608\n",
       "Name: subject_age, dtype: int64"
      ]
     },
     "execution_count": 13,
     "metadata": {},
     "output_type": "execute_result"
    }
   ],
   "source": [
    "df.subject_age.value_counts(dropna = False)"
   ]
  },
  {
   "cell_type": "code",
   "execution_count": 14,
   "metadata": {
    "scrolled": true
   },
   "outputs": [],
   "source": [
    "#drop NA because not significant\n",
    "df = df.drop(df[pd.isna(df.subject_age)].index)"
   ]
  },
  {
   "cell_type": "markdown",
   "metadata": {},
   "source": [
    "#### Officer Age"
   ]
  },
  {
   "cell_type": "code",
   "execution_count": 16,
   "metadata": {},
   "outputs": [],
   "source": [
    "#input age of officer \n",
    "df['officer_age'] = (df.date.dt.year - df.officer_age)"
   ]
  },
  {
   "cell_type": "code",
   "execution_count": 17,
   "metadata": {},
   "outputs": [
    {
     "data": {
      "text/plain": [
       "count    47141.000000\n",
       "mean        34.528478\n",
       "std          8.645160\n",
       "min         21.000000\n",
       "25%         28.000000\n",
       "50%         32.000000\n",
       "75%         39.000000\n",
       "max        119.000000\n",
       "Name: officer_age, dtype: float64"
      ]
     },
     "execution_count": 17,
     "metadata": {},
     "output_type": "execute_result"
    }
   ],
   "source": [
    "#look at the range of officer age\n",
    "df.officer_age.describe()"
   ]
  },
  {
   "cell_type": "code",
   "execution_count": 18,
   "metadata": {
    "scrolled": true
   },
   "outputs": [
    {
     "data": {
      "text/html": [
       "<div>\n",
       "<style scoped>\n",
       "    .dataframe tbody tr th:only-of-type {\n",
       "        vertical-align: middle;\n",
       "    }\n",
       "\n",
       "    .dataframe tbody tr th {\n",
       "        vertical-align: top;\n",
       "    }\n",
       "\n",
       "    .dataframe thead th {\n",
       "        text-align: right;\n",
       "    }\n",
       "</style>\n",
       "<table border=\"1\" class=\"dataframe\">\n",
       "  <thead>\n",
       "    <tr style=\"text-align: right;\">\n",
       "      <th></th>\n",
       "      <th>subject_age</th>\n",
       "      <th>stop_resolution</th>\n",
       "      <th>weapon_type</th>\n",
       "      <th>officer_age</th>\n",
       "      <th>officer_gender</th>\n",
       "      <th>officer_race</th>\n",
       "      <th>subject_race</th>\n",
       "      <th>subject_gender</th>\n",
       "      <th>date</th>\n",
       "      <th>initial_call_type</th>\n",
       "      <th>call_type</th>\n",
       "      <th>arrest</th>\n",
       "      <th>frisk</th>\n",
       "    </tr>\n",
       "  </thead>\n",
       "  <tbody>\n",
       "    <tr>\n",
       "      <th>3644</th>\n",
       "      <td>18 - 25</td>\n",
       "      <td>Field Contact</td>\n",
       "      <td>None</td>\n",
       "      <td>115</td>\n",
       "      <td>N</td>\n",
       "      <td>Unknown</td>\n",
       "      <td>Black or African American</td>\n",
       "      <td>Male</td>\n",
       "      <td>2015-05-19</td>\n",
       "      <td>NaN</td>\n",
       "      <td>NaN</td>\n",
       "      <td>N</td>\n",
       "      <td>N</td>\n",
       "    </tr>\n",
       "    <tr>\n",
       "      <th>7269</th>\n",
       "      <td>18 - 25</td>\n",
       "      <td>Field Contact</td>\n",
       "      <td>None</td>\n",
       "      <td>117</td>\n",
       "      <td>N</td>\n",
       "      <td>Unknown</td>\n",
       "      <td>Unknown</td>\n",
       "      <td>Female</td>\n",
       "      <td>2017-06-06</td>\n",
       "      <td>NaN</td>\n",
       "      <td>NaN</td>\n",
       "      <td>N</td>\n",
       "      <td>N</td>\n",
       "    </tr>\n",
       "    <tr>\n",
       "      <th>9302</th>\n",
       "      <td>18 - 25</td>\n",
       "      <td>Arrest</td>\n",
       "      <td>None</td>\n",
       "      <td>118</td>\n",
       "      <td>N</td>\n",
       "      <td>Unknown</td>\n",
       "      <td>White</td>\n",
       "      <td>Male</td>\n",
       "      <td>2018-02-07</td>\n",
       "      <td>NaN</td>\n",
       "      <td>NaN</td>\n",
       "      <td>N</td>\n",
       "      <td>N</td>\n",
       "    </tr>\n",
       "    <tr>\n",
       "      <th>11342</th>\n",
       "      <td>18 - 25</td>\n",
       "      <td>Field Contact</td>\n",
       "      <td>NaN</td>\n",
       "      <td>119</td>\n",
       "      <td>M</td>\n",
       "      <td>Unknown</td>\n",
       "      <td>NaN</td>\n",
       "      <td>Male</td>\n",
       "      <td>2019-05-30</td>\n",
       "      <td>NaN</td>\n",
       "      <td>NaN</td>\n",
       "      <td>N</td>\n",
       "      <td>N</td>\n",
       "    </tr>\n",
       "    <tr>\n",
       "      <th>11919</th>\n",
       "      <td>18 - 25</td>\n",
       "      <td>Field Contact</td>\n",
       "      <td>NaN</td>\n",
       "      <td>119</td>\n",
       "      <td>N</td>\n",
       "      <td>Unknown</td>\n",
       "      <td>White</td>\n",
       "      <td>Female</td>\n",
       "      <td>2019-11-27</td>\n",
       "      <td>NaN</td>\n",
       "      <td>NaN</td>\n",
       "      <td>N</td>\n",
       "      <td>N</td>\n",
       "    </tr>\n",
       "    <tr>\n",
       "      <th>12562</th>\n",
       "      <td>18 - 25</td>\n",
       "      <td>Offense Report</td>\n",
       "      <td>NaN</td>\n",
       "      <td>119</td>\n",
       "      <td>N</td>\n",
       "      <td>Unknown</td>\n",
       "      <td>American Indian or Alaska Native</td>\n",
       "      <td>Female</td>\n",
       "      <td>2019-10-29</td>\n",
       "      <td>NaN</td>\n",
       "      <td>NaN</td>\n",
       "      <td>N</td>\n",
       "      <td>N</td>\n",
       "    </tr>\n",
       "    <tr>\n",
       "      <th>20808</th>\n",
       "      <td>26 - 35</td>\n",
       "      <td>Field Contact</td>\n",
       "      <td>None</td>\n",
       "      <td>118</td>\n",
       "      <td>M</td>\n",
       "      <td>Unknown</td>\n",
       "      <td>White</td>\n",
       "      <td>Female</td>\n",
       "      <td>2018-05-21</td>\n",
       "      <td>NaN</td>\n",
       "      <td>NaN</td>\n",
       "      <td>N</td>\n",
       "      <td>N</td>\n",
       "    </tr>\n",
       "    <tr>\n",
       "      <th>25264</th>\n",
       "      <td>26 - 35</td>\n",
       "      <td>Arrest</td>\n",
       "      <td>NaN</td>\n",
       "      <td>119</td>\n",
       "      <td>N</td>\n",
       "      <td>Unknown</td>\n",
       "      <td>White</td>\n",
       "      <td>Female</td>\n",
       "      <td>2019-08-15</td>\n",
       "      <td>NaN</td>\n",
       "      <td>NaN</td>\n",
       "      <td>Y</td>\n",
       "      <td>N</td>\n",
       "    </tr>\n",
       "    <tr>\n",
       "      <th>25595</th>\n",
       "      <td>26 - 35</td>\n",
       "      <td>Arrest</td>\n",
       "      <td>NaN</td>\n",
       "      <td>119</td>\n",
       "      <td>N</td>\n",
       "      <td>Unknown</td>\n",
       "      <td>White</td>\n",
       "      <td>Male</td>\n",
       "      <td>2019-10-23</td>\n",
       "      <td>NaN</td>\n",
       "      <td>NaN</td>\n",
       "      <td>Y</td>\n",
       "      <td>N</td>\n",
       "    </tr>\n",
       "    <tr>\n",
       "      <th>27140</th>\n",
       "      <td>26 - 35</td>\n",
       "      <td>Field Contact</td>\n",
       "      <td>NaN</td>\n",
       "      <td>119</td>\n",
       "      <td>M</td>\n",
       "      <td>Unknown</td>\n",
       "      <td>NaN</td>\n",
       "      <td>Male</td>\n",
       "      <td>2019-05-20</td>\n",
       "      <td>NaN</td>\n",
       "      <td>NaN</td>\n",
       "      <td>N</td>\n",
       "      <td>N</td>\n",
       "    </tr>\n",
       "    <tr>\n",
       "      <th>27633</th>\n",
       "      <td>26 - 35</td>\n",
       "      <td>Field Contact</td>\n",
       "      <td>NaN</td>\n",
       "      <td>119</td>\n",
       "      <td>M</td>\n",
       "      <td>Unknown</td>\n",
       "      <td>White</td>\n",
       "      <td>Male</td>\n",
       "      <td>2019-05-20</td>\n",
       "      <td>NaN</td>\n",
       "      <td>NaN</td>\n",
       "      <td>N</td>\n",
       "      <td>N</td>\n",
       "    </tr>\n",
       "    <tr>\n",
       "      <th>28360</th>\n",
       "      <td>26 - 35</td>\n",
       "      <td>Field Contact</td>\n",
       "      <td>NaN</td>\n",
       "      <td>119</td>\n",
       "      <td>N</td>\n",
       "      <td>Unknown</td>\n",
       "      <td>White</td>\n",
       "      <td>Male</td>\n",
       "      <td>2019-11-02</td>\n",
       "      <td>NaN</td>\n",
       "      <td>NaN</td>\n",
       "      <td>N</td>\n",
       "      <td>N</td>\n",
       "    </tr>\n",
       "    <tr>\n",
       "      <th>28383</th>\n",
       "      <td>26 - 35</td>\n",
       "      <td>Field Contact</td>\n",
       "      <td>NaN</td>\n",
       "      <td>119</td>\n",
       "      <td>N</td>\n",
       "      <td>Unknown</td>\n",
       "      <td>White</td>\n",
       "      <td>Male</td>\n",
       "      <td>2019-11-10</td>\n",
       "      <td>NaN</td>\n",
       "      <td>NaN</td>\n",
       "      <td>N</td>\n",
       "      <td>N</td>\n",
       "    </tr>\n",
       "    <tr>\n",
       "      <th>30905</th>\n",
       "      <td>36 - 45</td>\n",
       "      <td>Field Contact</td>\n",
       "      <td>None</td>\n",
       "      <td>116</td>\n",
       "      <td>N</td>\n",
       "      <td>Unknown</td>\n",
       "      <td>White</td>\n",
       "      <td>Female</td>\n",
       "      <td>2016-01-02</td>\n",
       "      <td>NaN</td>\n",
       "      <td>NaN</td>\n",
       "      <td>N</td>\n",
       "      <td>N</td>\n",
       "    </tr>\n",
       "    <tr>\n",
       "      <th>31360</th>\n",
       "      <td>36 - 45</td>\n",
       "      <td>Field Contact</td>\n",
       "      <td>None</td>\n",
       "      <td>116</td>\n",
       "      <td>N</td>\n",
       "      <td>Unknown</td>\n",
       "      <td>White</td>\n",
       "      <td>Male</td>\n",
       "      <td>2016-09-14</td>\n",
       "      <td>NaN</td>\n",
       "      <td>NaN</td>\n",
       "      <td>N</td>\n",
       "      <td>N</td>\n",
       "    </tr>\n",
       "    <tr>\n",
       "      <th>34825</th>\n",
       "      <td>56 and Above</td>\n",
       "      <td>Field Contact</td>\n",
       "      <td>NaN</td>\n",
       "      <td>119</td>\n",
       "      <td>N</td>\n",
       "      <td>Unknown</td>\n",
       "      <td>NaN</td>\n",
       "      <td>Male</td>\n",
       "      <td>2019-09-22</td>\n",
       "      <td>NaN</td>\n",
       "      <td>NaN</td>\n",
       "      <td>N</td>\n",
       "      <td>N</td>\n",
       "    </tr>\n",
       "    <tr>\n",
       "      <th>36941</th>\n",
       "      <td>36 - 45</td>\n",
       "      <td>Field Contact</td>\n",
       "      <td>NaN</td>\n",
       "      <td>119</td>\n",
       "      <td>N</td>\n",
       "      <td>Unknown</td>\n",
       "      <td>NaN</td>\n",
       "      <td>Female</td>\n",
       "      <td>2019-10-28</td>\n",
       "      <td>NaN</td>\n",
       "      <td>NaN</td>\n",
       "      <td>N</td>\n",
       "      <td>N</td>\n",
       "    </tr>\n",
       "    <tr>\n",
       "      <th>37223</th>\n",
       "      <td>36 - 45</td>\n",
       "      <td>Field Contact</td>\n",
       "      <td>NaN</td>\n",
       "      <td>119</td>\n",
       "      <td>N</td>\n",
       "      <td>Unknown</td>\n",
       "      <td>White</td>\n",
       "      <td>Female</td>\n",
       "      <td>2019-11-22</td>\n",
       "      <td>NaN</td>\n",
       "      <td>NaN</td>\n",
       "      <td>N</td>\n",
       "      <td>N</td>\n",
       "    </tr>\n",
       "    <tr>\n",
       "      <th>37266</th>\n",
       "      <td>36 - 45</td>\n",
       "      <td>Arrest</td>\n",
       "      <td>NaN</td>\n",
       "      <td>119</td>\n",
       "      <td>N</td>\n",
       "      <td>Unknown</td>\n",
       "      <td>Black or African American</td>\n",
       "      <td>Male</td>\n",
       "      <td>2019-06-06</td>\n",
       "      <td>NaN</td>\n",
       "      <td>NaN</td>\n",
       "      <td>Y</td>\n",
       "      <td>Y</td>\n",
       "    </tr>\n",
       "    <tr>\n",
       "      <th>37295</th>\n",
       "      <td>36 - 45</td>\n",
       "      <td>Field Contact</td>\n",
       "      <td>NaN</td>\n",
       "      <td>119</td>\n",
       "      <td>N</td>\n",
       "      <td>Unknown</td>\n",
       "      <td>NaN</td>\n",
       "      <td>Female</td>\n",
       "      <td>2019-07-09</td>\n",
       "      <td>NaN</td>\n",
       "      <td>NaN</td>\n",
       "      <td>N</td>\n",
       "      <td>N</td>\n",
       "    </tr>\n",
       "    <tr>\n",
       "      <th>37310</th>\n",
       "      <td>36 - 45</td>\n",
       "      <td>Offense Report</td>\n",
       "      <td>Knife/Cutting/Stabbing Instrument</td>\n",
       "      <td>119</td>\n",
       "      <td>M</td>\n",
       "      <td>Unknown</td>\n",
       "      <td>White</td>\n",
       "      <td>Male</td>\n",
       "      <td>2019-05-14</td>\n",
       "      <td>NaN</td>\n",
       "      <td>NaN</td>\n",
       "      <td>N</td>\n",
       "      <td>Y</td>\n",
       "    </tr>\n",
       "    <tr>\n",
       "      <th>37387</th>\n",
       "      <td>36 - 45</td>\n",
       "      <td>Field Contact</td>\n",
       "      <td>NaN</td>\n",
       "      <td>119</td>\n",
       "      <td>N</td>\n",
       "      <td>Unknown</td>\n",
       "      <td>White</td>\n",
       "      <td>Male</td>\n",
       "      <td>2019-07-21</td>\n",
       "      <td>NaN</td>\n",
       "      <td>NaN</td>\n",
       "      <td>N</td>\n",
       "      <td>N</td>\n",
       "    </tr>\n",
       "    <tr>\n",
       "      <th>38770</th>\n",
       "      <td>36 - 45</td>\n",
       "      <td>Field Contact</td>\n",
       "      <td>NaN</td>\n",
       "      <td>119</td>\n",
       "      <td>N</td>\n",
       "      <td>Unknown</td>\n",
       "      <td>White</td>\n",
       "      <td>Male</td>\n",
       "      <td>2019-11-22</td>\n",
       "      <td>NaN</td>\n",
       "      <td>NaN</td>\n",
       "      <td>N</td>\n",
       "      <td>N</td>\n",
       "    </tr>\n",
       "    <tr>\n",
       "      <th>39172</th>\n",
       "      <td>36 - 45</td>\n",
       "      <td>Field Contact</td>\n",
       "      <td>NaN</td>\n",
       "      <td>119</td>\n",
       "      <td>N</td>\n",
       "      <td>Unknown</td>\n",
       "      <td>NaN</td>\n",
       "      <td>Female</td>\n",
       "      <td>2019-09-30</td>\n",
       "      <td>NaN</td>\n",
       "      <td>NaN</td>\n",
       "      <td>N</td>\n",
       "      <td>N</td>\n",
       "    </tr>\n",
       "    <tr>\n",
       "      <th>39237</th>\n",
       "      <td>36 - 45</td>\n",
       "      <td>Field Contact</td>\n",
       "      <td>NaN</td>\n",
       "      <td>119</td>\n",
       "      <td>N</td>\n",
       "      <td>Unknown</td>\n",
       "      <td>White</td>\n",
       "      <td>Male</td>\n",
       "      <td>2019-11-10</td>\n",
       "      <td>NaN</td>\n",
       "      <td>NaN</td>\n",
       "      <td>N</td>\n",
       "      <td>N</td>\n",
       "    </tr>\n",
       "    <tr>\n",
       "      <th>39890</th>\n",
       "      <td>36 - 45</td>\n",
       "      <td>Field Contact</td>\n",
       "      <td>NaN</td>\n",
       "      <td>119</td>\n",
       "      <td>N</td>\n",
       "      <td>Unknown</td>\n",
       "      <td>NaN</td>\n",
       "      <td>Male</td>\n",
       "      <td>2019-10-24</td>\n",
       "      <td>NaN</td>\n",
       "      <td>NaN</td>\n",
       "      <td>N</td>\n",
       "      <td>N</td>\n",
       "    </tr>\n",
       "    <tr>\n",
       "      <th>44694</th>\n",
       "      <td>46 - 55</td>\n",
       "      <td>Field Contact</td>\n",
       "      <td>NaN</td>\n",
       "      <td>119</td>\n",
       "      <td>N</td>\n",
       "      <td>Unknown</td>\n",
       "      <td>Black or African American</td>\n",
       "      <td>Male</td>\n",
       "      <td>2019-07-13</td>\n",
       "      <td>NaN</td>\n",
       "      <td>NaN</td>\n",
       "      <td>N</td>\n",
       "      <td>N</td>\n",
       "    </tr>\n",
       "    <tr>\n",
       "      <th>44896</th>\n",
       "      <td>46 - 55</td>\n",
       "      <td>Offense Report</td>\n",
       "      <td>NaN</td>\n",
       "      <td>119</td>\n",
       "      <td>N</td>\n",
       "      <td>Unknown</td>\n",
       "      <td>American Indian or Alaska Native</td>\n",
       "      <td>Female</td>\n",
       "      <td>2019-10-23</td>\n",
       "      <td>NaN</td>\n",
       "      <td>NaN</td>\n",
       "      <td>N</td>\n",
       "      <td>N</td>\n",
       "    </tr>\n",
       "    <tr>\n",
       "      <th>45480</th>\n",
       "      <td>46 - 55</td>\n",
       "      <td>Field Contact</td>\n",
       "      <td>NaN</td>\n",
       "      <td>119</td>\n",
       "      <td>N</td>\n",
       "      <td>Unknown</td>\n",
       "      <td>White</td>\n",
       "      <td>Male</td>\n",
       "      <td>2019-09-22</td>\n",
       "      <td>NaN</td>\n",
       "      <td>NaN</td>\n",
       "      <td>N</td>\n",
       "      <td>N</td>\n",
       "    </tr>\n",
       "    <tr>\n",
       "      <th>46039</th>\n",
       "      <td>46 - 55</td>\n",
       "      <td>Field Contact</td>\n",
       "      <td>NaN</td>\n",
       "      <td>119</td>\n",
       "      <td>N</td>\n",
       "      <td>Unknown</td>\n",
       "      <td>White</td>\n",
       "      <td>Male</td>\n",
       "      <td>2019-09-29</td>\n",
       "      <td>NaN</td>\n",
       "      <td>NaN</td>\n",
       "      <td>N</td>\n",
       "      <td>N</td>\n",
       "    </tr>\n",
       "    <tr>\n",
       "      <th>47608</th>\n",
       "      <td>56 and Above</td>\n",
       "      <td>Offense Report</td>\n",
       "      <td>None</td>\n",
       "      <td>118</td>\n",
       "      <td>M</td>\n",
       "      <td>Unknown</td>\n",
       "      <td>Hispanic</td>\n",
       "      <td>Male</td>\n",
       "      <td>2018-07-10</td>\n",
       "      <td>UNKNOWN - ANI/ALI - WRLS PHNS (INCL OPEN LINE)</td>\n",
       "      <td>TELEPHONE OTHER, NOT 911</td>\n",
       "      <td>N</td>\n",
       "      <td>Y</td>\n",
       "    </tr>\n",
       "  </tbody>\n",
       "</table>\n",
       "</div>"
      ],
      "text/plain": [
       "        subject_age stop_resolution                        weapon_type  \\\n",
       "3644        18 - 25   Field Contact                               None   \n",
       "7269        18 - 25   Field Contact                               None   \n",
       "9302        18 - 25          Arrest                               None   \n",
       "11342       18 - 25   Field Contact                                NaN   \n",
       "11919       18 - 25   Field Contact                                NaN   \n",
       "12562       18 - 25  Offense Report                                NaN   \n",
       "20808       26 - 35   Field Contact                               None   \n",
       "25264       26 - 35          Arrest                                NaN   \n",
       "25595       26 - 35          Arrest                                NaN   \n",
       "27140       26 - 35   Field Contact                                NaN   \n",
       "27633       26 - 35   Field Contact                                NaN   \n",
       "28360       26 - 35   Field Contact                                NaN   \n",
       "28383       26 - 35   Field Contact                                NaN   \n",
       "30905       36 - 45   Field Contact                               None   \n",
       "31360       36 - 45   Field Contact                               None   \n",
       "34825  56 and Above   Field Contact                                NaN   \n",
       "36941       36 - 45   Field Contact                                NaN   \n",
       "37223       36 - 45   Field Contact                                NaN   \n",
       "37266       36 - 45          Arrest                                NaN   \n",
       "37295       36 - 45   Field Contact                                NaN   \n",
       "37310       36 - 45  Offense Report  Knife/Cutting/Stabbing Instrument   \n",
       "37387       36 - 45   Field Contact                                NaN   \n",
       "38770       36 - 45   Field Contact                                NaN   \n",
       "39172       36 - 45   Field Contact                                NaN   \n",
       "39237       36 - 45   Field Contact                                NaN   \n",
       "39890       36 - 45   Field Contact                                NaN   \n",
       "44694       46 - 55   Field Contact                                NaN   \n",
       "44896       46 - 55  Offense Report                                NaN   \n",
       "45480       46 - 55   Field Contact                                NaN   \n",
       "46039       46 - 55   Field Contact                                NaN   \n",
       "47608  56 and Above  Offense Report                               None   \n",
       "\n",
       "       officer_age officer_gender officer_race  \\\n",
       "3644           115              N      Unknown   \n",
       "7269           117              N      Unknown   \n",
       "9302           118              N      Unknown   \n",
       "11342          119              M      Unknown   \n",
       "11919          119              N      Unknown   \n",
       "12562          119              N      Unknown   \n",
       "20808          118              M      Unknown   \n",
       "25264          119              N      Unknown   \n",
       "25595          119              N      Unknown   \n",
       "27140          119              M      Unknown   \n",
       "27633          119              M      Unknown   \n",
       "28360          119              N      Unknown   \n",
       "28383          119              N      Unknown   \n",
       "30905          116              N      Unknown   \n",
       "31360          116              N      Unknown   \n",
       "34825          119              N      Unknown   \n",
       "36941          119              N      Unknown   \n",
       "37223          119              N      Unknown   \n",
       "37266          119              N      Unknown   \n",
       "37295          119              N      Unknown   \n",
       "37310          119              M      Unknown   \n",
       "37387          119              N      Unknown   \n",
       "38770          119              N      Unknown   \n",
       "39172          119              N      Unknown   \n",
       "39237          119              N      Unknown   \n",
       "39890          119              N      Unknown   \n",
       "44694          119              N      Unknown   \n",
       "44896          119              N      Unknown   \n",
       "45480          119              N      Unknown   \n",
       "46039          119              N      Unknown   \n",
       "47608          118              M      Unknown   \n",
       "\n",
       "                           subject_race subject_gender       date  \\\n",
       "3644          Black or African American           Male 2015-05-19   \n",
       "7269                            Unknown         Female 2017-06-06   \n",
       "9302                              White           Male 2018-02-07   \n",
       "11342                               NaN           Male 2019-05-30   \n",
       "11919                             White         Female 2019-11-27   \n",
       "12562  American Indian or Alaska Native         Female 2019-10-29   \n",
       "20808                             White         Female 2018-05-21   \n",
       "25264                             White         Female 2019-08-15   \n",
       "25595                             White           Male 2019-10-23   \n",
       "27140                               NaN           Male 2019-05-20   \n",
       "27633                             White           Male 2019-05-20   \n",
       "28360                             White           Male 2019-11-02   \n",
       "28383                             White           Male 2019-11-10   \n",
       "30905                             White         Female 2016-01-02   \n",
       "31360                             White           Male 2016-09-14   \n",
       "34825                               NaN           Male 2019-09-22   \n",
       "36941                               NaN         Female 2019-10-28   \n",
       "37223                             White         Female 2019-11-22   \n",
       "37266         Black or African American           Male 2019-06-06   \n",
       "37295                               NaN         Female 2019-07-09   \n",
       "37310                             White           Male 2019-05-14   \n",
       "37387                             White           Male 2019-07-21   \n",
       "38770                             White           Male 2019-11-22   \n",
       "39172                               NaN         Female 2019-09-30   \n",
       "39237                             White           Male 2019-11-10   \n",
       "39890                               NaN           Male 2019-10-24   \n",
       "44694         Black or African American           Male 2019-07-13   \n",
       "44896  American Indian or Alaska Native         Female 2019-10-23   \n",
       "45480                             White           Male 2019-09-22   \n",
       "46039                             White           Male 2019-09-29   \n",
       "47608                          Hispanic           Male 2018-07-10   \n",
       "\n",
       "                                    initial_call_type  \\\n",
       "3644                                              NaN   \n",
       "7269                                              NaN   \n",
       "9302                                              NaN   \n",
       "11342                                             NaN   \n",
       "11919                                             NaN   \n",
       "12562                                             NaN   \n",
       "20808                                             NaN   \n",
       "25264                                             NaN   \n",
       "25595                                             NaN   \n",
       "27140                                             NaN   \n",
       "27633                                             NaN   \n",
       "28360                                             NaN   \n",
       "28383                                             NaN   \n",
       "30905                                             NaN   \n",
       "31360                                             NaN   \n",
       "34825                                             NaN   \n",
       "36941                                             NaN   \n",
       "37223                                             NaN   \n",
       "37266                                             NaN   \n",
       "37295                                             NaN   \n",
       "37310                                             NaN   \n",
       "37387                                             NaN   \n",
       "38770                                             NaN   \n",
       "39172                                             NaN   \n",
       "39237                                             NaN   \n",
       "39890                                             NaN   \n",
       "44694                                             NaN   \n",
       "44896                                             NaN   \n",
       "45480                                             NaN   \n",
       "46039                                             NaN   \n",
       "47608  UNKNOWN - ANI/ALI - WRLS PHNS (INCL OPEN LINE)   \n",
       "\n",
       "                      call_type arrest frisk  \n",
       "3644                        NaN      N     N  \n",
       "7269                        NaN      N     N  \n",
       "9302                        NaN      N     N  \n",
       "11342                       NaN      N     N  \n",
       "11919                       NaN      N     N  \n",
       "12562                       NaN      N     N  \n",
       "20808                       NaN      N     N  \n",
       "25264                       NaN      Y     N  \n",
       "25595                       NaN      Y     N  \n",
       "27140                       NaN      N     N  \n",
       "27633                       NaN      N     N  \n",
       "28360                       NaN      N     N  \n",
       "28383                       NaN      N     N  \n",
       "30905                       NaN      N     N  \n",
       "31360                       NaN      N     N  \n",
       "34825                       NaN      N     N  \n",
       "36941                       NaN      N     N  \n",
       "37223                       NaN      N     N  \n",
       "37266                       NaN      Y     Y  \n",
       "37295                       NaN      N     N  \n",
       "37310                       NaN      N     Y  \n",
       "37387                       NaN      N     N  \n",
       "38770                       NaN      N     N  \n",
       "39172                       NaN      N     N  \n",
       "39237                       NaN      N     N  \n",
       "39890                       NaN      N     N  \n",
       "44694                       NaN      N     N  \n",
       "44896                       NaN      N     N  \n",
       "45480                       NaN      N     N  \n",
       "46039                       NaN      N     N  \n",
       "47608  TELEPHONE OTHER, NOT 911      N     Y  "
      ]
     },
     "execution_count": 18,
     "metadata": {},
     "output_type": "execute_result"
    }
   ],
   "source": [
    "#find all officers greater than age of 70\n",
    "df[df.officer_age >70]"
   ]
  },
  {
   "cell_type": "code",
   "execution_count": 152,
   "metadata": {},
   "outputs": [],
   "source": [
    "#drop ages greater than 70\n",
    "df = df.drop(df[df.officer_age >70].index)"
   ]
  },
  {
   "cell_type": "code",
   "execution_count": 153,
   "metadata": {
    "scrolled": true
   },
   "outputs": [
    {
     "data": {
      "text/plain": [
       "count    47110.000000\n",
       "mean        34.473212\n",
       "std          8.375105\n",
       "min         21.000000\n",
       "25%         28.000000\n",
       "50%         32.000000\n",
       "75%         39.000000\n",
       "max         70.000000\n",
       "Name: officer_age, dtype: float64"
      ]
     },
     "execution_count": 153,
     "metadata": {},
     "output_type": "execute_result"
    }
   ],
   "source": [
    "df.officer_age.describe()"
   ]
  },
  {
   "cell_type": "markdown",
   "metadata": {},
   "source": [
    "#### Officer Gender"
   ]
  },
  {
   "cell_type": "code",
   "execution_count": 154,
   "metadata": {
    "scrolled": true
   },
   "outputs": [
    {
     "data": {
      "text/plain": [
       "['M', 'F']\n",
       "Categories (2, object): ['M', 'F']"
      ]
     },
     "execution_count": 154,
     "metadata": {},
     "output_type": "execute_result"
    }
   ],
   "source": [
    "df.officer_gender.unique()"
   ]
  },
  {
   "cell_type": "markdown",
   "metadata": {},
   "source": [
    "#### Officer Race"
   ]
  },
  {
   "cell_type": "code",
   "execution_count": 155,
   "metadata": {},
   "outputs": [
    {
     "data": {
      "text/plain": [
       "White                            35415\n",
       "Two or More Races                 2738\n",
       "Hispanic or Latino                2716\n",
       "Asian                             2043\n",
       "Black or African American         1819\n",
       "Not Specified                     1626\n",
       "Nat Hawaiian/Oth Pac Islander      440\n",
       "American Indian/Alaska Native      313\n",
       "Unknown                              0\n",
       "Name: officer_race, dtype: int64"
      ]
     },
     "execution_count": 155,
     "metadata": {},
     "output_type": "execute_result"
    }
   ],
   "source": [
    "df.officer_race.value_counts(ascending = False, dropna = False)"
   ]
  },
  {
   "cell_type": "code",
   "execution_count": 156,
   "metadata": {},
   "outputs": [],
   "source": [
    "#combine the 'unkown' with 'Not Specified' to remove unnecessary category\n",
    "df.replace({'officer_race' : {'Unknown':'Not Specified'}}, inplace = True)"
   ]
  },
  {
   "cell_type": "markdown",
   "metadata": {},
   "source": [
    "#### Subject Race"
   ]
  },
  {
   "cell_type": "code",
   "execution_count": 157,
   "metadata": {},
   "outputs": [
    {
     "data": {
      "text/plain": [
       "White                                        23357\n",
       "Black or African American                    14143\n",
       "Unknown                                       2532\n",
       "Hispanic                                      1658\n",
       "Asian                                         1567\n",
       "NaN                                           1464\n",
       "American Indian or Alaska Native              1368\n",
       "Multi-Racial                                   801\n",
       "Other                                          150\n",
       "Native Hawaiian or Other Pacific Islander       70\n",
       "Name: subject_race, dtype: int64"
      ]
     },
     "execution_count": 157,
     "metadata": {},
     "output_type": "execute_result"
    }
   ],
   "source": [
    "df.subject_race.value_counts(ascending = False, dropna = False)"
   ]
  },
  {
   "cell_type": "code",
   "execution_count": 158,
   "metadata": {},
   "outputs": [],
   "source": [
    "#changing the name so it fits in visualizations better.\n",
    "df.replace({'subject_race': {'Native Hawaiian or Other Pacific Islander': 'Nat Hawaiian/Oth Pac Islander'}}, inplace = True)"
   ]
  },
  {
   "cell_type": "code",
   "execution_count": 159,
   "metadata": {},
   "outputs": [
    {
     "data": {
      "text/plain": [
       "White                               23357\n",
       "Black or African American           14143\n",
       "Unknown                              2532\n",
       "Hispanic                             1658\n",
       "Asian                                1567\n",
       "NaN                                  1464\n",
       "American Indian or Alaska Native     1368\n",
       "Multi-Racial                          801\n",
       "Other                                 150\n",
       "Nat Hawaiian/Oth Pac Islander          70\n",
       "Name: subject_race, dtype: int64"
      ]
     },
     "execution_count": 159,
     "metadata": {},
     "output_type": "execute_result"
    }
   ],
   "source": [
    "df.subject_race.value_counts(ascending = False, dropna = False)"
   ]
  },
  {
   "cell_type": "code",
   "execution_count": 160,
   "metadata": {},
   "outputs": [],
   "source": [
    "#drop the NaN values\n",
    "df = df.drop(df[pd.isna(df.subject_race)].index)"
   ]
  },
  {
   "cell_type": "markdown",
   "metadata": {},
   "source": [
    "#### Subject Gender"
   ]
  },
  {
   "cell_type": "code",
   "execution_count": 161,
   "metadata": {},
   "outputs": [
    {
     "data": {
      "text/plain": [
       "Male                                                         36244\n",
       "Female                                                        9260\n",
       "Unable to Determine                                            105\n",
       "Unknown                                                         19\n",
       "NaN                                                             11\n",
       "Gender Diverse (gender non-conforming and/or transgender)        7\n",
       "Name: subject_gender, dtype: int64"
      ]
     },
     "execution_count": 161,
     "metadata": {},
     "output_type": "execute_result"
    }
   ],
   "source": [
    "df.subject_gender.value_counts(ascending = False, dropna = False)"
   ]
  },
  {
   "cell_type": "code",
   "execution_count": 162,
   "metadata": {},
   "outputs": [],
   "source": [
    "#combined \"unknown\" with \"Unable to Determine\", drop NaN. Not statistically significant.\n",
    "df.replace({'subject_gender': {'Unable to Determine':'Unknown'}}, inplace = True)\n",
    "df.replace({'subject_gender': {'Gender Diverse (gender non-conforming and/or transgender)':'Gender Diverse'}}, inplace = True)\n",
    "df = df.drop(df[pd.isna(df.subject_gender)].index)"
   ]
  },
  {
   "cell_type": "code",
   "execution_count": 163,
   "metadata": {},
   "outputs": [
    {
     "data": {
      "text/plain": [
       "Male              36244\n",
       "Female             9260\n",
       "Unknown             124\n",
       "Gender Diverse        7\n",
       "Name: subject_gender, dtype: int64"
      ]
     },
     "execution_count": 163,
     "metadata": {},
     "output_type": "execute_result"
    }
   ],
   "source": [
    "df.subject_gender.value_counts(ascending = False, dropna = False)"
   ]
  },
  {
   "cell_type": "code",
   "execution_count": 164,
   "metadata": {
    "scrolled": true
   },
   "outputs": [
    {
     "data": {
      "text/plain": [
       "Male      36244\n",
       "Female     9260\n",
       "Name: subject_gender, dtype: int64"
      ]
     },
     "execution_count": 164,
     "metadata": {},
     "output_type": "execute_result"
    }
   ],
   "source": [
    "#drop 'unknown' and 'gender diverse' as it's not statistically significant\n",
    "df = df.drop(df[(df.subject_gender) == 'Unknown'].index)\n",
    "df = df.drop(df[(df.subject_gender) == 'Gender Diverse'].index)\n",
    "df.subject_gender.value_counts(ascending = False, dropna = False)"
   ]
  },
  {
   "cell_type": "markdown",
   "metadata": {},
   "source": [
    "#### Date"
   ]
  },
  {
   "cell_type": "code",
   "execution_count": 165,
   "metadata": {
    "scrolled": true
   },
   "outputs": [
    {
     "name": "stderr",
     "output_type": "stream",
     "text": [
      "<ipython-input-165-f7d3fa946723>:1: FutureWarning: Treating datetime data as categorical rather than numeric in `.describe` is deprecated and will be removed in a future version of pandas. Specify `datetime_is_numeric=True` to silence this warning and adopt the future behavior now.\n",
      "  df.date.describe()\n"
     ]
    },
    {
     "data": {
      "text/plain": [
       "count                   45504\n",
       "unique                   2365\n",
       "top       2015-10-01 00:00:00\n",
       "freq                       87\n",
       "first     2015-03-15 00:00:00\n",
       "last      2021-09-04 00:00:00\n",
       "Name: date, dtype: object"
      ]
     },
     "execution_count": 165,
     "metadata": {},
     "output_type": "execute_result"
    }
   ],
   "source": [
    "df.date.describe()"
   ]
  },
  {
   "cell_type": "markdown",
   "metadata": {},
   "source": [
    "#### Call Type"
   ]
  },
  {
   "cell_type": "code",
   "execution_count": 166,
   "metadata": {},
   "outputs": [
    {
     "data": {
      "text/plain": [
       "NaN                                               12579\n",
       "SUSPICIOUS STOP - OFFICER INITIATED ONVIEW         2961\n",
       "SUSPICIOUS PERSON, VEHICLE OR INCIDENT             2881\n",
       "DISTURBANCE, MISCELLANEOUS/OTHER                   2363\n",
       "ASLT - IP/JO - WITH OR W/O WPNS (NO SHOOTINGS)     1985\n",
       "                                                  ...  \n",
       "ALARM - ATM MACHINE, FREE STANDING                    1\n",
       "SICK PERSON                                           1\n",
       "PHONE - OBSCENE OR NUISANCE PHONE CALLS               1\n",
       "INJURED -  PERSON/INDUSTRIAL ACCIDENT                 1\n",
       "HARBOR - WATER EMERGENCIES                            1\n",
       "Name: initial_call_type, Length: 166, dtype: int64"
      ]
     },
     "execution_count": 166,
     "metadata": {},
     "output_type": "execute_result"
    }
   ],
   "source": [
    "df.initial_call_type.value_counts(dropna = False)"
   ]
  },
  {
   "cell_type": "code",
   "execution_count": 167,
   "metadata": {
    "scrolled": true
   },
   "outputs": [
    {
     "data": {
      "text/plain": [
       "165"
      ]
     },
     "execution_count": 167,
     "metadata": {},
     "output_type": "execute_result"
    }
   ],
   "source": [
    "df.initial_call_type.nunique()"
   ]
  },
  {
   "cell_type": "code",
   "execution_count": 168,
   "metadata": {},
   "outputs": [
    {
     "data": {
      "text/plain": [
       "911                              20823\n",
       "NaN                              12579\n",
       "ONVIEW                            8566\n",
       "TELEPHONE OTHER, NOT 911          3195\n",
       "ALARM CALL (NOT POLICE ALARM)      330\n",
       "TEXT MESSAGE                        10\n",
       "SCHEDULED EVENT (RECURRING)          1\n",
       "Name: call_type, dtype: int64"
      ]
     },
     "execution_count": 168,
     "metadata": {},
     "output_type": "execute_result"
    }
   ],
   "source": [
    "df.call_type.value_counts(dropna = False)"
   ]
  },
  {
   "cell_type": "code",
   "execution_count": 169,
   "metadata": {},
   "outputs": [],
   "source": [
    "#dropping these as they are not significant\n",
    "df = df.drop(df[(df.call_type) == 'TEXT MESSAGE'].index)\n",
    "df = df.drop(df[(df.call_type) == 'SCHEDULED EVENT (RECURRING)'].index)\n",
    "df = df.drop(df[(df.call_type) == 'ALARM CALL (NOT POLICE ALARM)'].index)\n",
    "df.replace({'subject_gender': {'Gender Diverse (gender non-conforming and/or transgender)':'Gender Diverse'}}, inplace = True)"
   ]
  },
  {
   "cell_type": "code",
   "execution_count": 170,
   "metadata": {},
   "outputs": [
    {
     "data": {
      "text/plain": [
       "array([nan, '911', 'TELEPHONE OTHER, NOT 911', 'ONVIEW'], dtype=object)"
      ]
     },
     "execution_count": 170,
     "metadata": {},
     "output_type": "execute_result"
    }
   ],
   "source": [
    "df.call_type.unique()"
   ]
  },
  {
   "cell_type": "markdown",
   "metadata": {},
   "source": [
    "#### Frisk"
   ]
  },
  {
   "cell_type": "code",
   "execution_count": 171,
   "metadata": {
    "scrolled": false
   },
   "outputs": [
    {
     "data": {
      "text/plain": [
       "['Y', NaN, 'N']\n",
       "Categories (2, object): ['Y', 'N']"
      ]
     },
     "execution_count": 171,
     "metadata": {},
     "output_type": "execute_result"
    }
   ],
   "source": [
    "df.frisk.unique()"
   ]
  },
  {
   "cell_type": "code",
   "execution_count": 172,
   "metadata": {},
   "outputs": [
    {
     "data": {
      "text/plain": [
       "N      34548\n",
       "Y      10226\n",
       "NaN      389\n",
       "Name: frisk, dtype: int64"
      ]
     },
     "execution_count": 172,
     "metadata": {},
     "output_type": "execute_result"
    }
   ],
   "source": [
    "df.frisk.value_counts(dropna = False)"
   ]
  },
  {
   "cell_type": "code",
   "execution_count": 173,
   "metadata": {},
   "outputs": [],
   "source": [
    "df = df.drop(df[pd.isna(df.frisk)].index)"
   ]
  },
  {
   "cell_type": "markdown",
   "metadata": {},
   "source": [
    "#### Arrest"
   ]
  },
  {
   "cell_type": "code",
   "execution_count": 174,
   "metadata": {
    "scrolled": true
   },
   "outputs": [
    {
     "data": {
      "text/plain": [
       "['N', 'Y']\n",
       "Categories (2, object): ['N', 'Y']"
      ]
     },
     "execution_count": 174,
     "metadata": {},
     "output_type": "execute_result"
    }
   ],
   "source": [
    "df.arrest.unique()"
   ]
  },
  {
   "cell_type": "code",
   "execution_count": 175,
   "metadata": {
    "scrolled": false
   },
   "outputs": [
    {
     "data": {
      "text/plain": [
       "N    41065\n",
       "Y     3709\n",
       "Name: arrest, dtype: int64"
      ]
     },
     "execution_count": 175,
     "metadata": {},
     "output_type": "execute_result"
    }
   ],
   "source": [
    "df.arrest.value_counts(dropna = False)"
   ]
  },
  {
   "cell_type": "markdown",
   "metadata": {},
   "source": [
    "#### Stop Resolution - Result of the stop"
   ]
  },
  {
   "cell_type": "code",
   "execution_count": 176,
   "metadata": {},
   "outputs": [
    {
     "data": {
      "text/plain": [
       "array(['Arrest', 'Field Contact', 'Offense Report',\n",
       "       'Citation / Infraction', 'Referred for Prosecution'], dtype=object)"
      ]
     },
     "execution_count": 176,
     "metadata": {},
     "output_type": "execute_result"
    }
   ],
   "source": [
    "df.stop_resolution.unique()"
   ]
  },
  {
   "cell_type": "code",
   "execution_count": 177,
   "metadata": {},
   "outputs": [],
   "source": [
    "df.stop_resolution.value_counts(dropna = False)\n",
    "df = df.drop(df[(df.stop_resolution) == 'Referred for Prosecution'].index)\n",
    "df = df.drop(df[(df.stop_resolution) == 'Citation / Infraction'].index)"
   ]
  },
  {
   "cell_type": "code",
   "execution_count": 178,
   "metadata": {},
   "outputs": [
    {
     "data": {
      "text/plain": [
       "array(['Arrest', 'Field Contact', 'Offense Report'], dtype=object)"
      ]
     },
     "execution_count": 178,
     "metadata": {},
     "output_type": "execute_result"
    }
   ],
   "source": [
    "df.stop_resolution.unique()"
   ]
  },
  {
   "cell_type": "markdown",
   "metadata": {},
   "source": [
    "#### Weapon Type"
   ]
  },
  {
   "cell_type": "code",
   "execution_count": 179,
   "metadata": {},
   "outputs": [
    {
     "data": {
      "text/plain": [
       "array(['None', 'Firearm Other', 'Lethal Cutting Instrument', 'Handgun',\n",
       "       'Firearm (unk type)', nan, 'Knife/Cutting/Stabbing Instrument',\n",
       "       'Mace/Pepper Spray', 'Other Firearm', 'None/Not Applicable',\n",
       "       'Club', 'Club, Blackjack, Brass Knuckles', 'Rifle',\n",
       "       'Blunt Object/Striking Implement', 'Firearm',\n",
       "       'Fire/Incendiary Device', 'Taser/Stun Gun', 'Shotgun',\n",
       "       'Automatic Handgun', 'Blackjack',\n",
       "       'Personal Weapons (hands, feet, etc.)'], dtype=object)"
      ]
     },
     "execution_count": 179,
     "metadata": {},
     "output_type": "execute_result"
    }
   ],
   "source": [
    "df.weapon_type.unique()"
   ]
  },
  {
   "cell_type": "code",
   "execution_count": 180,
   "metadata": {
    "scrolled": false
   },
   "outputs": [
    {
     "data": {
      "text/plain": [
       "None                                    30076\n",
       "NaN                                     11171\n",
       "Lethal Cutting Instrument                1381\n",
       "Knife/Cutting/Stabbing Instrument         644\n",
       "Handgun                                   277\n",
       "Firearm Other                              88\n",
       "Blunt Object/Striking Implement            84\n",
       "Club, Blackjack, Brass Knuckles            46\n",
       "Firearm                                    42\n",
       "Mace/Pepper Spray                          28\n",
       "Other Firearm                              21\n",
       "Firearm (unk type)                         13\n",
       "Taser/Stun Gun                             10\n",
       "None/Not Applicable                         9\n",
       "Club                                        8\n",
       "Fire/Incendiary Device                      7\n",
       "Rifle                                       7\n",
       "Shotgun                                     3\n",
       "Personal Weapons (hands, feet, etc.)        2\n",
       "Blackjack                                   1\n",
       "Automatic Handgun                           1\n",
       "Name: weapon_type, dtype: int64"
      ]
     },
     "execution_count": 180,
     "metadata": {},
     "output_type": "execute_result"
    }
   ],
   "source": [
    "df.weapon_type.value_counts(dropna=False)"
   ]
  },
  {
   "cell_type": "markdown",
   "metadata": {},
   "source": [
    "#### Create the dictionary that will be used for replacing string categories with values"
   ]
  },
  {
   "cell_type": "code",
   "execution_count": 181,
   "metadata": {},
   "outputs": [],
   "source": [
    "clean_flags = {'frisk' : {'Y' : 1, 'N' : 0}, \n",
    "              'arrest' : {'Y' : 1, 'N' : 0}}"
   ]
  },
  {
   "cell_type": "markdown",
   "metadata": {},
   "source": [
    "### Look at final shape."
   ]
  },
  {
   "cell_type": "code",
   "execution_count": 182,
   "metadata": {},
   "outputs": [
    {
     "data": {
      "text/plain": [
       "(43919, 13)"
      ]
     },
     "execution_count": 182,
     "metadata": {},
     "output_type": "execute_result"
    }
   ],
   "source": [
    "df.shape"
   ]
  },
  {
   "cell_type": "markdown",
   "metadata": {},
   "source": [
    "### Save cleaned data to CSV."
   ]
  },
  {
   "cell_type": "code",
   "execution_count": 183,
   "metadata": {},
   "outputs": [],
   "source": [
    "df.to_csv('data/cleaned_data')"
   ]
  }
 ],
 "metadata": {
  "kernelspec": {
   "display_name": "Python 3",
   "language": "python",
   "name": "python3"
  },
  "language_info": {
   "codemirror_mode": {
    "name": "ipython",
    "version": 3
   },
   "file_extension": ".py",
   "mimetype": "text/x-python",
   "name": "python",
   "nbconvert_exporter": "python",
   "pygments_lexer": "ipython3",
   "version": "3.8.5"
  }
 },
 "nbformat": 4,
 "nbformat_minor": 4
}
